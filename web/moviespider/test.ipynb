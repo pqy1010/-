{
 "nbformat": 4,
 "nbformat_minor": 2,
 "metadata": {
  "language_info": {
   "name": "python",
   "codemirror_mode": {
    "name": "ipython",
    "version": 3
   },
   "version": "3.7.4-final"
  },
  "orig_nbformat": 2,
  "file_extension": ".py",
  "mimetype": "text/x-python",
  "name": "python",
  "npconvert_exporter": "python",
  "pygments_lexer": "ipython3",
  "version": 3,
  "kernelspec": {
   "name": "python3",
   "display_name": "Python 3"
  }
 },
 "cells": [
  {
   "cell_type": "code",
   "execution_count": 8,
   "metadata": {},
   "outputs": [],
   "source": [
    "from requests_html import BaseSession\n",
    "\n",
    "session=BaseSession()\n",
    "\n",
    "r=session.get('http://www.okzy.co/')"
   ]
  },
  {
   "cell_type": "code",
   "execution_count": 11,
   "metadata": {},
   "outputs": [
    {
     "output_type": "execute_result",
     "data": {
      "text/plain": "{'/',\n '//www.okzy10.com/index.php?m=gbook-show.html',\n '/?m=vod-detail-id-28282.html',\n '/?m=vod-detail-id-42253.html',\n '/?m=vod-detail-id-44960.html',\n '/?m=vod-detail-id-45629.html',\n '/?m=vod-detail-id-46060.html',\n '/?m=vod-detail-id-46481.html',\n '/?m=vod-detail-id-47309.html',\n '/?m=vod-detail-id-47445.html',\n '/?m=vod-detail-id-48817.html',\n '/?m=vod-detail-id-49365.html',\n '/?m=vod-detail-id-49366.html',\n '/?m=vod-detail-id-49681.html',\n '/?m=vod-detail-id-50191.html',\n '/?m=vod-detail-id-50331.html',\n '/?m=vod-detail-id-50834.html',\n '/?m=vod-detail-id-51465.html',\n '/?m=vod-detail-id-51466.html',\n '/?m=vod-detail-id-52005.html',\n '/?m=vod-detail-id-52140.html',\n '/?m=vod-detail-id-52141.html',\n '/?m=vod-detail-id-52845.html',\n '/?m=vod-detail-id-52846.html',\n '/?m=vod-detail-id-53376.html',\n '/?m=vod-detail-id-53464.html',\n '/?m=vod-detail-id-53465.html',\n '/?m=vod-detail-id-53466.html',\n '/?m=vod-detail-id-53467.html',\n '/?m=vod-detail-id-53468.html',\n '/?m=vod-detail-id-53469.html',\n '/?m=vod-detail-id-53470.html',\n '/?m=vod-detail-id-53471.html',\n '/?m=vod-detail-id-53472.html',\n '/?m=vod-detail-id-53473.html',\n '/?m=vod-detail-id-53474.html',\n '/?m=vod-detail-id-53475.html',\n '/?m=vod-detail-id-53476.html',\n '/?m=vod-detail-id-53477.html',\n '/?m=vod-detail-id-53478.html',\n '/?m=vod-detail-id-53479.html',\n '/?m=vod-detail-id-53480.html',\n '/?m=vod-detail-id-53481.html',\n '/?m=vod-detail-id-53482.html',\n '/?m=vod-detail-id-53483.html',\n '/?m=vod-detail-id-53484.html',\n '/?m=vod-detail-id-53485.html',\n '/?m=vod-detail-id-53486.html',\n '/?m=vod-detail-id-53487.html',\n '/?m=vod-detail-id-53488.html',\n '/?m=vod-detail-id-53489.html',\n '/?m=vod-detail-id-53490.html',\n '/?m=vod-index-pg-1036.html',\n '/?m=vod-index-pg-2.html',\n '/?m=vod-index-pg-3.html',\n '/?m=vod-index-pg-4.html',\n '/?m=vod-index-pg-5.html',\n '/?m=vod-index-pg-6.html',\n '/?m=vod-type-id-1.html',\n '/?m=vod-type-id-10.html',\n '/?m=vod-type-id-11.html',\n '/?m=vod-type-id-12.html',\n '/?m=vod-type-id-13.html',\n '/?m=vod-type-id-14.html',\n '/?m=vod-type-id-15.html',\n '/?m=vod-type-id-16.html',\n '/?m=vod-type-id-17.html',\n '/?m=vod-type-id-18.html',\n '/?m=vod-type-id-19.html',\n '/?m=vod-type-id-2.html',\n '/?m=vod-type-id-20.html',\n '/?m=vod-type-id-21.html',\n '/?m=vod-type-id-22.html',\n '/?m=vod-type-id-23.html',\n '/?m=vod-type-id-24.html',\n '/?m=vod-type-id-25.html',\n '/?m=vod-type-id-26.html',\n '/?m=vod-type-id-27.html',\n '/?m=vod-type-id-28.html',\n '/?m=vod-type-id-29.html',\n '/?m=vod-type-id-3.html',\n '/?m=vod-type-id-31.html',\n '/?m=vod-type-id-32.html',\n '/?m=vod-type-id-33.html',\n '/?m=vod-type-id-34.html',\n '/?m=vod-type-id-4.html',\n '/?m=vod-type-id-5.html',\n '/?m=vod-type-id-6.html',\n '/?m=vod-type-id-7.html',\n '/?m=vod-type-id-8.html',\n '/?m=vod-type-id-9.html',\n '/dowm/ctcms.zip',\n '/help/',\n '/index.php?m=map-baidu.html',\n '/index.php?m=map-google.html',\n '/index.php?m=map-rss.html',\n 'http://www.2w.cm/',\n 'http://www.okcms.tv',\n 'https://jq.qq.com/?_wv=1027&k=5T3yFYB',\n 'https://t.me/okzywcom',\n 'https://www.okzyw.com',\n 'https://www.okzyw.com/',\n 'jz',\n 'okzyw.zip',\n 'tuxg.txt',\n 'yiming.txt'}"
     },
     "metadata": {},
     "execution_count": 11
    }
   ],
   "source": [
    "r.html.links"
   ]
  },
  {
   "cell_type": "code",
   "execution_count": 5,
   "metadata": {
    "tags": [
     "outputPrepend",
     "outputPrepend"
    ]
   },
   "outputs": [
    {
     "output_type": "stream",
     "name": "stdout",
     "text": "https://tu.tianzuida.com/pic/upload/vod/2020-03-18/202003181584498323.jpg\n"
    }
   ],
   "source": [
    "a=r.html.xpath(\"//img[@class='lazy']/attribute::src\")\n",
    "for i in range(len(a)):\n",
    "    print(a[i])\n",
    ""
   ]
  },
  {
   "cell_type": "code",
   "execution_count": 6,
   "metadata": {},
   "outputs": [
    {
     "output_type": "stream",
     "name": "stdout",
     "text": "1--别名：zhizouhualuba\n2--状态：更新至116集/共120集 时间：2020-04-07 11:04:36\n3--主演：崔允素,薛正焕,沈智浩,鲜于在德\n4--导演：朴基贤\n5--类型：韩剧 扩展：剧情 地区：韩国 年份：2019\n6--语言：中文字幕 集数：120 时长：内详 点击：375\n"
    }
   ],
   "source": [
    "b=r.html.xpath(\"//div[@class='stui-content__detail']//p\")\n",
    "for i in range(len(b)):\n",
    "    print(str(i+1)+'--'+b[i].text)\n",
    ""
   ]
  },
  {
   "cell_type": "code",
   "execution_count": 13,
   "metadata": {},
   "outputs": [],
   "source": [
    "r.html.next()"
   ]
  },
  {
   "cell_type": "code",
   "execution_count": 87,
   "metadata": {},
   "outputs": [
    {
     "output_type": "stream",
     "name": "stdout",
     "text": "link=/index.php/vod/detail/id/16778.html\nmovie name=夫妻的世界\nlink=/index.php/vod/detail/id/16777.html\nmovie name=怪咖！文主厨\nlink=/index.php/vod/detail/id/16275.html\nmovie name=你好 再见，妈妈！/ Hi Bye Mama!\nlink=/index.php/vod/detail/id/16236.html\nmovie name=富豪辩护人 / 鬣狗\nlink=/index.php/vod/detail/id/16793.html\nmovie name=结过一次了 / Once Again\nlink=/index.php/vod/detail/id/16792.html\nmovie name=巡夜人日志 / 抓鬼者日记\nlink=/index.php/vod/detail/id/16791.html\nmovie name=羞耻(比利时版)第三季\nlink=/index.php/vod/detail/id/16790.html\nmovie name=羞耻(比利时版)第二季\nlink=/index.php/vod/detail/id/16789.html\nmovie name=羞耻(比利时版)第一季\nlink=/index.php/vod/detail/id/16788.html\nmovie name=终极蜘蛛侠第三季\nlink=/index.php/vod/detail/id/16787.html\nmovie name=魔法保姆麦克菲2\nlink=/index.php/vod/detail/id/16786.html\nmovie name=魔法保姆麦克菲\nlink=/index.php/vod/detail/id/16785.html\nmovie name=咒怨3(美版)\nlink=/index.php/vod/detail/id/16784.html\nmovie name=一九四四\nlink=/index.php/vod/detail/id/16783.html\nmovie name=深海异兽\nlink=/index.php/vod/detail/id/16782.html\nmovie name=莫斯科陷落2\nlink=/index.php/vod/detail/id/16781.html\nmovie name=变焦\nlink=/index.php/vod/detail/id/16780.html\nmovie name=杀发\nlink=/index.php/vod/detail/id/16775.html\nmovie name=黑钱胜地第三季\nlink=/index.php/vod/detail/id/16779.html\nmovie name=扪心问诊第一季\nlink=/index.php/vod/detail/id/15754.html\nmovie name=智商跟不上第一季\nlink=/index.php/vod/detail/id/9143.html\nmovie name=女作家与谋杀案第七季\nlink=/index.php/vod/detail/id/16776.html\nmovie name=她之觉醒第一季\nlink=/index.php/vod/detail/id/16774.html\nmovie name=入选第一季\nlink=/index.php/vod/detail/id/16773.html\nmovie name=编舟记\nlink=/index.php/vod/detail/id/16772.html\nmovie name=爱你，西蒙\nlink=/index.php/vod/detail/id/16720.html\nmovie name=女子无畏第四季\nlink=/index.php/vod/detail/id/14318.html\nmovie name=联邦调查局第二季\nlink=/index.php/vod/detail/id/15961.html\nmovie name=父母债后辈偿第一季\nlink=/index.php/vod/detail/id/14343.html\nmovie name=爆笑超市第五季\nlink=/index.php/vod/detail/id/15965.html\nmovie name=神烦警探第七季\nlink=/index.php/vod/detail/id/14706.html\nmovie name=喜新不厌旧第六季\nlink=/index.php/vod/detail/id/14319.html\nmovie name=实习医生格蕾第十六季\nlink=/index.php/vod/detail/id/15513.html\nmovie name=副警长第一季\nlink=/index.php/vod/detail/id/15760.html\nmovie name=呼叫助产士第九季\nlink=/index.php/vod/detail/id/16462.html\nmovie name=惊异传奇第一季\n"
    }
   ],
   "source": [
    "from requests_html import HTML\n",
    "for ele in (r.html.xpath(\"//li[@class='clearfix']\")):\n",
    "    alaber=HTML(html=ele.html).xpath(\"//h3//a[@href]\")[0]\n",
    "    print('link=%s'%alaber.attrs['href'])\n",
    "    print('movie name=%s'%alaber.attrs['title'])\n",
    ""
   ]
  },
  {
   "cell_type": "code",
   "execution_count": null,
   "metadata": {},
   "outputs": [],
   "source": []
  },
  {
   "cell_type": "code",
   "execution_count": 96,
   "metadata": {},
   "outputs": [
    {
     "output_type": "stream",
     "name": "stdout",
     "text": "夫妻的世界--/index.php/vod/detail/id/16778.html\n怪咖！文主厨--/index.php/vod/detail/id/16777.html\n你好 再见，妈妈！/ Hi Bye Mama!--/index.php/vod/detail/id/16275.html\n富豪辩护人 / 鬣狗--/index.php/vod/detail/id/16236.html\n结过一次了 / Once Again--/index.php/vod/detail/id/16793.html\n巡夜人日志 / 抓鬼者日记--/index.php/vod/detail/id/16792.html\n羞耻(比利时版)第三季--/index.php/vod/detail/id/16791.html\n羞耻(比利时版)第二季--/index.php/vod/detail/id/16790.html\n羞耻(比利时版)第一季--/index.php/vod/detail/id/16789.html\n终极蜘蛛侠第三季--/index.php/vod/detail/id/16788.html\n魔法保姆麦克菲2--/index.php/vod/detail/id/16787.html\n魔法保姆麦克菲--/index.php/vod/detail/id/16786.html\n咒怨3(美版)--/index.php/vod/detail/id/16785.html\n一九四四--/index.php/vod/detail/id/16784.html\n深海异兽--/index.php/vod/detail/id/16783.html\n莫斯科陷落2--/index.php/vod/detail/id/16782.html\n变焦--/index.php/vod/detail/id/16781.html\n杀发--/index.php/vod/detail/id/16780.html\n黑钱胜地第三季--/index.php/vod/detail/id/16775.html\n扪心问诊第一季--/index.php/vod/detail/id/16779.html\n智商跟不上第一季--/index.php/vod/detail/id/15754.html\n女作家与谋杀案第七季--/index.php/vod/detail/id/9143.html\n她之觉醒第一季--/index.php/vod/detail/id/16776.html\n入选第一季--/index.php/vod/detail/id/16774.html\n编舟记--/index.php/vod/detail/id/16773.html\n爱你，西蒙--/index.php/vod/detail/id/16772.html\n女子无畏第四季--/index.php/vod/detail/id/16720.html\n联邦调查局第二季--/index.php/vod/detail/id/14318.html\n父母债后辈偿第一季--/index.php/vod/detail/id/15961.html\n爆笑超市第五季--/index.php/vod/detail/id/14343.html\n神烦警探第七季--/index.php/vod/detail/id/15965.html\n喜新不厌旧第六季--/index.php/vod/detail/id/14706.html\n实习医生格蕾第十六季--/index.php/vod/detail/id/14319.html\n副警长第一季--/index.php/vod/detail/id/15513.html\n呼叫助产士第九季--/index.php/vod/detail/id/15760.html\n惊异传奇第一季--/index.php/vod/detail/id/16462.html\n"
    }
   ],
   "source": [
    "for li in (r.html.xpath(\"//li[@class='clearfix']\")):#li laber\n",
    "    lihtml=HTML(html=li.html)\n",
    "    a_ele=lihtml.xpath(\"//h3//a\")[0]\n",
    "    moviename=a_ele.attrs['title']\n",
    "    movielink=a_ele.attrs['href']\n",
    "    print(moviename+'--'+movielink)"
   ]
  },
  {
   "cell_type": "code",
   "execution_count": 109,
   "metadata": {},
   "outputs": [
    {
     "output_type": "execute_result",
     "data": {
      "text/plain": "'2020-03-28 09:03:39'"
     },
     "metadata": {},
     "execution_count": 109
    }
   ],
   "source": [
    "lihtml.xpath(\"//span[@class='time']\")[0].text"
   ]
  },
  {
   "cell_type": "code",
   "execution_count": 97,
   "metadata": {},
   "outputs": [],
   "source": [
    "moviepage=session.get('https://www.rrzy.cc/index.php/vod/detail/id/14318.html')"
   ]
  },
  {
   "cell_type": "code",
   "execution_count": 117,
   "metadata": {},
   "outputs": [
    {
     "output_type": "stream",
     "name": "stdout",
     "text": "别名：\n状态：\n主演：\n导演：\n类型：\n扩展：\n地区：\n年份：\n语言：\n集数：\n时长：\n点击：\n"
    }
   ],
   "source": [
    "for line in moviepage.html.xpath(\"//span[@class='text-muted']\"):\n",
    "    print(line.text)"
   ]
  },
  {
   "cell_type": "code",
   "execution_count": 129,
   "metadata": {},
   "outputs": [
    {
     "output_type": "stream",
     "name": "stdout",
     "text": "别名：lianbangdiaochajudierji\n--------------------------\n状态：更新至18集\n--------------------------\n时间：2020-03-28\n--------------------------\n09:03:54\n--------------------------\n主演：梅西·帕瑞格兰,泽科·扎基,埃博尼·诺埃尔,杰瑞米·西斯托\n--------------------------\n导演：涅尔斯·阿登·欧普勒夫,尼克·戈麦斯\n--------------------------\n类型：悬疑烧脑\n--------------------------\n扩展：剧情,犯罪\n--------------------------\n地区：美国\n--------------------------\n年份：2019\n--------------------------\n语言：中文字幕\n--------------------------\n集数：0\n--------------------------\n时长：43分钟\n--------------------------\n点击：72\n--------------------------\n"
    }
   ],
   "source": [
    "b={}\n",
    "for a in moviepage.html.xpath(\"//p[@class='data hidden-xs']|//p[@class='data']\"):\n",
    "\n",
    "    for i in a.text.split(' '):\n",
    "        print(i)\n",
    "        print('--------------------------')\n",
    "        sep=i.find('：')\n",
    "        if sep<=1:\n",
    "            continue\n",
    "        b[i[:sep+1]]=i[sep+1:]"
   ]
  },
  {
   "cell_type": "code",
   "execution_count": 130,
   "metadata": {},
   "outputs": [
    {
     "output_type": "execute_result",
     "data": {
      "text/plain": "{'别名：': 'lianbangdiaochajudierji',\n '状态：': '更新至18集',\n '时间：': '2020-03-28',\n '主演：': '梅西·帕瑞格兰,泽科·扎基,埃博尼·诺埃尔,杰瑞米·西斯托',\n '导演：': '涅尔斯·阿登·欧普勒夫,尼克·戈麦斯',\n '类型：': '悬疑烧脑',\n '扩展：': '剧情,犯罪',\n '地区：': '美国',\n '年份：': '2019',\n '语言：': '中文字幕',\n '集数：': '0',\n '时长：': '43分钟',\n '点击：': '72'}"
     },
     "metadata": {},
     "execution_count": 130
    }
   ],
   "source": [
    "b"
   ]
  },
  {
   "cell_type": "code",
   "execution_count": 132,
   "metadata": {},
   "outputs": [
    {
     "output_type": "execute_result",
     "data": {
      "text/plain": "'https://tu.511.la/uploads/190928/280509248479.jpg'"
     },
     "metadata": {},
     "execution_count": 132
    }
   ],
   "source": [
    "moviepage.html.xpath(\"//a[@class='copy_btn text-muted']\")[0].attrs['data-text']"
   ]
  },
  {
   "cell_type": "code",
   "execution_count": 142,
   "metadata": {},
   "outputs": [
    {
     "output_type": "error",
     "ename": "SyntaxError",
     "evalue": "can't use starred expression here (<ipython-input-142-364fa7f14a20>, line 5)",
     "traceback": [
      "\u001b[1;36m  File \u001b[1;32m\"<ipython-input-142-364fa7f14a20>\"\u001b[1;36m, line \u001b[1;32m5\u001b[0m\n\u001b[1;31mSyntaxError\u001b[0m\u001b[1;31m:\u001b[0m can't use starred expression here\n"
     ]
    }
   ],
   "source": [
    "import os\n",
    "[files for root, dirs, files in os.walk(\".\", topdown=False)"
   ]
  },
  {
   "cell_type": "code",
   "execution_count": 146,
   "metadata": {},
   "outputs": [
    {
     "output_type": "stream",
     "name": "stdout",
     "text": "['spider.py', 'test.ipynb', 'url.txt']\n"
    }
   ],
   "source": [
    "for root, dirs, files in os.walk(\".\"):\n",
    "    print(files)"
   ]
  },
  {
   "cell_type": "code",
   "execution_count": 164,
   "metadata": {},
   "outputs": [
    {
     "output_type": "stream",
     "name": "stdout",
     "text": "首页\n上一页\n1\n2\n3\n4\n5\n1/292\n下一页\n/index.php/index/index/page/2.html\n尾页\n"
    }
   ],
   "source": [
    "stui_page=r.html.xpath(\"//ul[@class='stui-page text-center clearfix']//li\")\n",
    "for pageli in stui_page:\n",
    "    print(pageli.text)\n",
    "    if pageli.text=='下一页':\n",
    "        print(HTML(html=pageli.html).links.pop())"
   ]
  },
  {
   "cell_type": "code",
   "execution_count": 173,
   "metadata": {},
   "outputs": [
    {
     "output_type": "execute_result",
     "data": {
      "text/plain": "'CBS续订剧集FBI第二季'"
     },
     "metadata": {},
     "execution_count": 173
    }
   ],
   "source": [
    "moviepage.html.xpath(\"//div[@class='stui-content__desc col-pd clearfix']\").pop().text"
   ]
  },
  {
   "cell_type": "code",
   "execution_count": 177,
   "metadata": {},
   "outputs": [],
   "source": [
    "import json\n",
    "json_response = {'1':1,'2':2,'34':{'3':3,'4':4}}\n",
    "dict_json = json.dumps(json_response)"
   ]
  },
  {
   "cell_type": "code",
   "execution_count": 179,
   "metadata": {},
   "outputs": [
    {
     "output_type": "execute_result",
     "data": {
      "text/plain": "str"
     },
     "metadata": {},
     "execution_count": 179
    }
   ],
   "source": [
    "type(dict_json)"
   ]
  },
  {
   "cell_type": "code",
   "execution_count": 1,
   "metadata": {},
   "outputs": [],
   "source": [
    "from requests_html import HTMLSession\n",
    "import json\n",
    "import os\n",
    "import time\n",
    "from requests_html import HTML\n",
    "import pandas\n",
    "import csv\n",
    "import pdb\n",
    "\n",
    "\n",
    "class WebMovie():\n",
    "    urllists=[]\n",
    "    movieclass=['剧情','喜剧','动作','爱情','科幻','动画','悬疑','惊悚','恐怖','犯罪','同性','音乐','歌舞','传记','历史','战争','西部','奇幻','冒险','灾难','武侠','情色','av']\n",
    "    znfield=['名称','更新','封面','描述','别名','状态', '时间', '主演', '导演', '类型', '扩展', '地区', '年份', '语言', '集数', '时长', '点击']\n",
    "    enfiled=['moviename','updatetime','movieimg','moviedescrib','othername','moviestatus','movieborntime','actor','director','movieclass','classextant','country','year','lang','episodr','movielen','click']\n",
    "    def __init__(self):\n",
    "        self.urllists=[]\n",
    "        with open('url.txt','r') as f:\n",
    "            self.urllists.append(f.read())\n",
    "        for root, dirs, files in os.walk(\".\", topdown=False):\n",
    "            if 'rrzy_startdate.tim' in files:\n",
    "                self.rrzy_state='update'\n",
    "            else:\n",
    "                self.rrzy_state='all'\n",
    "        \n",
    "    def get_rrzy(self,url,rrzy_state):#获取rrzy的电影目录和链接\n",
    "        if rrzy_state=='update':\n",
    "            with open('rrzy_startdate.tim','r') as f:\n",
    "                startdate=float(f.read())\n",
    "                savedate=None\n",
    "        elif rrzy_state=='all':\n",
    "            startdate=None\n",
    "        else:\n",
    "            startdate=None\n",
    "        movielist={}\n",
    "        spiderflag=True\n",
    "        count=0\n",
    "        session = HTMLSession()\n",
    "        print('geting web')\n",
    "        absoluteurl=url\n",
    "        while(spiderflag and absoluteurl!=None):\n",
    "            \n",
    "            r=session.get(absoluteurl)\n",
    "            print('get web %s'%absoluteurl)\n",
    "            for li in (r.html.xpath(\"//li[@class='clearfix']\")):#li laber\n",
    "                movieinfo={}\n",
    "                count+=1\n",
    "                try:\n",
    "                    #获取电影列表\n",
    "                    lihtml=HTML(html=li.html)\n",
    "                    a_ele=lihtml.xpath(\"//h3//a\")[0]\n",
    "                    moviename=a_ele.attrs['title']\n",
    "                    movielink=a_ele.attrs['href']\n",
    "                    \n",
    "                    movieinfo['moviename']=moviename#保存电影名称\n",
    "                    updatetime=lihtml.xpath(\"//span[@class='time']\")[0].text\n",
    "                    movieinfo['updatetime']=time.mktime(time.strptime(updatetime,\"%Y-%m-%d %H:%M:%S\"))#保存上传时间戳\n",
    "                    if savedate==None:\n",
    "                        print('update savedate')\n",
    "                        savedate=movieinfo['updatetime']\n",
    "                    if startdate!=None and movieinfo['updatetime']<=startdate:\n",
    "                        print('save savedate')\n",
    "                        with open('rrzy_startdate.tim','w') as f:\n",
    "                            f.write(str(savedate))\n",
    "                            spiderflag=False\n",
    "                            continue\n",
    "                    #获取电影详情\n",
    "                    moviepage=session.get(url+movielink)\n",
    "                    movieimageurl=moviepage.html.xpath(\"//a[@class='copy_btn text-muted']\")[0].attrs['data-text']\n",
    "                    movieinfo['moveimg']=movieimageurl#封面\n",
    "\n",
    "                    movieinfo['moviedescrib']=moviepage.html.xpath(\"//div[@class='stui-content__desc col-pd clearfix']\")[0].text\n",
    "\n",
    "                    for movestate in moviepage.html.xpath(\"//p[@class='data hidden-xs']|//p[@class='data']\"):\n",
    "                        for i in movestate.text.split(' '):\n",
    "                            sep=i.find('：')\n",
    "                            if sep<=1:\n",
    "                                continue\n",
    "                            if i[:sep] in self.znfield:\n",
    "                                index=self.znfield.index(i[:sep])\n",
    "                                movieinfo[self.enfiled[index]]=i[sep+1:]\n",
    "                            else:\n",
    "                                movieinfo[i[:sep+1]]=i[sep+1:]\n",
    "\n",
    "\n",
    "                    movieinfo['links']={}\n",
    "                    for subset in moviepage.html.xpath(\"//a[@class='copy_text']\"):\n",
    "                        sep=subset.text.find('$')\n",
    "                        subsetlabel=subset.text[:sep]\n",
    "                        subseturl=subset.text[sep+1:]\n",
    "                        movieinfo['links'][subsetlabel]=subseturl\n",
    "                except:\n",
    "                    print('some error')\n",
    "                    spiderflag=False\n",
    "                    continue\n",
    "                movielist[str(count)]=movieinfo\n",
    "                del movieinfo\n",
    "        \n",
    "            #寻找下一页\n",
    "            stui_page=r.html.xpath(\"//ul[@class='stui-page text-center clearfix']//li\")\n",
    "            absoluteurl=None\n",
    "            for pageli in stui_page:\n",
    "                if pageli.text=='下一页':\n",
    "                    absoluteurl=url+HTML(html=pageli.html).links.pop()#获取下一页，set集合\n",
    "        #存储数据\n",
    "        savedata=json.dumps(movielist)\n",
    "        with open('rrxy'+time.strftime('%Y-%m-%d_%H-%M-%S',time.localtime())+'.json','+w') as f:\n",
    "            f.write(savedata)\n",
    "\n",
    "\n",
    "\n",
    "\n",
    "\n",
    "    def spiderrun(self):\n",
    "        for url in self.urllists:\n",
    "            if 'www.rrzy.cc' in url:\n",
    "                print('begain get data')\n",
    "                self.get_rrzy(url,self.rrzy_state)\n",
    ""
   ]
  },
  {
   "cell_type": "code",
   "execution_count": 2,
   "metadata": {},
   "outputs": [
    {
     "output_type": "stream",
     "name": "stdout",
     "text": "i:\\pythonproject\\shixishe\\web\\moviespider\nbegain get data\ngeting web\nget web https://www.rrzy.cc/\nupdate savedate\nsave savedate\nsave savedate\nsave savedate\nsave savedate\nsave savedate\nsave savedate\nsave savedate\nsave savedate\nsave savedate\nsave savedate\nsave savedate\nsave savedate\n"
    }
   ],
   "source": [
    "print(os.getcwd())\n",
    "spider=WebMovie()\n",
    "spider.spiderrun()"
   ]
  },
  {
   "cell_type": "code",
   "execution_count": 7,
   "metadata": {},
   "outputs": [
    {
     "output_type": "execute_result",
     "data": {
      "text/plain": "1586233127.6337037"
     },
     "metadata": {},
     "execution_count": 7
    }
   ],
   "source": [
    "import time\n",
    "time.time()-24*60*60\n",
    ""
   ]
  },
  {
   "cell_type": "code",
   "execution_count": 7,
   "metadata": {},
   "outputs": [],
   "source": [
    "with open('rrxy'+time.strftime('%Y-%m-%d_%H-%M-%S',time.localtime())+'.json','w+') as f:\n",
    "    f.write('kdjflskdj')"
   ]
  },
  {
   "cell_type": "code",
   "execution_count": 3,
   "metadata": {},
   "outputs": [],
   "source": [
    "with open('rrxy2020-03-30_21-02-13.json','r') as f:\n",
    "    b=f.read()\n",
    "a=json.loads(b)"
   ]
  },
  {
   "cell_type": "code",
   "execution_count": 4,
   "metadata": {},
   "outputs": [
    {
     "output_type": "execute_result",
     "data": {
      "text/plain": "{'moviename': '暗黑天使第五季',\n 'updatetime': 1585555438.0,\n 'moveimg': 'https://tu.511.la/uploads/200330/300434102671.jpg',\n 'moviedescrib': '暗黑天使第五季',\n 'othername': 'anheitianshidiwuji',\n 'status': '完结/共22集',\n 'time': '2020-03-30',\n 'actor': '大卫·伯伦纳兹,埃里克斯·德尼索夫,J.',\n 'director': '内详',\n 'movieclass': '科幻动作',\n 'classextant': '剧情,动作,奇幻',\n 'location': '美国',\n 'year': '2003',\n 'lang': '中文字幕',\n 'episodr': '0',\n 'movielen': '45分钟',\n 'click': '8',\n 'links': {'第01集': 'https://meiju10.qfxmj.com/20200330/qCCxGfur/index.m3u8',\n  '第02集': 'https://meiju10.qfxmj.com/20200330/wdO7vq15/index.m3u8',\n  '第03集': 'https://meiju10.qfxmj.com/20200330/RHoRreTn/index.m3u8',\n  '第04集': 'https://meiju10.qfxmj.com/20200330/SBHd8n69/index.m3u8',\n  '第05集': 'https://meiju10.qfxmj.com/20200330/cEGcHOeT/index.m3u8',\n  '第06集': 'https://meiju10.qfxmj.com/20200330/uHTgXNzu/index.m3u8',\n  '第07集': 'https://meiju10.qfxmj.com/20200330/6dYG0YqR/index.m3u8',\n  '第08集': 'https://meiju10.qfxmj.com/20200330/Yy1SzSAV/index.m3u8',\n  '第09集': 'https://meiju10.qfxmj.com/20200330/mPPDpqSX/index.m3u8',\n  '第10集': 'https://meiju10.qfxmj.com/20200330/tLMunqv1/index.m3u8',\n  '第11集': 'https://meiju10.qfxmj.com/20200330/pgjD6uKb/index.m3u8',\n  '第12集': 'https://meiju10.qfxmj.com/20200330/EZFKqK7F/index.m3u8',\n  '第13集': 'https://meiju10.qfxmj.com/20200330/HVKbhCud/index.m3u8',\n  '第14集': 'https://meiju10.qfxmj.com/20200330/aO2Ks3TT/index.m3u8',\n  '第15集': 'https://meiju10.qfxmj.com/20200330/XjD2eU9H/index.m3u8',\n  '第16集': 'https://meiju10.qfxmj.com/20200330/zE2VS1w5/index.m3u8',\n  '第17集': 'https://meiju10.qfxmj.com/20200330/hM55qh9r/index.m3u8',\n  '第18集': 'https://meiju10.qfxmj.com/20200330/9Nw91ebG/index.m3u8',\n  '第19集': 'https://meiju10.qfxmj.com/20200330/LuXAeOU5/index.m3u8',\n  '第20集': 'https://meiju10.qfxmj.com/20200330/tLX5A1eL/index.m3u8',\n  '第21集': 'https://meiju10.qfxmj.com/20200330/xhZGFtQr/index.m3u8',\n  '第22集': 'https://meiju10.qfxmj.com/20200330/83e1Uje3/index.m3u8'}}"
     },
     "metadata": {},
     "execution_count": 4
    }
   ],
   "source": [
    "a['2']"
   ]
  },
  {
   "cell_type": "code",
   "execution_count": 9,
   "metadata": {},
   "outputs": [
    {
     "output_type": "execute_result",
     "data": {
      "text/plain": "0"
     },
     "metadata": {},
     "execution_count": 9
    }
   ],
   "source": [
    "a=['a','b','c']\n",
    "a.index('a')"
   ]
  },
  {
   "cell_type": "code",
   "execution_count": null,
   "metadata": {},
   "outputs": [],
   "source": []
  }
 ]
}