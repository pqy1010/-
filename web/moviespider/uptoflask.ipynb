{
 "nbformat": 4,
 "nbformat_minor": 2,
 "metadata": {
  "language_info": {
   "name": "python",
   "codemirror_mode": {
    "name": "ipython",
    "version": 3
   },
   "version": "3.7.4-final"
  },
  "orig_nbformat": 2,
  "file_extension": ".py",
  "mimetype": "text/x-python",
  "name": "python",
  "npconvert_exporter": "python",
  "pygments_lexer": "ipython3",
  "version": 3,
  "kernelspec": {
   "name": "python3",
   "display_name": "Python 3"
  }
 },
 "cells": [
  {
   "cell_type": "code",
   "execution_count": 1,
   "metadata": {},
   "outputs": [],
   "source": [
    "import sqlite3\n",
    "import json\n",
    "import os\n",
    "import pickle\n",
    "import pdb\n",
    "#from ..boss.movie import insertfromspider\n",
    "\n",
    "class uptoflask():\n",
    "    def __init__(self,mode=1):\n",
    "        #moviename,updatetime,movieimg,moviedescrib,othername,moviestatus,movieborntime,actor,director,movieclass,classextant,country,year,lang,episodr,movielen,click,links\n",
    "        self.znfield=['名称','更新','封面','描述','别名','状态', '时间', '主演', '导演', '类型', '扩展', '地区', '年份', '语言', '集数', '时长', '点击']\n",
    "        self.enfield=['moviename','updatetime','moviedescrib','movieimg','othername','moviestatus','movieborntime','actor','director','movieclass','classextant','country','year','lang','episodr','movielen','click']\n",
    "        self.insertfield='moviename,updatetime,movieimg,moviedescrib,othername,moviestatus,movieborntime,actor,director,movieclass,classextant,country,year,lang,episodr,movielen,click,links,author_id'\n",
    "        #self.dbpath='../instance/flaskr.sqlite'\n",
    "        self.dbpath='./test.sqlite'\n",
    "        self.mode=mode\n",
    "        self.jsonfilelist=[]\n",
    "        for root, dirs, files in os.walk(\".\", topdown=False):\n",
    "            for temp in files:\n",
    "                if os.path.splitext(temp)[1]=='.json':\n",
    "                    self.jsonfilelist.append(temp)\n",
    "            \n",
    "        if self.mode==1:\n",
    "            self.con=sqlite3.connect(self.dbpath)\n",
    "    \n",
    "\n",
    "    def insertdb22(self,jsondata):#将json文件插入数据库\n",
    "        columnname=''\n",
    "        values=\"\"\n",
    "        para=[]\n",
    "        for key,vals in data.jsondata['2'].items():\n",
    "            columnname+=(key+',')\n",
    "            values+='?,'\n",
    "            if isinstance(vals, dict):\n",
    "                tempvals=json.dumps(vals)\n",
    "                para.append(tempvals)\n",
    "            else:\n",
    "                para.append(data.jsondata['2'][key])\n",
    "\n",
    "        columnname+='author_id'\n",
    "        values+='?'\n",
    "        para.append(1)\n",
    "        tempsql='INSERT INTO video (%s) VALUES (%s)'%(columnname,values)\n",
    "        self.con.execute(tempsql,para)\n",
    "\n",
    "    def insertdb(self,jsondata):#将json文件插入数据库\n",
    "        columnname=''\n",
    "        values=\"\"\n",
    "        para=[]\n",
    "        for key,vals in jsondata.items():\n",
    "            columnname+=(key+',')\n",
    "            values+='?,'\n",
    "            if isinstance(vals, dict):\n",
    "                tempvals=json.dumps(vals)\n",
    "                para.append(tempvals)\n",
    "            else:\n",
    "                para.append(jsondata[key])\n",
    "\n",
    "        columnname+='author_id'\n",
    "        values+='?'\n",
    "        para.append(1)\n",
    "        tempsql='INSERT INTO video (%s) VALUES (%s)'%(columnname,values)\n",
    "        print(tempsql)\n",
    "        self.con.execute(tempsql,para)\n",
    "\n",
    "\n",
    "    def readdata(self):#读取json数据\n",
    "        self.jsondata={}\n",
    "        if len(self.jsonfilelist)==0:\n",
    "            return\n",
    "        for tempfile in self.jsonfilelist:\n",
    "            with open(tempfile,'r') as f:\n",
    "                jsontxt=f.read()\n",
    "            jsondata=json.loads(jsontxt)\n",
    "            self.jsondata.update(jsondata)\n",
    "            #os.remove(tempfile)\n",
    "    def creattablesql(self):\n",
    "        creatsql='''CREATE TABLE video (\n",
    "                id INTEGER PRIMARY KEY AUTOINCREMENT,\n",
    "                author_id INTEGER NOT NULL,\n",
    "\n",
    "                updatetime TEXT,\n",
    "                moviename TEXT NOT NULL,\n",
    "                moviedescrib TEXT,\n",
    "                movieimg TEXT,\n",
    "                othername TEXT,\n",
    "                moviestatus TEXT,\n",
    "                movieborntime TEXT,\n",
    "                classextant TEXT,\n",
    "                year TEXT,\n",
    "                lang TEXT,\n",
    "                episodr TEXT,\n",
    "                click TEXT,\n",
    "                actor TEXT,\n",
    "                movieclass TEXT,\n",
    "                country TEXT,\n",
    "                score TEXT,\n",
    "                links TEXT,\n",
    "                movielen INTEGER,\n",
    "                director TEXT,\n",
    "                other TEXT,\n",
    "                other1 TEXT,\n",
    "                other2 TEXT,\n",
    "                other3 TEXT,\n",
    "                permituid TEXT,\n",
    "                FOREIGN KEY (author_id) REFERENCES user (id)\n",
    "                )'''\n",
    "        if self.mode==1:\n",
    "            self.con=sqlite3.connect(self.dbpath)\n",
    "\n",
    "        tablelist=self.con.execute(\"select * from sqlite_master where type = 'table' and name = 'video'\").fetchall()\n",
    "        if len(tablelist)==0:\n",
    "            self.con.execute(creatsql)\n",
    "\n",
    "        self.con.commit()\n",
    "\n",
    ""
   ]
  },
  {
   "cell_type": "code",
   "execution_count": 2,
   "metadata": {},
   "outputs": [
    {
     "output_type": "stream",
     "name": "stdout",
     "text": "begain get data\ngeting web\nget web https://www.rrzy.cc/\nupdate savedate\nsave savedate\nsave savedate\nsave savedate\nsave savedate\nsave savedate\nsave savedate\nsave savedate\nsave savedate\nsave savedate\nsave savedate\nsave savedate\nsave savedate\nsave savedate\nsave savedate\nsave savedate\nsave savedate\nsave savedate\n"
    }
   ],
   "source": [
    "import time\n",
    "savetime=time.time()-60*60*24\n",
    "with open('rrzy_startdate.tim','w+') as f:\n",
    "    f.write(str(savetime))\n",
    "from spider import WebMovie\n",
    "spider=WebMovie()\n",
    "spider.spiderrun()\n",
    ""
   ]
  },
  {
   "cell_type": "code",
   "execution_count": null,
   "metadata": {},
   "outputs": [],
   "source": [
    "import time\n",
    "savetime=time.time()-60*60*24\n",
    "with open('rrzy_startdate.tim','w+') as f:\n",
    "    f.write(str(savetime))"
   ]
  },
  {
   "cell_type": "code",
   "execution_count": 2,
   "metadata": {},
   "outputs": [],
   "source": [
    "data=uptoflask()\n",
    "data.readdata()"
   ]
  },
  {
   "cell_type": "code",
   "execution_count": 7,
   "metadata": {
    "tags": [
     "outputPrepend"
    ]
   },
   "outputs": [
    {
     "output_type": "stream",
     "name": "stdout",
     "text": "派特工崔相焕（韩石奎 饰）和李正希（宋康浩 饰）调查她的下落，可是她却销声匿迹了。 1998年，金明姬又出现了，她让黑市军火商人林光超帮忙找新武器液体炸弹CTX，林贿赂国防部研究院的研究员金宗叔帮他偷，没有得手。事情暴露后，二人先后被金明姬杀害。 因为金明姬的失败，朝鲜派出了以卜万坤（崔岷植 饰）为首的特工队伍，在韩国军队运送CTX参加军火展览途中将炸弹劫走，准备破坏即将举办的两国友谊足球比赛。 这一切，让崔相焕、李正希和他们的上司高部长十分苦恼，他们发现，金明姬总能先他们一步找到目标，破坏他们的行动，金明姬就在他们身边，或许正是最亲近，最不设防的那个人。©豆瓣', 'othername': 'shengsidiebian', 'moviestatus': '完结', 'movieborntime': '2020-04-05', 'actor': '韩石圭,崔岷植,宋康昊,金允珍', 'director': '姜帝圭', 'movieclass': '动作片', 'classextant': '动作,犯罪,剧情', 'country': '韩国', 'year': '1999', 'lang': '中文字幕', 'episodr': '0', 'movielen': '125', 'click': '1', 'links': {'CD01': 'https://meiju10.qfxmj.com/20200404/lnnyhJ7z/index.m3u8', 'CD02': 'https://meiju10.qfxmj.com/20200404/YvZQDb6X/index.m3u8', 'CD03': 'https://meiju10.qfxmj.com/20200404/Xi7SRVM0/index.m3u8'}}\nINSERT INTO video (moviename,updatetime,movieimg,moviedescrib,othername,moviestatus,movieborntime,actor,director,movieclass,classextant,country,year,lang,episodr,movielen,click,links,author_id) VALUES (?,?,?,?,?,?,?,?,?,?,?,?,?,?,?,?,?,?,?)\n{'moviename': '杀人锦标赛', 'updatetime': 1586063065.0, 'movieimg': 'https://tu.511.la/uploads/200405/050129114578.jpg', 'moviedescrib': '英国的德尔斯布勒，正悄悄展开一场游戏。这是属于富翁和杀戮者的残酷游戏，它每7年举行一次，幕后操纵者以一千万美元奖金为诱饵召集了世界上30位顶尖杀手，在24小时之内，他们将在这个小镇内捉对厮杀，只有最后的王者才能获得巨额报酬。与此同时，富豪们坐在大屏幕前观看现场直播，大赌输赢，场面极其疯狂。 本次杀人锦标赛云集了赖莱珍（胡凯丽 Kelly Hu 饰）、安东•博加特、尤里•彼德洛夫（Scott Adkins 饰）、迈尔斯•史雷德（Ian Somerhalder 饰）等身怀绝技、手段凶狠的个中高手，更有怀着复仇目的参加比赛的上届冠军乔舒娅•哈洛（Ving Rhames 饰），这注定是一场血腥而丧失人性的杀戮战……©豆瓣', 'othername': 'sharenjinbiaosai', 'moviestatus': '完结', 'movieborntime': '2020-04-05', 'actor': '罗伯特·卡莱尔,胡凯莉,伊恩·萨默海尔德,利亚姆·坎宁安', 'director': '斯科特·曼', 'movieclass': '动作片', 'classextant': '动作,惊悚', 'country': '英国', 'year': '2009', 'lang': '中文字幕', 'episodr': '0', 'movielen': '92分钟', 'click': '0', 'links': {'HD高清': 'https://meiju10.qfxmj.com/20200405/Ac9q3MBY/index.m3u8'}}\nINSERT INTO video (moviename,updatetime,movieimg,moviedescrib,othername,moviestatus,movieborntime,actor,director,movieclass,classextant,country,year,lang,episodr,movielen,click,links,author_id) VALUES (?,?,?,?,?,?,?,?,?,?,?,?,?,?,?,?,?,?,?)\n{'moviename': '透明人2', 'updatetime': 1586063079.0, 'movieimg': 'https://tu.511.la/uploads/200405/050126087410.jpg', 'moviedescrib': '某医学博士在派对上被一名透明人杀死，探员特纳（彼得•费辛利 Peter Facinelli 饰）与丽萨在勘察现场时却被告知此案由国防部接手，而他二人的任务是保护女生物学家道尔顿（劳拉•里根 Laura Regan 饰）。另一方面，透明人在杀死医学博士前，得知令自己身体好转的缓冲药剂只有道尔顿才能提供…… 特纳与丽萨在保护道尔顿的当夜遭透明人袭击，利萨殉职，特纳在突然出现的军方包围中才明白道尔顿和自己都不过只是军方用来诱捕透明人的饵。愤怒的特纳带着道尔顿从军方的控制下逃跑，并要求后者说出透明人与军方千丝万缕联系之背后的真相。同时军方将特纳锁定为追捕对象，一场围绕军方、透明人和特纳三方的阴谋与追踪开始上演。©豆瓣', 'othername': 'toumingren2', 'moviestatus': '完结', 'movieborntime': '2020-04-05', 'actor': '克里斯蒂安·史莱特,彼得·费辛利,Laura', 'director': 'Claudio', 'movieclass': '科幻片', 'classextant': '动作,恐怖,科幻', 'country': '美国', 'year': '2006', 'lang': '中文字幕', 'episodr': '0', 'movielen': '91', 'click': '1', 'links': {'HD高清': 'https://meiju10.qfxmj.com/20200405/F3VfmJR3/index.m3u8'}}\nINSERT INTO video (moviename,updatetime,movieimg,moviedescrib,othername,moviestatus,movieborntime,actor,director,movieclass,classextant,country,year,lang,episodr,movielen,click,links,author_id) VALUES (?,?,?,?,?,?,?,?,?,?,?,?,?,?,?,?,?,?,?)\n{'moviename': '富豪辩护人 / 鬣狗', 'updatetime': 1586063068.0, 'movieimg': 'https://ae01.alicdn.com/kf/Ub35cd80b511344f18a02a568d9d1e01bJ.jpg', 'moviedescrib': '《Hyena》讲述代理上流阶层案件的律师们抛头颅洒热血的生存故事。虽然主角们的设定是律师，但该剧并不是法庭电视剧。是讲述以法律为生存武器的鬣狗律师们的关于人类的故事，将描写围绕着男女主人公的各种人物群像而展开的浩荡的生存游戏。 由《风之画员》《来自星星的你》张太侑导演执 导，金璐利编剧执笔。', 'othername': 'fuhaobianhurenliegou', 'moviestatus': '更新至14集/共16集', 'movieborntime': '2020-04-05', 'actor': '金惠秀,朱智勋,黄宝罗', 'director': '张太维', 'movieclass': '韩剧', 'classextant': '剧情', 'country': '韩国', 'year': '2020', 'lang': '中文字幕', 'episodr': '0', 'movielen': '内详', 'click': '54', 'links': {'第01集': 'https://meiju11.qfxmj.com/20200222/gJat68so/index.m3u8', '第02集': 'https://meiju11.qfxmj.com/20200223/rSZNtQmv/index.m3u8', '第03集': 'https://meiju11.qfxmj.com/20200229/L9U5vN9k/index.m3u8', '第04集': 'https://meiju11.qfxmj.com/20200301/EqZQCfwd/index.m3u8', '第05集': 'https://meiju11.qfxmj.com/20200307/ikcvTd8H/index.m3u8', '第06集': 'https://meiju11.qfxmj.com/20200308/OW4VjNED/index.m3u8', '第07集': 'https://meiju11.qfxmj.com/20200314/e4BHO6Rn/index.m3u8', '第08集': 'https://meiju11.qfxmj.com/20200315/s7bCZpiC/index.m3u8', '第09集': 'https://meiju11.qfxmj.com/20200321/uAG9afbU/index.m3u8', '第10集': 'https://meiju11.qfxmj.com/20200322/tRGxhO8i/index.m3u8', '第11集': 'https://meiju11.qfxmj.com/20200328/KqRi21NE/index.m3u8', '第12集': 'https://meiju11.qfxmj.com/20200329/oHFGQLVN/index.m3u8', '第13集': 'https://meiju11.qfxmj.com/20200404/B78uBRLw/index.m3u8', '第14集': 'https://meiju11.qfxmj.com/20200405/cQyNaaj1/index.m3u8'}}\nINSERT INTO video (moviename,updatetime,movieimg,moviedescrib,othername,moviestatus,movieborntime,actor,director,movieclass,classextant,country,year,lang,episodr,movielen,click,links,author_id) VALUES (?,?,?,?,?,?,?,?,?,?,?,?,?,?,?,?,?,?,?)\n{'moviename': '错位青春第三季', 'updatetime': 1586059492.0, 'movieimg': 'https://pic.rrzy.cc/upload/vod/20190430-1/79c899a30007b0caa646ae447467f002.jpg', 'moviedescrib': 'The third season of ABC Family drama television series Switched at Birth began on January 13, 2014, and will consist of 22 episodes. The season is produced by ABC Family, Pirates Cove Entertainment, and Suzy B Productions, with Paul Stupin and series creator Lizzy Weiss serving as executive producers. \\u3000\\u3000The one-hour ｓｃｒｉｐｔed drama revolves around two young women who discover the...', 'othername': 'cuoweiqingchundisanji', 'moviestatus': '完结/共22集', 'movieborntime': '2020-04-05', 'actor': '肖恩·伯蒂/卢卡斯·格拉比/凯蒂·勒克莱齐/瓦蕾莎·马兰洛/康斯坦斯', 'director': 'JamesHayman', 'movieclass': '喜剧青春', 'classextant': '青春', 'country': '美国', 'year': '2015', 'lang': '中文字幕', 'episodr': '0', 'movielen': '内详', 'click': '91709', 'links': {'第01集': 'https://meiju10.qfxmj.com/20200405/z25g0WLd/index.m3u8', '第02集': 'https://meiju10.qfxmj.com/20200405/WUC7Tdjq/index.m3u8', '第03集': 'https://meiju10.qfxmj.com/20200405/nP7iX1YW/index.m3u8', '第04集': 'https://meiju10.qfxmj.com/20200405/aGnGKtys/index.m3u8', '第05集': 'https://meiju10.qfxmj.com/20200405/JVrRv9EV/index.m3u8', '第06集': 'https://meiju10.qfxmj.com/20200405/rVXSjUL9/index.m3u8', '第07集': 'https://meiju10.qfxmj.com/20200405/hsf52Dw6/index.m3u8', '第08集': 'https://meiju10.qfxmj.com/20200405/QcEl769G/index.m3u8', '第09集': 'https://meiju10.qfxmj.com/20200405/OJZOXOzX/index.m3u8', '第10集': 'https://meiju10.qfxmj.com/20200405/ZdMEspJQ/index.m3u8', '第11集': 'https://meiju10.qfxmj.com/20200405/VcKEMkmV/index.m3u8', '第12集': 'https://meiju10.qfxmj.com/20200405/S2napNbp/index.m3u8', '第13集': 'https://meiju10.qfxmj.com/20200405/dFnDSOUh/index.m3u8', '第14集': 'https://meiju10.qfxmj.com/20200405/a2dbjIpF/index.m3u8', '第15集': 'https://meiju10.qfxmj.com/20200405/92DyH4yq/index.m3u8', '第16集': 'https://meiju10.qfxmj.com/20200405/WgssdGk5/index.m3u8', '第17集': 'https://meiju10.qfxmj.com/20200405/x7YtGqA6/index.m3u8', '第18集': 'https://meiju10.qfxmj.com/20200405/vvFpeKtb/index.m3u8', '第19集': 'https://meiju10.qfxmj.com/20200405/I0hLryEl/index.m3u8', '第20集': 'https://meiju10.qfxmj.com/20200405/aqjdWcVi/index.m3u8', '第21集': 'https://meiju10.qfxmj.com/20200405/vSUDRbCj/index.m3u8', '第22集': 'https://meiju10.qfxmj.com/20200405/0oTz2bXj/index.m3u8'}}\nINSERT INTO video (moviename,updatetime,movieimg,moviedescrib,othername,moviestatus,movieborntime,actor,director,movieclass,classextant,country,year,lang,episodr,movielen,click,links,author_id) VALUES (?,?,?,?,?,?,?,?,?,?,?,?,?,?,?,?,?,?,?)\n{'moviename': '神圣的谎言第二季', 'updatetime': 1586059446.0, 'movieimg': 'https://pic.yefu365.com/upload/vod/20200222-1/18287774c6e34dc7c150a982a51f3e31.jpg', 'moviedescrib': '本剧由《真爱如血》的执行制片人Raelle Tucker和导演Scott Winant再度合作开发，制片方为最近出品了《利器》的Blumhouse。素材来自《格林童话》经典故事《没有手的姑娘》(The Handless Maiden)，还结合了Stephanie Oakes的小说《The Sacred Lies of Minnow Bly》。讲述了一名无手少女在逃离邪//教后，因故进了少/管/所，她被怀疑知道是谁杀死了邪教领袖。\\u3000\\u3000《忽然七日》的Elena Kampouris饰演女主，《守望尘世》的Kevin Carroll饰演威尔森医生。卡司好包括《杰西卡·琼斯》的Leah Gibson，《奔腾年代》的Toby Huss。', 'othername': 'shenshengdehuangyandierji', 'moviestatus': '更新至9集', 'movieborntime': '2020-04-05', 'actor': '埃莱娜·康博里斯', 'director': '斯科特·怀南特', 'movieclass': '悬疑烧脑', 'classextant': '恐怖,剧情', 'country': '美国', 'year': '2020', 'lang': '中文字幕', 'episodr': '0', 'movielen': '内详', 'click': '9', 'links': {'第01集': 'https://meiju10.qfxmj.com/20200222/XmQOH8cQ/index.m3u8', '第02集': 'https://meiju10.qfxmj.com/20200222/bKMCYwBI/index.m3u8', '第03集': 'https://meiju10.qfxmj.com/20200222/J0CC1EcY/index.m3u8', '第04集': 'https://meiju10.qfxmj.com/20200229/fTcwx4ov/index.m3u8', '第05集': 'https://meiju10.qfxmj.com/20200307/yHxBhOCY/index.m3u8', '第06集': 'https://meiju10.qfxmj.com/20200314/WX8EQ1eD/index.m3u8', '第07集': 'https://meiju10.qfxmj.com/20200321/0tnrjmBb/index.m3u8', '第08集': 'https://meiju10.qfxmj.com/20200328/wgoi0vhl/index.m3u8', '第09集': 'https://meiju10.qfxmj.com/20200405/3S6RPwhp/index.m3u8'}}\nINSERT INTO video (moviename,updatetime,movieimg,moviedescrib,othername,moviestatus,movieborntime,actor,director,movieclass,classextant,country,year,lang,episodr,movielen,click,links,author_id) VALUES (?,?,?,?,?,?,?,?,?,?,?,?,?,?,?,?,?,?,?)\n{'moviename': '神烦警探第七季', 'updatetime': 1586059472.0, 'movieimg': 'https://tu.511.la/uploads/200208/080224232400.jpg', 'moviedescrib': '《神烦警探》续订第七季！转到NBC播出的《神烦警探》第六季收视相比第五季有所上涨，18-49岁观众收视率上涨34%，平均观众人次上涨34%。剧集由安迪·萨姆伯格、梅丽莎·弗梅洛、泰瑞·克鲁斯、斯蒂芬妮·比翠丝、乔·洛·特鲁格里奥、德克·布罗克、安德鲁·布劳尔等主演，故事围绕纽约警探们的生活展开。', 'othername': 'shenfanjingtandiqiji', 'moviestatus': '更新至10集', 'movieborntime': '2020-04-05', 'actor': '安迪·萨姆伯格,梅丽莎·弗梅洛,泰瑞·克鲁斯,斯蒂芬妮·比翠丝', 'director': '内详', 'movieclass': '悬疑烧脑', 'classextant': '喜剧,犯罪', 'country': '美国', 'year': '2020', 'lang': '中文字幕', 'episodr': '0', 'movielen': '内详', 'click': '26', 'links': {'第01集': 'https://meiju10.qfxmj.com/20200208/I8MdAYxs/index.m3u8', '第02集': 'https://meiju10.qfxmj.com/20200209/UNkj9kmT/index.m3u8', '第03集': 'https://meiju10.qfxmj.com/20200214/9FmtbfWX/index.m3u8', '第04集': 'https://meiju10.qfxmj.com/20200222/RDaI5seQ/index.m3u8', '第05集': 'https://meiju10.qfxmj.com/20200228/QiCGWEuf/index.m3u8', '第06集': 'https://meiju10.qfxmj.com/20200307/vBajkgkD/index.m3u8', '第07集': 'https://meiju10.qfxmj.com/20200314/X4BkdZDt/index.m3u8', '第08集': 'https://meiju10.qfxmj.com/20200321/AvZeI4yR/index.m3u8', '第09集': 'https://meiju10.qfxmj.com/20200327/ia36ExLG/index.m3u8', '第10集': 'https://meiju10.qfxmj.com/20200405/pTkSz74x/index.m3u8'}}\nINSERT INTO video (moviename,updatetime,movieimg,moviedescrib,othername,moviestatus,movieborntime,actor,director,movieclass,classextant,country,year,lang,episodr,movielen,click,links,author_id) VALUES (?,?,?,?,?,?,?,?,?,?,?,?,?,?,?,?,?,?,?)\n{'moviename': '新圣女魔咒第二季', 'updatetime': 1586059496.0, 'movieimg': 'https://pic.yefu365.com/upload/vod/20191211-1/801fa2848c6349673ce128cc3ff59cea.jpg', 'moviedescrib': '新剧《圣女魔咒》获得了CW第二季的续订。', 'othername': 'xinshengnvmozhoudierji', 'moviestatus': '更新至11集', 'movieborntime': '2020-04-05', 'actor': '梅罗妮·迪亚兹,玛德琳·曼托克,Sarah', 'director': '尼克·戈麦斯', 'movieclass': '科幻动作', 'classextant': '剧情,奇幻', 'country': '美国', 'year': '2019', 'lang': '英语', 'episodr': '0', 'movielen': '45min', 'click': '29', 'links': {'第01集': 'https://meiju10.qfxmj.com/20200112/D2GeR87Q/index.m3u8', '第02集': 'https://meiju10.qfxmj.com/20200112/8Q2gLbLt/index.m3u8', '第03集': 'https://meiju10.qfxmj.com/20200112/BXJWccRn/index.m3u8', '第04集': 'https://meiju10.qfxmj.com/20200112/l9qgSaAe/index.m3u8', '第05集': 'https://meiju10.qfxmj.com/20200112/OpqIyP9n/index.m3u8', '第06集': 'https://meiju10.qfxmj.com/20200208/uTdkeXuX/index.m3u8', '第07集': 'https://meiju10.qfxmj.com/20200208/0NQqjNe2/index.m3u8', '第08集': 'https://meiju10.qfxmj.com/20200208/EZupKbNM/index.m3u8', '第09集': 'https://meiju10.qfxmj.com/20200405/Gg5spnIz/index.m3u8', '第10集': 'https://meiju10.qfxmj.com/20200405/SveKLRUV/index.m3u8', '第11集': 'https://meiju10.qfxmj.com/20200405/vxLgaQys/index.m3u8'}}\nINSERT INTO video (moviename,updatetime,movieimg,moviedescrib,othername,moviestatus,movieborntime,actor,director,movieclass,classextant,country,year,lang,episodr,movielen,click,links,author_id) VALUES (?,?,?,?,?,?,?,?,?,?,?,?,?,?,?,?,?,?,?)\n{'moviename': '切肤之痛第一季', 'updatetime': 1586059441.0, 'movieimg': 'https://tu.511.la/uploads/200403/030247134575.jpg', 'moviedescrib': \"由Expectation Entertainment制作的《我的皮肤》（5x30'）获得英国电影学院奖（Bafta Cymru）是一部黑色喜剧系列，由作家凯莉·卢威尔（Kayleigh Llewell yn）创作，她挖掘了自己的经验，创造了一个少女过着双重生活的成人故事。Bethan（Gabrielle Creevy）拼命地试图把她的家庭生活的真相从她的朋友那里泄露出去。但是，当你的母亲（乔·哈特利）被隔离在学校附近的精神病院里，并且有爆发的嗜好，而你的父亲（罗德里梅利尔）是开着破烂卡车的地狱天使，在雷达下飞行就不那么容易了。尽管如此，贝珊还是决心不让自己脸红。但她的面颊和才智只能把她带到这一步，因为她把自己越来越深地挖掘进自己的谎言中。一路上有女同性恋的迷恋，来自她的奶奶的强悍的爱，来自她的推土机老师的不停的干涉，她总是在她的案件。有时，这是有趣的，原始的和令人心碎的，因为我们通过贝坦替代性地重温我们的青春期-这一切令人困惑，陶醉，痛苦的混乱。\", 'othername': 'qiefuzhitongdiyiji', 'moviestatus': '更新至4集/共5集', 'movieborntime': '2020-04-05', 'actor': '迪·波特切尔,加布瑞拉·克里维,波佩·李·弗里尔,乔·哈特利', 'director': '内详', 'movieclass': '悬疑烧脑', 'classextant': '剧情', 'country': '英国', 'year': '2020', 'lang': '中文字幕', 'episodr': '0', 'movielen': '30分钟', 'click': '15', 'links': {'第01集': 'https://meiju10.qfxmj.com/20200403/YofBJhdV/index.m3u8', '第02集': 'https://meiju10.qfxmj.com/20200405/3mFWVdB9/index.m3u8', '第03集': 'https://meiju10.qfxmj.com/20200405/EEOLACIq/index.m3u8', '第04集': 'https://meiju10.qfxmj.com/20200405/smBFmqlQ/index.m3u8'}}\nINSERT INTO video (moviename,updatetime,movieimg,moviedescrib,othername,moviestatus,movieborntime,actor,director,movieclass,classextant,country,year,lang,episodr,movielen,click,links,author_id) VALUES (?,?,?,?,?,?,?,?,?,?,?,?,?,?,?,?,?,?,?)\n{'moviename': '女局长第一季', 'updatetime': 1586059497.0, 'movieimg': 'https://tu.511.la/uploads/200208/080220425334.jpg', 'moviedescrib': 'Paul Attanasio执笔的CBS剧《女局长 Tommy》获正式预订，剧中讲述一位前高级纽约警官Abigail “Tommy” Thomas（Edie Falco饰）成为洛杉矶警察首位女局长后，她如何用诚实但强硬的手段解决各种社会﹑政治﹑国家问题。 其余主演包括 Michael Chernus﹑Adelaide Clemens﹑Russell G. Jones﹑Olivia Lucy Phillip﹑Thomas Sadoski及Joseph Lyle Taylor。', 'othername': 'nvjuchangdiyiji', 'moviestatus': '更新至7集', 'movieborntime': '2020-04-05', 'actor': '埃迪·法可,迈克尔·切鲁斯,拉塞尔·G·琼斯,Olivia', 'director': '内详', 'movieclass': '悬疑烧脑', 'classextant': '剧情', 'country': '美国', 'year': '2019', 'lang': '中文字幕', 'episodr': '0', 'movielen': '内详', 'click': '37', 'links': {'第01集': 'https://meiju10.qfxmj.com/20200208/IiHpOwi6/index.m3u8', '第02集': 'https://meiju10.qfxmj.com/20200215/FprapMsg/index.m3u8', '第03集': 'https://meiju10.qfxmj.com/20200222/zwwzXQ63/index.m3u8', '第04集': 'https://meiju10.qfxmj.com/20200229/G4hpyLd5/index.m3u8', '第05集': 'https://meiju10.qfxmj.com/20200307/lI9bLNot/index.m3u8', '第06集': 'https://meiju10.qfxmj.com/20200314/BhNGQTPz/index.m3u8', '第07集': 'https://meiju10.qfxmj.com/20200405/s3lFMlLg/index.m3u8'}}\nINSERT INTO video (moviename,updatetime,movieimg,moviedescrib,othername,moviestatus,movieborntime,actor,director,movieclass,classextant,country,year,lang,episodr,movielen,click,links,author_id) VALUES (?,?,?,?,?,?,?,?,?,?,?,?,?,?,?,?,?,?,?)\n{'moviename': '走进黑暗/黑暗诗选第二季', 'updatetime': 1586059452.0, 'movieimg': 'https://tu.511.la/uploads/191006/060224258142.jpg', 'moviedescrib': 'Hulu宣布续订《#黑暗诗选# Into the Dark》第二季，使其起码播至下年秋档。', 'othername': 'zoujinheiandierji', 'moviestatus': '更新至7集', 'movieborntime': '2020-04-05', 'actor': '内详', 'director': '内详', 'movieclass': '悬疑烧脑', 'classextant': '剧情,惊悚', 'country': '美国', 'year': '2019', 'lang': '中文字幕', 'episodr': '0', 'movielen': '内详', 'click': '35', 'links': {'第01集': 'https://meiju10.qfxmj.com/20191005/VDKlgdkg/index.m3u8', '第02集': 'https://meiju10.qfxmj.com/20191101/ILuja55s/index.m3u8', '第03集': 'https://meiju10.qfxmj.com/20191207/XIt7Me78/index.m3u8', '第04集': 'https://meiju10.qfxmj.com/20191228/ThPzSCpX/index.m3u8', '第05集': 'https://meiju10.qfxmj.com/20200209/j2M6nZoN/index.m3u8', '第06集': 'https://meiju10.qfxmj.com/20200307/SpEOhDWr/index.m3u8', '第07集': 'https://meiju10.qfxmj.com/20200405/GYxrDxW1/index.m3u8'}}\nINSERT INTO video (moviename,updatetime,movieimg,moviedescrib,othername,moviestatus,movieborntime,actor,director,movieclass,classextant,country,year,lang,episodr,movielen,click,links,author_id) VALUES (?,?,?,?,?,?,?,?,?,?,?,?,?,?,?,?,?,?,?)\n{'moviename': '怪咖！文主厨', 'updatetime': 1586059474.0, 'movieimg': 'https://ae01.alicdn.com/kf/U5a392a7d62aa49a1a51dc89c0f50cc7eN.jpg', 'moviedescrib': '该剧讲述了在星月朗朗的西夏村，失去记忆、沦落为冒失鬼的世界级时装设计师与明星厨师相遇后，经历成长、爱情与成功的治愈浪漫喜剧故事。', 'othername': 'guaikawenzhuchu', 'moviestatus': '更新至4集/共16集', 'movieborntime': '2020-04-05', 'actor': '文晸赫,高媛熙', 'director': '崔道勋', 'movieclass': '韩剧', 'classextant': '剧情', 'country': '韩国', 'year': '2020', 'lang': '中文字幕', 'episodr': '0', 'movielen': '60分钟', 'click': '38', 'links': {'第01集': 'https://meiju11.qfxmj.com/20200328/7oPBn58W/index.m3u8', '第02集': 'https://meiju11.qfxmj.com/20200329/nEKqwPc1/index.m3u8', '第03集': 'https://meiju11.qfxmj.com/20200404/EWYXVlON/index.m3u8', '第04集': 'https://meiju11.qfxmj.com/20200405/46hB5RMM/index.m3u8'}}\nINSERT INTO video (moviename,updatetime,movieimg,moviedescrib,othername,moviestatus,movieborntime,actor,director,movieclass,classextant,country,year,lang,episodr,movielen,click,links,author_id) VALUES (?,?,?,?,?,?,?,?,?,?,?,?,?,?,?,?,?,?,?)\n{'moviename': '夫妻的世界', 'updatetime': 1586059464.0, 'movieimg': 'https://ae01.alicdn.com/kf/U80551842e1ef41b49871c7f7113644f7W.jpg', 'moviedescrib': '该剧是讲述原以为是相爱着的夫妻的缘分因为背叛而终结，并被卷入复仇的旋涡的故事。将描写想毁掉对方的憎恨成为一种爱的形式，拼死勒住彼此的脖子的激烈的爱情。 由《Misty》毛完日导演执导，《玉氏南政基》朱贤编剧执笔，接档《梨泰院Class》播出。', 'othername': 'fuqideshijie', 'moviestatus': '更新至4集/共16集', 'movieborntime': '2020-04-05', 'actor': '金喜爱,朴海俊,朴善英,金永敏', 'director': '毛完日', 'movieclass': '韩剧', 'classextant': '爱情', 'country': '韩国', 'year': '2020', 'lang': '中文字幕', 'episodr': '16', 'movielen': '内详', 'click': '58', 'links': {'第01集': 'https://meiju11.qfxmj.com/20200328/U08z7Ea8/index.m3u8', '第02集': 'https://meiju11.qfxmj.com/20200329/i8jr8H17/index.m3u8', '第03集': 'https://meiju11.qfxmj.com/20200404/vlExqG6X/index.m3u8', '第04集': 'https://meiju11.qfxmj.com/20200405/PsvA7T8m/index.m3u8'}}\nINSERT INTO video (moviename,updatetime,movieimg,moviedescrib,othername,moviestatus,movieborntime,actor,director,movieclass,classextant,country,year,lang,episodr,movielen,click,links,author_id) VALUES (?,?,?,?,?,?,?,?,?,?,?,?,?,?,?,?,?,?,?)\n{'moviename': '芦苇 / Rugal：无泪交锋', 'updatetime': 1586059492.0, 'movieimg': 'https://ae01.alicdn.com/kf/Ud36a80c2abbc4de799eec1eba5697cebD.jpg', 'moviedescrib': '该剧改编自同名网漫，是最强机械人类的复仇剧，讲述精英警察姜基范的妻子被暴力组织“火蚁派”害死，他自己也双眼失明并被诬陷为杀人犯，在通过特殊警察组织RUGAL的生化高新科技而获得新的眼睛后，他去找出自己的敌人，讨伐火蚁派的故事。', 'othername': 'luweiRugalwuleijiaofeng', 'moviestatus': '更新至3集/共16集', 'movieborntime': '2020-04-05', 'actor': '崔振赫,朴圣雄,赵东赫,朴宣浩', 'director': '姜哲宇', 'movieclass': '韩剧', 'classextant': '动作,剧情', 'country': '韩国', 'year': '2020', 'lang': '韩语', 'episodr': '0', 'movielen': '60分钟', 'click': '4', 'links': {'第01集': 'https://meiju11.qfxmj.com/20200330/qouvfDnj/index.m3u8', '第02集': 'https://meiju11.qfxmj.com/20200330/BUMZsvay/index.m3u8', '第03集': 'https://meiju11.qfxmj.com/20200405/V5sN65EL/index.m3u8'}}\nINSERT INTO video (moviename,updatetime,movieimg,moviedescrib,othername,moviestatus,movieborntime,actor,director,movieclass,classextant,country,year,lang,episodr,movielen,click,links,author_id) VALUES (?,?,?,?,?,?,?,?,?,?,?,?,?,?,?,?,?,?,?)\n{'moviename': '结过一次了 / Once Again', 'updatetime': 1586059492.0, 'movieimg': 'https://ae01.alicdn.com/kf/Ue5a96170ebb4435f96e8710d5249f180k.jpg', 'moviedescrib': '该剧讲述了通过父母和子女之间离婚的间隙和克服危机，各自完成寻找幸福的过程。', 'othername': 'jieguoyiciliaoOnceAgain', 'moviestatus': '更新至5集/共100集', 'movieborntime': '2020-04-05', 'actor': '李珉廷,李相烨,吴代焕,吴允儿', 'director': '李在相', 'movieclass': '韩剧', 'classextant': '剧情', 'country': '韩国', 'year': '2020', 'lang': '中文字幕', 'episodr': '0', 'movielen': '30分钟', 'click': '11', 'links': {'第01-02集': 'https://meiju11.qfxmj.com/20200329/Bi1XXHsK/index.m3u8', '第03-04集': 'https://meiju11.qfxmj.com/20200330/kdJcdsIv/index.m3u8', '第05-06集': 'https://meiju11.qfxmj.com/20200405/OKUulHie/index.m3u8'}}\nINSERT INTO video (moviename,updatetime,movieimg,moviedescrib,othername,moviestatus,movieborntime,actor,director,movieclass,classextant,country,year,lang,episodr,movielen,click,links,author_id) VALUES (?,?,?,?,?,?,?,?,?,?,?,?,?,?,?,?,?,?,?)\n"
    }
   ],
   "source": [
    "for jdata in data.jsondata.values():\n",
    "    print(jdata)\n",
    "    data.insertdb(jdata)\n",
    "data.con.commit()\n",
    ""
   ]
  },
  {
   "cell_type": "code",
   "execution_count": 5,
   "metadata": {},
   "outputs": [
    {
     "output_type": "execute_result",
     "data": {
      "text/plain": "movieclass': '动作片',\n  'classextant': '动作,剧情,战争',\n  'country': '美国',\n  'year': '1987',\n  'lang': '中文字幕',\n  'episodr': '0',\n  'movielen': '152分钟',\n  'click': '6',\n  'links': {'HD高清': 'https://meiju10.qfxmj.com/20200405/1Lwk7W4Y/index.m3u8'}},\n '2': {'moviename': '失踪',\n  'updatetime': 1586063063.0,\n  'movieimg': 'https://tu.511.la/uploads/200405/050203116888.jpg',\n  'moviedescrib': '长像出众的妹妹（金世红 饰）和朋友出游住进一家小旅馆，却未曾想到遭遇变态店主潘根（文成根 饰）。这个外表忠厚老实的店主残忍的杀死妹妹的朋友并囚禁妹妹，对她百般折磨凌辱。几天以后，另一位同样长样出众的少女贤婷（秋瓷炫 饰）来到这个小镇寻访自己的妹妹。经过多番打探之后，她怀疑是旅馆店主绑架自己的妹妹，在警察的帮助下，他们对潘根的地下室进行了搜查，可是最终一无所获。正当姐姐贤婷打算离开小镇的时候，旅馆店主潘根意外出现，并诱骗她来到自己的住处。此时妹妹其实早已被旅馆店主杀害，而姐姐陷入了一个和妹妹当初同样危险的境遇…… 本片根据真实绑架案件改编。©豆瓣',\n  'othername': 'shizong',\n  'moviestatus': '完结',\n  'movieborntime': '2020-04-05',\n  'actor': '文成根,秋瓷炫,全世洪',\n  'director': '金成洪',\n  'movieclass': '恐怖片',\n  'classextant': '惊悚,恐怖',\n  'country': '韩国',\n  'year': '2009',\n  'lang': '中文字幕',\n  'episodr': '0',\n  'movielen': '98分钟',\n  'click': '1',\n  'links': {'HD高清': 'https://meiju10.qfxmj.com/20200405/SI7g95IK/index.m3u8'}},\n '3': {'moviename': '兵临城下之决战要塞',\n  'updatetime': 1586063090.0,\n  'movieimg': 'https://tu.511.la/uploads/200405/050157394285.jpg',\n  'moviedescrib': '故事发生在1941年的6月，布格河畔回荡着欢声笑语，就在一片歌舞升平之际，几架飞机飞过投下了炸弹，将一切摧毁殆尽，霎时间，河畔边成为了鲜血和火焰的海洋。德国人的入侵让位于华沙和莫斯科之间的布列斯特要塞陷入了动荡和战争之中，为了保护自己的国家，八千名苏维埃红军战士们拿起了武 器，与亲人告别，走上了战场。 草草建立的军队中人员情况十分复杂，但是，每个人心中的信念却是一致的，那就是顽强抵抗贼寇的入侵。粮食短缺，武器简陋，装备寒酸，在及其恶劣的条件之下，苏维埃青年们和装备精良的敌方展开了一场又一场险象环生的激烈战斗，并且最终获得了胜利。©豆瓣',\n  'othername': 'binglinchengxiazhijuezhanyaosai',\n  'moviestatus': '完结',\n  'movieborntime': '2020-04-05',\n  'actor': '安德烈·梅尔兹利金,叶甫盖尼·齐加诺夫,帕维尔·杰列维扬科,Anna',\n  'director': '亚历山大·科特',\n  'movieclass': '动作片',\n  'classextant': '剧情,动作,历史',\n  'country': '俄罗斯',\n  'year': '2010',\n  'lang': '中文字幕',\n  'episodr': '0',\n  'movielen': '138分钟(白俄罗斯',\n  'click': '1',\n  'links': {'HD高清': 'https://meiju10.qfxmj.com/20200405/n7cxyZuo/index.m3u8'}},\n '4': {'moviename': '名字之歌',\n  'updatetime': 1586063084.0,\n  'movieimg': 'https://tu.511.la/uploads/200405/050134177075.jpg',\n  'moviedescrib': '根据诺曼·莱布得勒支创作的同名小说改编，讲述二战时的伦敦，两个少年马丁和道维多尔成为生死之交。道维多尔是个从华沙流亡过来的小提琴手，寄居在马丁家。然而，就在道维多尔的小提琴独奏会的首演当晚，他却神秘地失踪了，这件事成了马丁几十年的心结。',\n  'othername': 'mingzizhige',\n  'moviestatus': '完结',\n  'movieborntime': '2020-04-05',\n  'actor': '蒂姆·罗斯,克里夫·欧文,艾迪·伊扎德,绍尔·鲁宾内克',\n  'director': '佛朗索瓦·吉拉德',\n  'movieclass': '剧情片',\n  'classextant': '剧情',\n  'country': '加拿大',\n  'year': '2019',\n  'lang': '中文字幕',\n  'episodr': '0',\n  'movielen': '113分钟',\n  'click': '4',\n  'links': {'HD高清': 'https://meiju10.qfxmj.com/20200405/HSDS9Ube/index.m3u8'}},\n '5': {'moviename': '生死谍变',\n  'updatetime': 1586063061.0,\n  'movieimg': 'https://tu.511.la/uploads/200405/050131462270.jpg',\n  'moviedescrib': '金明姬是朝鲜第八特别部队的特工，自1993年潜入韩国之后，暗杀了多名政要。她的行动引起了韩国特工机构的注意，并派特工崔相焕（韩石奎 饰）和李正希（宋康浩 饰）调查她的下落，可是她却销声匿迹了。 1998年，金明姬又出现了，她让黑市军火商人林光超帮忙找新武器液体炸弹CTX，林贿赂国防部研究院的研究员金宗叔帮他偷，没有得手。事情暴露后，二人先后被金明姬杀害。 因为金明姬的失败，朝鲜派出了以卜万坤（崔岷植 饰）为首的特工队伍，在韩国军队运送CTX参加军火展览途中将炸弹劫走，准备破坏即将举办的两国友谊足球比赛。 这一切，让崔相焕、李正希和他们的上司高部长十分苦恼，他们发现，金明姬总能先他们一步找到目标，破坏他们的行动，金明姬就在他们身边，或许正是最亲近，最不设防的那个人。©豆瓣',\n  'othername': 'shengsidiebian',\n  'moviestatus': '完结',\n  'movieborntime': '2020-04-05',\n  'actor': '韩石圭,崔岷植,宋康昊,金允珍',\n  'director': '姜帝圭',\n  'movieclass': '动作片',\n  'classextant': '动作,犯罪,剧情',\n  'country': '韩国',\n  'year': '1999',\n  'lang': '中文字幕',\n  'episodr': '0',\n  'movielen': '125',\n  'click': '1',\n  'links': {'CD01': 'https://meiju10.qfxmj.com/20200404/lnnyhJ7z/index.m3u8',\n   'CD02': 'https://meiju10.qfxmj.com/20200404/YvZQDb6X/index.m3u8',\n   'CD03': 'https://meiju10.qfxmj.com/20200404/Xi7SRVM0/index.m3u8'}},\n '6': {'moviename': '杀人锦标赛',\n  'updatetime': 1586063065.0,\n  'movieimg': 'https://tu.511.la/uploads/200405/050129114578.jpg',\n  'moviedescrib': '英国的德尔斯布勒，正悄悄展开一场游戏。这是属于富翁和杀戮者的残酷游戏，它每7年举行一次，幕后操纵者以一千万美元奖金为诱饵召集了世界上30位顶尖杀手，在24小时之内，他们将在这个小镇内捉对厮杀，只有最后的王者才能获得巨额报酬。与此同时，富豪们坐在大屏幕前观看现场直播，大赌输赢，场面极其疯狂。 本次杀人锦标赛云集了赖莱珍（胡凯丽 Kelly Hu 饰）、安东•博加特、尤里•彼德洛夫（Scott Adkins 饰）、迈尔斯•史雷德（Ian Somerhalder 饰）等身怀绝技、手段凶狠的个中高手，更有怀着复仇目的参加比赛的上届冠军乔舒娅•哈洛（Ving Rhames 饰），这注定是一场血腥而丧失人性的杀戮战……©豆瓣',\n  'othername': 'sharenjinbiaosai',\n  'moviestatus': '完结',\n  'movieborntime': '2020-04-05',\n  'actor': '罗伯特·卡莱尔,胡凯莉,伊恩·萨默海尔德,利亚姆·坎宁安',\n  'director': '斯科特·曼',\n  'movieclass': '动作片',\n  'classextant': '动作,惊悚',\n  'country': '英国',\n  'year': '2009',\n  'lang': '中文字幕',\n  'episodr': '0',\n  'movielen': '92分钟',\n  'click': '0',\n  'links': {'HD高清': 'https://meiju10.qfxmj.com/20200405/Ac9q3MBY/index.m3u8'}},\n '7': {'moviename': '透明人2',\n  'updatetime': 1586063079.0,\n  'movieimg': 'https://tu.511.la/uploads/200405/050126087410.jpg',\n  'moviedescrib': '某医学博士在派对上被一名透明人杀死，探员特纳（彼得•费辛利 Peter Facinelli 饰）与丽萨在勘察现场时却被告知此案由国防部接手，而他二人的任务是保护女生物学家道尔顿（劳拉•里根 Laura Regan 饰）。另一方面，透明人在杀死医学博士前，得知令自己身体好转的缓冲药剂只有道尔顿才能提供…… 特纳与丽萨在保护道尔顿的当夜遭透明人袭击，利萨殉职，特纳在突然出现的军方包围中才明白道尔顿和自己都不过只是军方用来诱捕透明人的饵。愤怒的特纳带着道尔顿从军方的控制下逃跑，并要求后者说出透明人与军方千丝万缕联系之背后的真相。同时军方将特纳锁定为追捕对象，一场围绕军方、透明人和特纳三方的阴谋与追踪开始上演。©豆瓣',\n  'othername': 'toumingren2',\n  'moviestatus': '完结',\n  'movieborntime': '2020-04-05',\n  'actor': '克里斯蒂安·史莱特,彼得·费辛利,Laura',\n  'director': 'Claudio',\n  'movieclass': '科幻片',\n  'classextant': '动作,恐怖,科幻',\n  'country': '美国',\n  'year': '2006',\n  'lang': '中文字幕',\n  'episodr': '0',\n  'movielen': '91',\n  'click': '1',\n  'links': {'HD高清': 'https://meiju10.qfxmj.com/20200405/F3VfmJR3/index.m3u8'}},\n '8': {'moviename': '富豪辩护人 / 鬣狗',\n  'updatetime': 1586063068.0,\n  'movieimg': 'https://ae01.alicdn.com/kf/Ub35cd80b511344f18a02a568d9d1e01bJ.jpg',\n  'moviedescrib': '《Hyena》讲述代理上流阶层案件的律师们抛头颅洒热血的生存故事。虽然主角们的设定是律师，但该剧并不是法庭电视剧。是讲述以法律为生存武器的鬣狗律师们的关于人类的故事，将描写围绕着男女主人公的各种人物群像而展开的浩荡的生存游戏。 由《风之画员》《来自星星的你》张太侑导演执 导，金璐利编剧执笔。',\n  'othername': 'fuhaobianhurenliegou',\n  'moviestatus': '更新至14集/共16集',\n  'movieborntime': '2020-04-05',\n  'actor': '金惠秀,朱智勋,黄宝罗',\n  'director': '张太维',\n  'movieclass': '韩剧',\n  'classextant': '剧情',\n  'country': '韩国',\n  'year': '2020',\n  'lang': '中文字幕',\n  'episodr': '0',\n  'movielen': '内详',\n  'click': '54',\n  'links': {'第01集': 'https://meiju11.qfxmj.com/20200222/gJat68so/index.m3u8',\n   '第02集': 'https://meiju11.qfxmj.com/20200223/rSZNtQmv/index.m3u8',\n   '第03集': 'https://meiju11.qfxmj.com/20200229/L9U5vN9k/index.m3u8',\n   '第04集': 'https://meiju11.qfxmj.com/20200301/EqZQCfwd/index.m3u8',\n   '第05集': 'https://meiju11.qfxmj.com/20200307/ikcvTd8H/index.m3u8',\n   '第06集': 'https://meiju11.qfxmj.com/20200308/OW4VjNED/index.m3u8',\n   '第07集': 'https://meiju11.qfxmj.com/20200314/e4BHO6Rn/index.m3u8',\n   '第08集': 'https://meiju11.qfxmj.com/20200315/s7bCZpiC/index.m3u8',\n   '第09集': 'https://meiju11.qfxmj.com/20200321/uAG9afbU/index.m3u8',\n   '第10集': 'https://meiju11.qfxmj.com/20200322/tRGxhO8i/index.m3u8',\n   '第11集': 'https://meiju11.qfxmj.com/20200328/KqRi21NE/index.m3u8',\n   '第12集': 'https://meiju11.qfxmj.com/20200329/oHFGQLVN/index.m3u8',\n   '第13集': 'https://meiju11.qfxmj.com/20200404/B78uBRLw/index.m3u8',\n   '第14集': 'https://meiju11.qfxmj.com/20200405/cQyNaaj1/index.m3u8'}},\n '9': {'moviename': '错位青春第三季',\n  'updatetime': 1586059492.0,\n  'movieimg': 'https://pic.rrzy.cc/upload/vod/20190430-1/79c899a30007b0caa646ae447467f002.jpg',\n  'moviedescrib': 'The third season of ABC Family drama television series Switched at Birth began on January 13, 2014, and will consist of 22 episodes. The season is produced by ABC Family, Pirates Cove Entertainment, and Suzy B Productions, with Paul Stupin and series creator Lizzy Weiss serving as executive producers. \\u3000\\u3000The one-hour ｓｃｒｉｐｔed drama revolves around two young women who discover the...',\n  'othername': 'cuoweiqingchundisanji',\n  'moviestatus': '完结/共22集',\n  'movieborntime': '2020-04-05',\n  'actor': '肖恩·伯蒂/卢卡斯·格拉比/凯蒂·勒克莱齐/瓦蕾莎·马兰洛/康斯坦斯',\n  'director': 'JamesHayman',\n  'movieclass': '喜剧青春',\n  'classextant': '青春',\n  'country': '美国',\n  'year': '2015',\n  'lang': '中文字幕',\n  'episodr': '0',\n  'movielen': '内详',\n  'click': '91709',\n  'links': {'第01集': 'https://meiju10.qfxmj.com/20200405/z25g0WLd/index.m3u8',\n   '第02集': 'https://meiju10.qfxmj.com/20200405/WUC7Tdjq/index.m3u8',\n   '第03集': 'https://meiju10.qfxmj.com/20200405/nP7iX1YW/index.m3u8',\n   '第04集': 'https://meiju10.qfxmj.com/20200405/aGnGKtys/index.m3u8',\n   '第05集': 'https://meiju10.qfxmj.com/20200405/JVrRv9EV/index.m3u8',\n   '第06集': 'https://meiju10.qfxmj.com/20200405/rVXSjUL9/index.m3u8',\n   '第07集': 'https://meiju10.qfxmj.com/20200405/hsf52Dw6/index.m3u8',\n   '第08集': 'https://meiju10.qfxmj.com/20200405/QcEl769G/index.m3u8',\n   '第09集': 'https://meiju10.qfxmj.com/20200405/OJZOXOzX/index.m3u8',\n   '第10集': 'https://meiju10.qfxmj.com/20200405/ZdMEspJQ/index.m3u8',\n   '第11集': 'https://meiju10.qfxmj.com/20200405/VcKEMkmV/index.m3u8',\n   '第12集': 'https://meiju10.qfxmj.com/20200405/S2napNbp/index.m3u8',\n   '第13集': 'https://meiju10.qfxmj.com/20200405/dFnDSOUh/index.m3u8',\n   '第14集': 'https://meiju10.qfxmj.com/20200405/a2dbjIpF/index.m3u8',\n   '第15集': 'https://meiju10.qfxmj.com/20200405/92DyH4yq/index.m3u8',\n   '第16集': 'https://meiju10.qfxmj.com/20200405/WgssdGk5/index.m3u8',\n   '第17集': 'https://meiju10.qfxmj.com/20200405/x7YtGqA6/index.m3u8',\n   '第18集': 'https://meiju10.qfxmj.com/20200405/vvFpeKtb/index.m3u8',\n   '第19集': 'https://meiju10.qfxmj.com/20200405/I0hLryEl/index.m3u8',\n   '第20集': 'https://meiju10.qfxmj.com/20200405/aqjdWcVi/index.m3u8',\n   '第21集': 'https://meiju10.qfxmj.com/20200405/vSUDRbCj/index.m3u8',\n   '第22集': 'https://meiju10.qfxmj.com/20200405/0oTz2bXj/index.m3u8'}},\n '10': {'moviename': '神圣的谎言第二季',\n  'updatetime': 1586059446.0,\n  'movieimg': 'https://pic.yefu365.com/upload/vod/20200222-1/18287774c6e34dc7c150a982a51f3e31.jpg',\n  'moviedescrib': '本剧由《真爱如血》的执行制片人Raelle Tucker和导演Scott Winant再度合作开发，制片方为最近出品了《利器》的Blumhouse。素材来自《格林童话》经典故事《没有手的姑娘》(The Handless Maiden)，还结合了Stephanie Oakes的小说《The Sacred Lies of Minnow Bly》。讲述了一名无手少女在逃离邪//教后，因故进了少/管/所，她被怀疑知道是谁杀死了邪教领袖。\\u3000\\u3000《忽然七日》的Elena Kampouris饰演女主，《守望尘世》的Kevin Carroll饰演威尔森医生。卡司好包括《杰西卡·琼斯》的Leah Gibson，《奔腾年代》的Toby Huss。',\n  'othername': 'shenshengdehuangyandierji',\n  'moviestatus': '更新至9集',\n  'movieborntime': '2020-04-05',\n  'actor': '埃莱娜·康博里斯',\n  'director': '斯科特·怀南特',\n  'movieclass': '悬疑烧脑',\n  'classextant': '恐怖,剧情',\n  'country': '美国',\n  'year': '2020',\n  'lang': '中文字幕',\n  'episodr': '0',\n  'movielen': '内详',\n  'click': '9',\n  'links': {'第01集': 'https://meiju10.qfxmj.com/20200222/XmQOH8cQ/index.m3u8',\n   '第02集': 'https://meiju10.qfxmj.com/20200222/bKMCYwBI/index.m3u8',\n   '第03集': 'https://meiju10.qfxmj.com/20200222/J0CC1EcY/index.m3u8',\n   '第04集': 'https://meiju10.qfxmj.com/20200229/fTcwx4ov/index.m3u8',\n   '第05集': 'https://meiju10.qfxmj.com/20200307/yHxBhOCY/index.m3u8',\n   '第06集': 'https://meiju10.qfxmj.com/20200314/WX8EQ1eD/index.m3u8',\n   '第07集': 'https://meiju10.qfxmj.com/20200321/0tnrjmBb/index.m3u8',\n   '第08集': 'https://meiju10.qfxmj.com/20200328/wgoi0vhl/index.m3u8',\n   '第09集': 'https://meiju10.qfxmj.com/20200405/3S6RPwhp/index.m3u8'}},\n '11': {'moviename': '神烦警探第七季',\n  'updatetime': 1586059472.0,\n  'movieimg': 'https://tu.511.la/uploads/200208/080224232400.jpg',\n  'moviedescrib': '《神烦警探》续订第七季！转到NBC播出的《神烦警探》第六季收视相比第五季有所上涨，18-49岁观众收视率上涨34%，平均观众人次上涨34%。剧集由安迪·萨姆伯格、梅丽莎·弗梅洛、泰瑞·克鲁斯、斯蒂芬妮·比翠丝、乔·洛·特鲁格里奥、德克·布罗克、安德鲁·布劳尔等主演，故事围绕纽约警探们的生活展开。',\n  'othername': 'shenfanjingtandiqiji',\n  'moviestatus': '更新至10集',\n  'movieborntime': '2020-04-05',\n  'actor': '安迪·萨姆伯格,梅丽莎·弗梅洛,泰瑞·克鲁斯,斯蒂芬妮·比翠丝',\n  'director': '内详',\n  'movieclass': '悬疑烧脑',\n  'classextant': '喜剧,犯罪',\n  'country': '美国',\n  'year': '2020',\n  'lang': '中文字幕',\n  'episodr': '0',\n  'movielen': '内详',\n  'click': '26',\n  'links': {'第01集': 'https://meiju10.qfxmj.com/20200208/I8MdAYxs/index.m3u8',\n   '第02集': 'https://meiju10.qfxmj.com/20200209/UNkj9kmT/index.m3u8',\n   '第03集': 'https://meiju10.qfxmj.com/20200214/9FmtbfWX/index.m3u8',\n   '第04集': 'https://meiju10.qfxmj.com/20200222/RDaI5seQ/index.m3u8',\n   '第05集': 'https://meiju10.qfxmj.com/20200228/QiCGWEuf/index.m3u8',\n   '第06集': 'https://meiju10.qfxmj.com/20200307/vBajkgkD/index.m3u8',\n   '第07集': 'https://meiju10.qfxmj.com/20200314/X4BkdZDt/index.m3u8',\n   '第08集': 'https://meiju10.qfxmj.com/20200321/AvZeI4yR/index.m3u8',\n   '第09集': 'https://meiju10.qfxmj.com/20200327/ia36ExLG/index.m3u8',\n   '第10集': 'https://meiju10.qfxmj.com/20200405/pTkSz74x/index.m3u8'}},\n '12': {'moviename': '新圣女魔咒第二季',\n  'updatetime': 1586059496.0,\n  'movieimg': 'https://pic.yefu365.com/upload/vod/20191211-1/801fa2848c6349673ce128cc3ff59cea.jpg',\n  'moviedescrib': '新剧《圣女魔咒》获得了CW第二季的续订。',\n  'othername': 'xinshengnvmozhoudierji',\n  'moviestatus': '更新至11集',\n  'movieborntime': '2020-04-05',\n  'actor': '梅罗妮·迪亚兹,玛德琳·曼托克,Sarah',\n  'director': '尼克·戈麦斯',\n  'movieclass': '科幻动作',\n  'classextant': '剧情,奇幻',\n  'country': '美国',\n  'year': '2019',\n  'lang': '英语',\n  'episodr': '0',\n  'movielen': '45min',\n  'click': '29',\n  'links': {'第01集': 'https://meiju10.qfxmj.com/20200112/D2GeR87Q/index.m3u8',\n   '第02集': 'https://meiju10.qfxmj.com/20200112/8Q2gLbLt/index.m3u8',\n   '第03集': 'https://meiju10.qfxmj.com/20200112/BXJWccRn/index.m3u8',\n   '第04集': 'https://meiju10.qfxmj.com/20200112/l9qgSaAe/index.m3u8',\n   '第05集': 'https://meiju10.qfxmj.com/20200112/OpqIyP9n/index.m3u8',\n   '第06集': 'https://meiju10.qfxmj.com/20200208/uTdkeXuX/index.m3u8',\n   '第07集': 'https://meiju10.qfxmj.com/20200208/0NQqjNe2/index.m3u8',\n   '第08集': 'https://meiju10.qfxmj.com/20200208/EZupKbNM/index.m3u8',\n   '第09集': 'https://meiju10.qfxmj.com/20200405/Gg5spnIz/index.m3u8',\n   '第10集': 'https://meiju10.qfxmj.com/20200405/SveKLRUV/index.m3u8',\n   '第11集': 'https://meiju10.qfxmj.com/20200405/vxLgaQys/index.m3u8'}},\n '13': {'moviename': '切肤之痛第一季',\n  'updatetime': 1586059441.0,\n  'movieimg': 'https://tu.511.la/uploads/200403/030247134575.jpg',\n  'moviedescrib': \"由Expectation Entertainment制作的《我的皮肤》（5x30'）获得英国电影学院奖（Bafta Cymru）是一部黑色喜剧系列，由作家凯莉·卢威尔（Kayleigh Llewell yn）创作，她挖掘了自己的经验，创造了一个少女过着双重生活的成人故事。Bethan（Gabrielle Creevy）拼命地试图把她的家庭生活的真相从她的朋友那里泄露出去。但是，当你的母亲（乔·哈特利）被隔离在学校附近的精神病院里，并且有爆发的嗜好，而你的父亲（罗德里梅利尔）是开着破烂卡车的地狱天使，在雷达下飞行就不那么容易了。尽管如此，贝珊还是决心不让自己脸红。但她的面颊和才智只能把她带到这一步，因为她把自己越来越深地挖掘进自己的谎言中。一路上有女同性恋的迷恋，来自她的奶奶的强悍的爱，来自她的推土机老师的不停的干涉，她总是在她的案件。有时，这是有趣的，原始的和令人心碎的，因为我们通过贝坦替代性地重温我们的青春期-这一切令人困惑，陶醉，痛苦的混乱。\",\n  'othername': 'qiefuzhitongdiyiji',\n  'moviestatus': '更新至4集/共5集',\n  'movieborntime': '2020-04-05',\n  'actor': '迪·波特切尔,加布瑞拉·克里维,波佩·李·弗里尔,乔·哈特利',\n  'director': '内详',\n  'movieclass': '悬疑烧脑',\n  'classextant': '剧情',\n  'country': '英国',\n  'year': '2020',\n  'lang': '中文字幕',\n  'episodr': '0',\n  'movielen': '30分钟',\n  'click': '15',\n  'links': {'第01集': 'https://meiju10.qfxmj.com/20200403/YofBJhdV/index.m3u8',\n   '第02集': 'https://meiju10.qfxmj.com/20200405/3mFWVdB9/index.m3u8',\n   '第03集': 'https://meiju10.qfxmj.com/20200405/EEOLACIq/index.m3u8',\n   '第04集': 'https://meiju10.qfxmj.com/20200405/smBFmqlQ/index.m3u8'}},\n '14': {'moviename': '女局长第一季',\n  'updatetime': 1586059497.0,\n  'movieimg': 'https://tu.511.la/uploads/200208/080220425334.jpg',\n  'moviedescrib': 'Paul Attanasio执笔的CBS剧《女局长 Tommy》获正式预订，剧中讲述一位前高级纽约警官Abigail “Tommy” Thomas（Edie Falco饰）成为洛杉矶警察首位女局长后，她如何用诚实但强硬的手段解决各种社会﹑政治﹑国家问题。 其余主演包括 Michael Chernus﹑Adelaide Clemens﹑Russell G. Jones﹑Olivia Lucy Phillip﹑Thomas Sadoski及Joseph Lyle Taylor。',\n  'othername': 'nvjuchangdiyiji',\n  'moviestatus': '更新至7集',\n  'movieborntime': '2020-04-05',\n  'actor': '埃迪·法可,迈克尔·切鲁斯,拉塞尔·G·琼斯,Olivia',\n  'director': '内详',\n  'movieclass': '悬疑烧脑',\n  'classextant': '剧情',\n  'country': '美国',\n  'year': '2019',\n  'lang': '中文字幕',\n  'episodr': '0',\n  'movielen': '内详',\n  'click': '37',\n  'links': {'第01集': 'https://meiju10.qfxmj.com/20200208/IiHpOwi6/index.m3u8',\n   '第02集': 'https://meiju10.qfxmj.com/20200215/FprapMsg/index.m3u8',\n   '第03集': 'https://meiju10.qfxmj.com/20200222/zwwzXQ63/index.m3u8',\n   '第04集': 'https://meiju10.qfxmj.com/20200229/G4hpyLd5/index.m3u8',\n   '第05集': 'https://meiju10.qfxmj.com/20200307/lI9bLNot/index.m3u8',\n   '第06集': 'https://meiju10.qfxmj.com/20200314/BhNGQTPz/index.m3u8',\n   '第07集': 'https://meiju10.qfxmj.com/20200405/s3lFMlLg/index.m3u8'}},\n '15': {'moviename': '走进黑暗/黑暗诗选第二季',\n  'updatetime': 1586059452.0,\n  'movieimg': 'https://tu.511.la/uploads/191006/060224258142.jpg',\n  'moviedescrib': 'Hulu宣布续订《#黑暗诗选# Into the Dark》第二季，使其起码播至下年秋档。',\n  'othername': 'zoujinheiandierji',\n  'moviestatus': '更新至7集',\n  'movieborntime': '2020-04-05',\n  'actor': '内详',\n  'director': '内详',\n  'movieclass': '悬疑烧脑',\n  'classextant': '剧情,惊悚',\n  'country': '美国',\n  'year': '2019',\n  'lang': '中文字幕',\n  'episodr': '0',\n  'movielen': '内详',\n  'click': '35',\n  'links': {'第01集': 'https://meiju10.qfxmj.com/20191005/VDKlgdkg/index.m3u8',\n   '第02集': 'https://meiju10.qfxmj.com/20191101/ILuja55s/index.m3u8',\n   '第03集': 'https://meiju10.qfxmj.com/20191207/XIt7Me78/index.m3u8',\n   '第04集': 'https://meiju10.qfxmj.com/20191228/ThPzSCpX/index.m3u8',\n   '第05集': 'https://meiju10.qfxmj.com/20200209/j2M6nZoN/index.m3u8',\n   '第06集': 'https://meiju10.qfxmj.com/20200307/SpEOhDWr/index.m3u8',\n   '第07集': 'https://meiju10.qfxmj.com/20200405/GYxrDxW1/index.m3u8'}},\n '16': {'moviename': '怪咖！文主厨',\n  'updatetime': 1586059474.0,\n  'movieimg': 'https://ae01.alicdn.com/kf/U5a392a7d62aa49a1a51dc89c0f50cc7eN.jpg',\n  'moviedescrib': '该剧讲述了在星月朗朗的西夏村，失去记忆、沦落为冒失鬼的世界级时装设计师与明星厨师相遇后，经历成长、爱情与成功的治愈浪漫喜剧故事。',\n  'othername': 'guaikawenzhuchu',\n  'moviestatus': '更新至4集/共16集',\n  'movieborntime': '2020-04-05',\n  'actor': '文晸赫,高媛熙',\n  'director': '崔道勋',\n  'movieclass': '韩剧',\n  'classextant': '剧情',\n  'country': '韩国',\n  'year': '2020',\n  'lang': '中文字幕',\n  'episodr': '0',\n  'movielen': '60分钟',\n  'click': '38',\n  'links': {'第01集': 'https://meiju11.qfxmj.com/20200328/7oPBn58W/index.m3u8',\n   '第02集': 'https://meiju11.qfxmj.com/20200329/nEKqwPc1/index.m3u8',\n   '第03集': 'https://meiju11.qfxmj.com/20200404/EWYXVlON/index.m3u8',\n   '第04集': 'https://meiju11.qfxmj.com/20200405/46hB5RMM/index.m3u8'}},\n '17': {'moviename': '夫妻的世界',\n  'updatetime': 1586059464.0,\n  'movieimg': 'https://ae01.alicdn.com/kf/U80551842e1ef41b49871c7f7113644f7W.jpg',\n  'moviedescrib': '该剧是讲述原以为是相爱着的夫妻的缘分因为背叛而终结，并被卷入复仇的旋涡的故事。将描写想毁掉对方的憎恨成为一种爱的形式，拼死勒住彼此的脖子的激烈的爱情。 由《Misty》毛完日导演执导，《玉氏南政基》朱贤编剧执笔，接档《梨泰院Class》播出。',\n  'othername': 'fuqideshijie',\n  'moviestatus': '更新至4集/共16集',\n  'movieborntime': '2020-04-05',\n  'actor': '金喜爱,朴海俊,朴善英,金永敏',\n  'director': '毛完日',\n  'movieclass': '韩剧',\n  'classextant': '爱情',\n  'country': '韩国',\n  'year': '2020',\n  'lang': '中文字幕',\n  'episodr': '16',\n  'movielen': '内详',\n  'click': '58',\n  'links': {'第01集': 'https://meiju11.qfxmj.com/20200328/U08z7Ea8/index.m3u8',\n   '第02集': 'https://meiju11.qfxmj.com/20200329/i8jr8H17/index.m3u8',\n   '第03集': 'https://meiju11.qfxmj.com/20200404/vlExqG6X/index.m3u8',\n   '第04集': 'https://meiju11.qfxmj.com/20200405/PsvA7T8m/index.m3u8'}},\n '18': {'moviename': '芦苇 / Rugal：无泪交锋',\n  'updatetime': 1586059492.0,\n  'movieimg': 'https://ae01.alicdn.com/kf/Ud36a80c2abbc4de799eec1eba5697cebD.jpg',\n  'moviedescrib': '该剧改编自同名网漫，是最强机械人类的复仇剧，讲述精英警察姜基范的妻子被暴力组织“火蚁派”害死，他自己也双眼失明并被诬陷为杀人犯，在通过特殊警察组织RUGAL的生化高新科技而获得新的眼睛后，他去找出自己的敌人，讨伐火蚁派的故事。',\n  'othername': 'luweiRugalwuleijiaofeng',\n  'moviestatus': '更新至3集/共16集',\n  'movieborntime': '2020-04-05',\n  'actor': '崔振赫,朴圣雄,赵东赫,朴宣浩',\n  'director': '姜哲宇',\n  'movieclass': '韩剧',\n  'classextant': '动作,剧情',\n  'country': '韩国',\n  'year': '2020',\n  'lang': '韩语',\n  'episodr': '0',\n  'movielen': '60分钟',\n  'click': '4',\n  'links': {'第01集': 'https://meiju11.qfxmj.com/20200330/qouvfDnj/index.m3u8',\n   '第02集': 'https://meiju11.qfxmj.com/20200330/BUMZsvay/index.m3u8',\n   '第03集': 'https://meiju11.qfxmj.com/20200405/V5sN65EL/index.m3u8'}},\n '19': {'moviename': '结过一次了 / Once Again',\n  'updatetime': 1586059492.0,\n  'movieimg': 'https://ae01.alicdn.com/kf/Ue5a96170ebb4435f96e8710d5249f180k.jpg',\n  'moviedescrib': '该剧讲述了通过父母和子女之间离婚的间隙和克服危机，各自完成寻找幸福的过程。',\n  'othername': 'jieguoyiciliaoOnceAgain',\n  'moviestatus': '更新至5集/共100集',\n  'movieborntime': '2020-04-05',\n  'actor': '李珉廷,李相烨,吴代焕,吴允儿',\n  'director': '李在相',\n  'movieclass': '韩剧',\n  'classextant': '剧情',\n  'country': '韩国',\n  'year': '2020',\n  'lang': '中文字幕',\n  'episodr': '0',\n  'movielen': '30分钟',\n  'click': '11',\n  'links': {'第01-02集': 'https://meiju11.qfxmj.com/20200329/Bi1XXHsK/index.m3u8',\n   '第03-04集': 'https://meiju11.qfxmj.com/20200330/kdJcdsIv/index.m3u8',\n   '第05-06集': 'https://meiju11.qfxmj.com/20200405/OKUulHie/index.m3u8'}}}"
     },
     "metadata": {},
     "execution_count": 5
    }
   ],
   "source": [
    "data.jsondata"
   ]
  },
  {
   "cell_type": "code",
   "execution_count": 14,
   "metadata": {},
   "outputs": [
    {
     "output_type": "stream",
     "name": "stdout",
     "text": "('1', {'moviename': '太阳帝国', 'updatetime': 1586063055.0, 'movieimg': 'https://tu.511.la/uploads/200405/050205016414.jpg', 'moviedescrib': '1941年上海，中国抗日战争已经历时四年，随着太平洋战争的爆发，英美加入战局，上海外租界的西方人的生活也经历了巨大的动荡，11岁的Jamie就是其中之一。 在逃难的途中，Jamie和父母走失，他遇到美国人贝希和弗兰克，差点被他们卖掉，三人辗转到了闸北集中营。在集中营，J amie明白了战争的残酷，学会了“为了吃饭什么事都能干”的生存哲学，还认识了和他一样喜欢飞机的日本小孩。但是，在他内心深处，一直渴望着和父母团聚的一天。©豆瓣', 'othername': 'taiyangdiguo', 'moviestatus': '完结', 'movieborntime': '2020-04-05', 'actor': '克里斯蒂安·贝尔,约翰·马尔科维奇,米兰达·理查森,奈杰尔·哈弗斯', 'director': '史蒂文·斯皮尔伯格', 'movieclass': '动作片', 'classextant': '动作,剧情,战争', 'country': '美国', 'year': '1987', 'lang': '中文字幕', 'episodr': '0', 'movielen': '152分钟', 'click': '6', 'links': {'HD高清': 'https://meiju10.qfxmj.com/20200405/1Lwk7W4Y/index.m3u8'}})\n('2', {'moviename': '失踪', 'updatetime': 1586063063.0, 'movieimg': 'https://tu.511.la/uploads/200405/050203116888.jpg', 'moviedescrib': '长像出众的妹妹（金世红 饰）和朋友出游住进一家小旅馆，却未曾想到遭遇变态店主潘根（文成根 饰）。这个外表忠厚老实的店主残忍的杀死妹妹的朋友并囚禁妹妹，对她百般折磨凌辱。几天以后，另一位同样长样出众的少女贤婷（秋瓷炫 饰）来到这个小镇寻访自己的妹妹。经过多番打探之后，她怀疑是旅馆店主绑架自己的妹妹，在警察的帮助下，他们对潘根的地下室进行了搜查，可是最终一无所获。正当姐姐贤婷打算离开小镇的时候，旅馆店主潘根意外出现，并诱骗她来到自己的住处。此时妹妹其实早已被旅馆店主杀害，而姐姐陷入了一个和妹妹当初同样危险的境遇…… 本片根据真实绑架案件改编。©豆瓣', 'othername': 'shizong', 'moviestatus': '完结', 'movieborntime': '2020-04-05', 'actor': '文成根,秋瓷炫,全世洪', 'director': '金成洪', 'movieclass': '恐怖片', 'classextant': '惊悚,恐怖', 'country': '韩国', 'year': '2009', 'lang': '中文字幕', 'episodr': '0', 'movielen': '98分钟', 'click': '1', 'links': {'HD高清': 'https://meiju10.qfxmj.com/20200405/SI7g95IK/index.m3u8'}})\n('3', {'moviename': '兵临城下之决战要塞', 'updatetime': 1586063090.0, 'movieimg': 'https://tu.511.la/uploads/200405/050157394285.jpg', 'moviedescrib': '故事发生在1941年的6月，布格河畔回荡着欢声笑语，就在一片歌舞升平之际，几架飞机飞过投下了炸弹，将一切摧毁殆尽，霎时间，河畔边成为了鲜血和火焰的海洋。德国人的入侵让位于华沙和莫斯科之间的布列斯特要塞陷入了动荡和战争之中，为了保护自己的国家，八千名苏维埃红军战士们拿起了武 器，与亲人告别，走上了战场。 草草建立的军队中人员情况十分复杂，但是，每个人心中的信念却是一致的，那就是顽强抵抗贼寇的入侵。粮食短缺，武器简陋，装备寒酸，在及其恶劣的条件之下，苏维埃青年们和装备精良的敌方展开了一场又一场险象环生的激烈战斗，并且最终获得了胜利。©豆瓣', 'othername': 'binglinchengxiazhijuezhanyaosai', 'moviestatus': '完结', 'movieborntime': '2020-04-05', 'actor': '安德烈·梅尔兹利金,叶甫盖尼·齐加诺夫,帕维尔·杰列维扬科,Anna', 'director': '亚历山大·科特', 'movieclass': '动作片', 'classextant': '剧情,动作,历史', 'country': '俄罗斯', 'year': '2010', 'lang': '中文字幕', 'episodr': '0', 'movielen': '138分钟(白俄罗斯', 'click': '1', 'links': {'HD高清': 'https://meiju10.qfxmj.com/20200405/n7cxyZuo/index.m3u8'}})\n('4', {'moviename': '名字之歌', 'updatetime': 1586063084.0, 'movieimg': 'https://tu.511.la/uploads/200405/050134177075.jpg', 'moviedescrib': '根据诺曼·莱布得勒支创作的同名小说改编，讲述二战时的伦敦，两个少年马丁和道维多尔成为生死之交。道维多尔是个从华沙流亡过来的小提琴手，寄居在马丁家。然而，就在道维多尔的小提琴独奏会的首演当晚，他却神秘地失踪了，这件事成了马丁几十年的心结。', 'othername': 'mingzizhige', 'moviestatus': '完结', 'movieborntime': '2020-04-05', 'actor': '蒂姆·罗斯,克里夫·欧文,艾迪·伊扎德,绍尔·鲁宾内克', 'director': '佛朗索瓦·吉拉德', 'movieclass': '剧情片', 'classextant': '剧情', 'country': '加拿大', 'year': '2019', 'lang': '中文字幕', 'episodr': '0', 'movielen': '113分钟', 'click': '4', 'links': {'HD高清': 'https://meiju10.qfxmj.com/20200405/HSDS9Ube/index.m3u8'}})\n('5', {'moviename': '生死谍变', 'updatetime': 1586063061.0, 'movieimg': 'https://tu.511.la/uploads/200405/050131462270.jpg', 'moviedescrib': '金明姬是朝鲜第八特别部队的特工，自1993年潜入韩国之后，暗杀了多名政要。她的行动引起了韩国特工机构的注意，并派特工崔相焕（韩石奎 饰）和李正希（宋康浩 饰）调查她的下落，可是她却销声匿迹了。 1998年，金明姬又出现了，她让黑市军火商人林光超帮忙找新武器液体炸弹CTX，林贿赂国防部研究院的研究员金宗叔帮他偷，没有得手。事情暴露后，二人先后被金明姬杀害。 因为金明姬的失败，朝鲜派出了以卜万坤（崔岷植 饰）为首的特工队伍，在韩国军队运送CTX参加军火展览途中将炸弹劫走，准备破坏即将举办的两国友谊足球比赛。 这一切，让崔相焕、李正希和他们的上司高部长十分苦恼，他们发现，金明姬总能先他们一步找到目标，破坏他们的行动，金明姬就在他们身边，或许正是最亲近，最不设防的那个人。©豆瓣', 'othername': 'shengsidiebian', 'moviestatus': '完结', 'movieborntime': '2020-04-05', 'actor': '韩石圭,崔岷植,宋康昊,金允珍', 'director': '姜帝圭', 'movieclass': '动作片', 'classextant': '动作,犯罪,剧情', 'country': '韩国', 'year': '1999', 'lang': '中文字幕', 'episodr': '0', 'movielen': '125', 'click': '1', 'links': {'CD01': 'https://meiju10.qfxmj.com/20200404/lnnyhJ7z/index.m3u8', 'CD02': 'https://meiju10.qfxmj.com/20200404/YvZQDb6X/index.m3u8', 'CD03': 'https://meiju10.qfxmj.com/20200404/Xi7SRVM0/index.m3u8'}})\n('6', {'moviename': '杀人锦标赛', 'updatetime': 1586063065.0, 'movieimg': 'https://tu.511.la/uploads/200405/050129114578.jpg', 'moviedescrib': '英国的德尔斯布勒，正悄悄展开一场游戏。这是属于富翁和杀戮者的残酷游戏，它每7年举行一次，幕后操纵者以一千万美元奖金为诱饵召集了世界上30位顶尖杀手，在24小时之内，他们将在这个小镇内捉对厮杀，只有最后的王者才能获得巨额报酬。与此同时，富豪们坐在大屏幕前观看现场直播，大赌输赢，场面极其疯狂。 本次杀人锦标赛云集了赖莱珍（胡凯丽 Kelly Hu 饰）、安东•博加特、尤里•彼德洛夫（Scott Adkins 饰）、迈尔斯•史雷德（Ian Somerhalder 饰）等身怀绝技、手段凶狠的个中高手，更有怀着复仇目的参加比赛的上届冠军乔舒娅•哈洛（Ving Rhames 饰），这注定是一场血腥而丧失人性的杀戮战……©豆瓣', 'othername': 'sharenjinbiaosai', 'moviestatus': '完结', 'movieborntime': '2020-04-05', 'actor': '罗伯特·卡莱尔,胡凯莉,伊恩·萨默海尔德,利亚姆·坎宁安', 'director': '斯科特·曼', 'movieclass': '动作片', 'classextant': '动作,惊悚', 'country': '英国', 'year': '2009', 'lang': '中文字幕', 'episodr': '0', 'movielen': '92分钟', 'click': '0', 'links': {'HD高清': 'https://meiju10.qfxmj.com/20200405/Ac9q3MBY/index.m3u8'}})\n('7', {'moviename': '透明人2', 'updatetime': 1586063079.0, 'movieimg': 'https://tu.511.la/uploads/200405/050126087410.jpg', 'moviedescrib': '某医学博士在派对上被一名透明人杀死，探员特纳（彼得•费辛利 Peter Facinelli 饰）与丽萨在勘察现场时却被告知此案由国防部接手，而他二人的任务是保护女生物学家道尔顿（劳拉•里根 Laura Regan 饰）。另一方面，透明人在杀死医学博士前，得知令自己身体好转的缓冲药剂只有道尔顿才能提供…… 特纳与丽萨在保护道尔顿的当夜遭透明人袭击，利萨殉职，特纳在突然出现的军方包围中才明白道尔顿和自己都不过只是军方用来诱捕透明人的饵。愤怒的特纳带着道尔顿从军方的控制下逃跑，并要求后者说出透明人与军方千丝万缕联系之背后的真相。同时军方将特纳锁定为追捕对象，一场围绕军方、透明人和特纳三方的阴谋与追踪开始上演。©豆瓣', 'othername': 'toumingren2', 'moviestatus': '完结', 'movieborntime': '2020-04-05', 'actor': '克里斯蒂安·史莱特,彼得·费辛利,Laura', 'director': 'Claudio', 'movieclass': '科幻片', 'classextant': '动作,恐怖,科幻', 'country': '美国', 'year': '2006', 'lang': '中文字幕', 'episodr': '0', 'movielen': '91', 'click': '1', 'links': {'HD高清': 'https://meiju10.qfxmj.com/20200405/F3VfmJR3/index.m3u8'}})\n('8', {'moviename': '富豪辩护人 / 鬣狗', 'updatetime': 1586063068.0, 'movieimg': 'https://ae01.alicdn.com/kf/Ub35cd80b511344f18a02a568d9d1e01bJ.jpg', 'moviedescrib': '《Hyena》讲述代理上流阶层案件的律师们抛头颅洒热血的生存故事。虽然主角们的设定是律师，但该剧并不是法庭电视剧。是讲述以法律为生存武器的鬣狗律师们的关于人类的故事，将描写围绕着男女主人公的各种人物群像而展开的浩荡的生存游戏。 由《风之画员》《来自星星的你》张太侑导演执 导，金璐利编剧执笔。', 'othername': 'fuhaobianhurenliegou', 'moviestatus': '更新至14集/共16集', 'movieborntime': '2020-04-05', 'actor': '金惠秀,朱智勋,黄宝罗', 'director': '张太维', 'movieclass': '韩剧', 'classextant': '剧情', 'country': '韩国', 'year': '2020', 'lang': '中文字幕', 'episodr': '0', 'movielen': '内详', 'click': '54', 'links': {'第01集': 'https://meiju11.qfxmj.com/20200222/gJat68so/index.m3u8', '第02集': 'https://meiju11.qfxmj.com/20200223/rSZNtQmv/index.m3u8', '第03集': 'https://meiju11.qfxmj.com/20200229/L9U5vN9k/index.m3u8', '第04集': 'https://meiju11.qfxmj.com/20200301/EqZQCfwd/index.m3u8', '第05集': 'https://meiju11.qfxmj.com/20200307/ikcvTd8H/index.m3u8', '第06集': 'https://meiju11.qfxmj.com/20200308/OW4VjNED/index.m3u8', '第07集': 'https://meiju11.qfxmj.com/20200314/e4BHO6Rn/index.m3u8', '第08集': 'https://meiju11.qfxmj.com/20200315/s7bCZpiC/index.m3u8', '第09集': 'https://meiju11.qfxmj.com/20200321/uAG9afbU/index.m3u8', '第10集': 'https://meiju11.qfxmj.com/20200322/tRGxhO8i/index.m3u8', '第11集': 'https://meiju11.qfxmj.com/20200328/KqRi21NE/index.m3u8', '第12集': 'https://meiju11.qfxmj.com/20200329/oHFGQLVN/index.m3u8', '第13集': 'https://meiju11.qfxmj.com/20200404/B78uBRLw/index.m3u8', '第14集': 'https://meiju11.qfxmj.com/20200405/cQyNaaj1/index.m3u8'}})\n('9', {'moviename': '错位青春第三季', 'updatetime': 1586059492.0, 'movieimg': 'https://pic.rrzy.cc/upload/vod/20190430-1/79c899a30007b0caa646ae447467f002.jpg', 'moviedescrib': 'The third season of ABC Family drama television series Switched at Birth began on January 13, 2014, and will consist of 22 episodes. The season is produced by ABC Family, Pirates Cove Entertainment, and Suzy B Productions, with Paul Stupin and series creator Lizzy Weiss serving as executive producers. \\u3000\\u3000The one-hour ｓｃｒｉｐｔed drama revolves around two young women who discover the...', 'othername': 'cuoweiqingchundisanji', 'moviestatus': '完结/共22集', 'movieborntime': '2020-04-05', 'actor': '肖恩·伯蒂/卢卡斯·格拉比/凯蒂·勒克莱齐/瓦蕾莎·马兰洛/康斯坦斯', 'director': 'JamesHayman', 'movieclass': '喜剧青春', 'classextant': '青春', 'country': '美国', 'year': '2015', 'lang': '中文字幕', 'episodr': '0', 'movielen': '内详', 'click': '91709', 'links': {'第01集': 'https://meiju10.qfxmj.com/20200405/z25g0WLd/index.m3u8', '第02集': 'https://meiju10.qfxmj.com/20200405/WUC7Tdjq/index.m3u8', '第03集': 'https://meiju10.qfxmj.com/20200405/nP7iX1YW/index.m3u8', '第04集': 'https://meiju10.qfxmj.com/20200405/aGnGKtys/index.m3u8', '第05集': 'https://meiju10.qfxmj.com/20200405/JVrRv9EV/index.m3u8', '第06集': 'https://meiju10.qfxmj.com/20200405/rVXSjUL9/index.m3u8', '第07集': 'https://meiju10.qfxmj.com/20200405/hsf52Dw6/index.m3u8', '第08集': 'https://meiju10.qfxmj.com/20200405/QcEl769G/index.m3u8', '第09集': 'https://meiju10.qfxmj.com/20200405/OJZOXOzX/index.m3u8', '第10集': 'https://meiju10.qfxmj.com/20200405/ZdMEspJQ/index.m3u8', '第11集': 'https://meiju10.qfxmj.com/20200405/VcKEMkmV/index.m3u8', '第12集': 'https://meiju10.qfxmj.com/20200405/S2napNbp/index.m3u8', '第13集': 'https://meiju10.qfxmj.com/20200405/dFnDSOUh/index.m3u8', '第14集': 'https://meiju10.qfxmj.com/20200405/a2dbjIpF/index.m3u8', '第15集': 'https://meiju10.qfxmj.com/20200405/92DyH4yq/index.m3u8', '第16集': 'https://meiju10.qfxmj.com/20200405/WgssdGk5/index.m3u8', '第17集': 'https://meiju10.qfxmj.com/20200405/x7YtGqA6/index.m3u8', '第18集': 'https://meiju10.qfxmj.com/20200405/vvFpeKtb/index.m3u8', '第19集': 'https://meiju10.qfxmj.com/20200405/I0hLryEl/index.m3u8', '第20集': 'https://meiju10.qfxmj.com/20200405/aqjdWcVi/index.m3u8', '第21集': 'https://meiju10.qfxmj.com/20200405/vSUDRbCj/index.m3u8', '第22集': 'https://meiju10.qfxmj.com/20200405/0oTz2bXj/index.m3u8'}})\n('10', {'moviename': '神圣的谎言第二季', 'updatetime': 1586059446.0, 'movieimg': 'https://pic.yefu365.com/upload/vod/20200222-1/18287774c6e34dc7c150a982a51f3e31.jpg', 'moviedescrib': '本剧由《真爱如血》的执行制片人Raelle Tucker和导演Scott Winant再度合作开发，制片方为最近出品了《利器》的Blumhouse。素材来自《格林童话》经典故事《没有手的姑娘》(The Handless Maiden)，还结合了Stephanie Oakes的小说《The Sacred Lies of Minnow Bly》。讲述了一名无手少女在逃离邪//教后，因故进了少/管/所，她被怀疑知道是谁杀死了邪教领袖。\\u3000\\u3000《忽然七日》的Elena Kampouris饰演女主，《守望尘世》的Kevin Carroll饰演威尔森医生。卡司好包括《杰西卡·琼斯》的Leah Gibson，《奔腾年代》的Toby Huss。', 'othername': 'shenshengdehuangyandierji', 'moviestatus': '更新至9集', 'movieborntime': '2020-04-05', 'actor': '埃莱娜·康博里斯', 'director': '斯科特·怀南特', 'movieclass': '悬疑烧脑', 'classextant': '恐怖,剧情', 'country': '美国', 'year': '2020', 'lang': '中文字幕', 'episodr': '0', 'movielen': '内详', 'click': '9', 'links': {'第01集': 'https://meiju10.qfxmj.com/20200222/XmQOH8cQ/index.m3u8', '第02集': 'https://meiju10.qfxmj.com/20200222/bKMCYwBI/index.m3u8', '第03集': 'https://meiju10.qfxmj.com/20200222/J0CC1EcY/index.m3u8', '第04集': 'https://meiju10.qfxmj.com/20200229/fTcwx4ov/index.m3u8', '第05集': 'https://meiju10.qfxmj.com/20200307/yHxBhOCY/index.m3u8', '第06集': 'https://meiju10.qfxmj.com/20200314/WX8EQ1eD/index.m3u8', '第07集': 'https://meiju10.qfxmj.com/20200321/0tnrjmBb/index.m3u8', '第08集': 'https://meiju10.qfxmj.com/20200328/wgoi0vhl/index.m3u8', '第09集': 'https://meiju10.qfxmj.com/20200405/3S6RPwhp/index.m3u8'}})\n('11', {'moviename': '神烦警探第七季', 'updatetime': 1586059472.0, 'movieimg': 'https://tu.511.la/uploads/200208/080224232400.jpg', 'moviedescrib': '《神烦警探》续订第七季！转到NBC播出的《神烦警探》第六季收视相比第五季有所上涨，18-49岁观众收视率上涨34%，平均观众人次上涨34%。剧集由安迪·萨姆伯格、梅丽莎·弗梅洛、泰瑞·克鲁斯、斯蒂芬妮·比翠丝、乔·洛·特鲁格里奥、德克·布罗克、安德鲁·布劳尔等主演，故事围绕纽约警探们的生活展开。', 'othername': 'shenfanjingtandiqiji', 'moviestatus': '更新至10集', 'movieborntime': '2020-04-05', 'actor': '安迪·萨姆伯格,梅丽莎·弗梅洛,泰瑞·克鲁斯,斯蒂芬妮·比翠丝', 'director': '内详', 'movieclass': '悬疑烧脑', 'classextant': '喜剧,犯罪', 'country': '美国', 'year': '2020', 'lang': '中文字幕', 'episodr': '0', 'movielen': '内详', 'click': '26', 'links': {'第01集': 'https://meiju10.qfxmj.com/20200208/I8MdAYxs/index.m3u8', '第02集': 'https://meiju10.qfxmj.com/20200209/UNkj9kmT/index.m3u8', '第03集': 'https://meiju10.qfxmj.com/20200214/9FmtbfWX/index.m3u8', '第04集': 'https://meiju10.qfxmj.com/20200222/RDaI5seQ/index.m3u8', '第05集': 'https://meiju10.qfxmj.com/20200228/QiCGWEuf/index.m3u8', '第06集': 'https://meiju10.qfxmj.com/20200307/vBajkgkD/index.m3u8', '第07集': 'https://meiju10.qfxmj.com/20200314/X4BkdZDt/index.m3u8', '第08集': 'https://meiju10.qfxmj.com/20200321/AvZeI4yR/index.m3u8', '第09集': 'https://meiju10.qfxmj.com/20200327/ia36ExLG/index.m3u8', '第10集': 'https://meiju10.qfxmj.com/20200405/pTkSz74x/index.m3u8'}})\n('12', {'moviename': '新圣女魔咒第二季', 'updatetime': 1586059496.0, 'movieimg': 'https://pic.yefu365.com/upload/vod/20191211-1/801fa2848c6349673ce128cc3ff59cea.jpg', 'moviedescrib': '新剧《圣女魔咒》获得了CW第二季的续订。', 'othername': 'xinshengnvmozhoudierji', 'moviestatus': '更新至11集', 'movieborntime': '2020-04-05', 'actor': '梅罗妮·迪亚兹,玛德琳·曼托克,Sarah', 'director': '尼克·戈麦斯', 'movieclass': '科幻动作', 'classextant': '剧情,奇幻', 'country': '美国', 'year': '2019', 'lang': '英语', 'episodr': '0', 'movielen': '45min', 'click': '29', 'links': {'第01集': 'https://meiju10.qfxmj.com/20200112/D2GeR87Q/index.m3u8', '第02集': 'https://meiju10.qfxmj.com/20200112/8Q2gLbLt/index.m3u8', '第03集': 'https://meiju10.qfxmj.com/20200112/BXJWccRn/index.m3u8', '第04集': 'https://meiju10.qfxmj.com/20200112/l9qgSaAe/index.m3u8', '第05集': 'https://meiju10.qfxmj.com/20200112/OpqIyP9n/index.m3u8', '第06集': 'https://meiju10.qfxmj.com/20200208/uTdkeXuX/index.m3u8', '第07集': 'https://meiju10.qfxmj.com/20200208/0NQqjNe2/index.m3u8', '第08集': 'https://meiju10.qfxmj.com/20200208/EZupKbNM/index.m3u8', '第09集': 'https://meiju10.qfxmj.com/20200405/Gg5spnIz/index.m3u8', '第10集': 'https://meiju10.qfxmj.com/20200405/SveKLRUV/index.m3u8', '第11集': 'https://meiju10.qfxmj.com/20200405/vxLgaQys/index.m3u8'}})\n('13', {'moviename': '切肤之痛第一季', 'updatetime': 1586059441.0, 'movieimg': 'https://tu.511.la/uploads/200403/030247134575.jpg', 'moviedescrib': \"由Expectation Entertainment制作的《我的皮肤》（5x30'）获得英国电影学院奖（Bafta Cymru）是一部黑色喜剧系列，由作家凯莉·卢威尔（Kayleigh Llewell yn）创作，她挖掘了自己的经验，创造了一个少女过着双重生活的成人故事。Bethan（Gabrielle Creevy）拼命地试图把她的家庭生活的真相从她的朋友那里泄露出去。但是，当你的母亲（乔·哈特利）被隔离在学校附近的精神病院里，并且有爆发的嗜好，而你的父亲（罗德里梅利尔）是开着破烂卡车的地狱天使，在雷达下飞行就不那么容易了。尽管如此，贝珊还是决心不让自己脸红。但她的面颊和才智只能把她带到这一步，因为她把自己越来越深地挖掘进自己的谎言中。一路上有女同性恋的迷恋，来自她的奶奶的强悍的爱，来自她的推土机老师的不停的干涉，她总是在她的案件。有时，这是有趣的，原始的和令人心碎的，因为我们通过贝坦替代性地重温我们的青春期-这一切令人困惑，陶醉，痛苦的混乱。\", 'othername': 'qiefuzhitongdiyiji', 'moviestatus': '更新至4集/共5集', 'movieborntime': '2020-04-05', 'actor': '迪·波特切尔,加布瑞拉·克里维,波佩·李·弗里尔,乔·哈特利', 'director': '内详', 'movieclass': '悬疑烧脑', 'classextant': '剧情', 'country': '英国', 'year': '2020', 'lang': '中文字幕', 'episodr': '0', 'movielen': '30分钟', 'click': '15', 'links': {'第01集': 'https://meiju10.qfxmj.com/20200403/YofBJhdV/index.m3u8', '第02集': 'https://meiju10.qfxmj.com/20200405/3mFWVdB9/index.m3u8', '第03集': 'https://meiju10.qfxmj.com/20200405/EEOLACIq/index.m3u8', '第04集': 'https://meiju10.qfxmj.com/20200405/smBFmqlQ/index.m3u8'}})\n('14', {'moviename': '女局长第一季', 'updatetime': 1586059497.0, 'movieimg': 'https://tu.511.la/uploads/200208/080220425334.jpg', 'moviedescrib': 'Paul Attanasio执笔的CBS剧《女局长 Tommy》获正式预订，剧中讲述一位前高级纽约警官Abigail “Tommy” Thomas（Edie Falco饰）成为洛杉矶警察首位女局长后，她如何用诚实但强硬的手段解决各种社会﹑政治﹑国家问题。 其余主演包括 Michael Chernus﹑Adelaide Clemens﹑Russell G. Jones﹑Olivia Lucy Phillip﹑Thomas Sadoski及Joseph Lyle Taylor。', 'othername': 'nvjuchangdiyiji', 'moviestatus': '更新至7集', 'movieborntime': '2020-04-05', 'actor': '埃迪·法可,迈克尔·切鲁斯,拉塞尔·G·琼斯,Olivia', 'director': '内详', 'movieclass': '悬疑烧脑', 'classextant': '剧情', 'country': '美国', 'year': '2019', 'lang': '中文字幕', 'episodr': '0', 'movielen': '内详', 'click': '37', 'links': {'第01集': 'https://meiju10.qfxmj.com/20200208/IiHpOwi6/index.m3u8', '第02集': 'https://meiju10.qfxmj.com/20200215/FprapMsg/index.m3u8', '第03集': 'https://meiju10.qfxmj.com/20200222/zwwzXQ63/index.m3u8', '第04集': 'https://meiju10.qfxmj.com/20200229/G4hpyLd5/index.m3u8', '第05集': 'https://meiju10.qfxmj.com/20200307/lI9bLNot/index.m3u8', '第06集': 'https://meiju10.qfxmj.com/20200314/BhNGQTPz/index.m3u8', '第07集': 'https://meiju10.qfxmj.com/20200405/s3lFMlLg/index.m3u8'}})\n('15', {'moviename': '走进黑暗/黑暗诗选第二季', 'updatetime': 1586059452.0, 'movieimg': 'https://tu.511.la/uploads/191006/060224258142.jpg', 'moviedescrib': 'Hulu宣布续订《#黑暗诗选# Into the Dark》第二季，使其起码播至下年秋档。', 'othername': 'zoujinheiandierji', 'moviestatus': '更新至7集', 'movieborntime': '2020-04-05', 'actor': '内详', 'director': '内详', 'movieclass': '悬疑烧脑', 'classextant': '剧情,惊悚', 'country': '美国', 'year': '2019', 'lang': '中文字幕', 'episodr': '0', 'movielen': '内详', 'click': '35', 'links': {'第01集': 'https://meiju10.qfxmj.com/20191005/VDKlgdkg/index.m3u8', '第02集': 'https://meiju10.qfxmj.com/20191101/ILuja55s/index.m3u8', '第03集': 'https://meiju10.qfxmj.com/20191207/XIt7Me78/index.m3u8', '第04集': 'https://meiju10.qfxmj.com/20191228/ThPzSCpX/index.m3u8', '第05集': 'https://meiju10.qfxmj.com/20200209/j2M6nZoN/index.m3u8', '第06集': 'https://meiju10.qfxmj.com/20200307/SpEOhDWr/index.m3u8', '第07集': 'https://meiju10.qfxmj.com/20200405/GYxrDxW1/index.m3u8'}})\n('16', {'moviename': '怪咖！文主厨', 'updatetime': 1586059474.0, 'movieimg': 'https://ae01.alicdn.com/kf/U5a392a7d62aa49a1a51dc89c0f50cc7eN.jpg', 'moviedescrib': '该剧讲述了在星月朗朗的西夏村，失去记忆、沦落为冒失鬼的世界级时装设计师与明星厨师相遇后，经历成长、爱情与成功的治愈浪漫喜剧故事。', 'othername': 'guaikawenzhuchu', 'moviestatus': '更新至4集/共16集', 'movieborntime': '2020-04-05', 'actor': '文晸赫,高媛熙', 'director': '崔道勋', 'movieclass': '韩剧', 'classextant': '剧情', 'country': '韩国', 'year': '2020', 'lang': '中文字幕', 'episodr': '0', 'movielen': '60分钟', 'click': '38', 'links': {'第01集': 'https://meiju11.qfxmj.com/20200328/7oPBn58W/index.m3u8', '第02集': 'https://meiju11.qfxmj.com/20200329/nEKqwPc1/index.m3u8', '第03集': 'https://meiju11.qfxmj.com/20200404/EWYXVlON/index.m3u8', '第04集': 'https://meiju11.qfxmj.com/20200405/46hB5RMM/index.m3u8'}})\n('17', {'moviename': '夫妻的世界', 'updatetime': 1586059464.0, 'movieimg': 'https://ae01.alicdn.com/kf/U80551842e1ef41b49871c7f7113644f7W.jpg', 'moviedescrib': '该剧是讲述原以为是相爱着的夫妻的缘分因为背叛而终结，并被卷入复仇的旋涡的故事。将描写想毁掉对方的憎恨成为一种爱的形式，拼死勒住彼此的脖子的激烈的爱情。 由《Misty》毛完日导演执导，《玉氏南政基》朱贤编剧执笔，接档《梨泰院Class》播出。', 'othername': 'fuqideshijie', 'moviestatus': '更新至4集/共16集', 'movieborntime': '2020-04-05', 'actor': '金喜爱,朴海俊,朴善英,金永敏', 'director': '毛完日', 'movieclass': '韩剧', 'classextant': '爱情', 'country': '韩国', 'year': '2020', 'lang': '中文字幕', 'episodr': '16', 'movielen': '内详', 'click': '58', 'links': {'第01集': 'https://meiju11.qfxmj.com/20200328/U08z7Ea8/index.m3u8', '第02集': 'https://meiju11.qfxmj.com/20200329/i8jr8H17/index.m3u8', '第03集': 'https://meiju11.qfxmj.com/20200404/vlExqG6X/index.m3u8', '第04集': 'https://meiju11.qfxmj.com/20200405/PsvA7T8m/index.m3u8'}})\n('18', {'moviename': '芦苇 / Rugal：无泪交锋', 'updatetime': 1586059492.0, 'movieimg': 'https://ae01.alicdn.com/kf/Ud36a80c2abbc4de799eec1eba5697cebD.jpg', 'moviedescrib': '该剧改编自同名网漫，是最强机械人类的复仇剧，讲述精英警察姜基范的妻子被暴力组织“火蚁派”害死，他自己也双眼失明并被诬陷为杀人犯，在通过特殊警察组织RUGAL的生化高新科技而获得新的眼睛后，他去找出自己的敌人，讨伐火蚁派的故事。', 'othername': 'luweiRugalwuleijiaofeng', 'moviestatus': '更新至3集/共16集', 'movieborntime': '2020-04-05', 'actor': '崔振赫,朴圣雄,赵东赫,朴宣浩', 'director': '姜哲宇', 'movieclass': '韩剧', 'classextant': '动作,剧情', 'country': '韩国', 'year': '2020', 'lang': '韩语', 'episodr': '0', 'movielen': '60分钟', 'click': '4', 'links': {'第01集': 'https://meiju11.qfxmj.com/20200330/qouvfDnj/index.m3u8', '第02集': 'https://meiju11.qfxmj.com/20200330/BUMZsvay/index.m3u8', '第03集': 'https://meiju11.qfxmj.com/20200405/V5sN65EL/index.m3u8'}})\n('19', {'moviename': '结过一次了 / Once Again', 'updatetime': 1586059492.0, 'movieimg': 'https://ae01.alicdn.com/kf/Ue5a96170ebb4435f96e8710d5249f180k.jpg', 'moviedescrib': '该剧讲述了通过父母和子女之间离婚的间隙和克服危机，各自完成寻找幸福的过程。', 'othername': 'jieguoyiciliaoOnceAgain', 'moviestatus': '更新至5集/共100集', 'movieborntime': '2020-04-05', 'actor': '李珉廷,李相烨,吴代焕,吴允儿', 'director': '李在相', 'movieclass': '韩剧', 'classextant': '剧情', 'country': '韩国', 'year': '2020', 'lang': '中文字幕', 'episodr': '0', 'movielen': '30分钟', 'click': '11', 'links': {'第01-02集': 'https://meiju11.qfxmj.com/20200329/Bi1XXHsK/index.m3u8', '第03-04集': 'https://meiju11.qfxmj.com/20200330/kdJcdsIv/index.m3u8', '第05-06集': 'https://meiju11.qfxmj.com/20200405/OKUulHie/index.m3u8'}})\n"
    }
   ],
   "source": [
    "for jdata in data.jsondata.items():\n",
    "    print(jdata)"
   ]
  },
  {
   "cell_type": "code",
   "execution_count": 9,
   "metadata": {},
   "outputs": [],
   "source": [
    "\n",
    "\n",
    "creatsql='''CREATE TABLE video (\n",
    "  id INTEGER PRIMARY KEY AUTOINCREMENT,\n",
    "  author_id INTEGER NOT NULL,\n",
    "\n",
    "  updatetime TEXT,\n",
    "  moviename TEXT NOT NULL,\n",
    "  moviedescrib TEXT,\n",
    "  movieimg TEXT,\n",
    "  othername TEXT,\n",
    "  moviestatus TEXT,\n",
    "  movieborntime TEXT,\n",
    "  classextant TEXT,\n",
    "  year TEXT,\n",
    "  lang TEXT,\n",
    "  episodr TEXT,\n",
    "  click TEXT,\n",
    "  actor TEXT,\n",
    "  movieclass TEXT,\n",
    "  country TEXT,\n",
    "  score TEXT,\n",
    "  links TEXT,\n",
    "  movielen INTEGER,\n",
    "  director TEXT,\n",
    "  other TEXT,\n",
    "  other1 TEXT,\n",
    "  other2 TEXT,\n",
    "  other3 TEXT,\n",
    "  permituid TEXT,\n",
    "  FOREIGN KEY (author_id) REFERENCES user (id)\n",
    ")'''"
   ]
  },
  {
   "cell_type": "code",
   "execution_count": 10,
   "metadata": {},
   "outputs": [
    {
     "output_type": "stream",
     "name": "stdout",
     "text": "太阳帝国\n失踪\n兵临城下之决战要塞\n名字之歌\n生死谍变\n杀人锦标赛\n透明人2\n富豪辩护人 / 鬣狗\n错位青春第三季\n神圣的谎言第二季\n神烦警探第七季\n新圣女魔咒第二季\n切肤之痛第一季\n女局长第一季\n走进黑暗/黑暗诗选第二季\n怪咖！文主厨\n夫妻的世界\n芦苇 / Rugal：无泪交锋\n结过一次了 / Once Again\n"
    }
   ],
   "source": [
    "for key1,tempdata in data.jsondata.items():\n",
    "    print(tempdata['moviename'])\n",
    ""
   ]
  },
  {
   "cell_type": "code",
   "execution_count": 18,
   "metadata": {},
   "outputs": [
    {
     "output_type": "stream",
     "name": "stdout",
     "text": "INSERT INTO video (moviename,updatetime,moveimg,moviedescrib,othername,moviestatus,movieborntime,actor,director,movieclass,classextant,country,year,lang,episodr,movielen,click,links) VALUES ('危险的约定 / Dangerous agreement','1585926255.0','https://ae01.alicdn.com/kf/Ud530b93d3b9a4d1a96886d37bf55b7840.jpg','此剧讲述于斗争中遭受不公正对待被逼到悬崖边的女人，与抛弃挽救自己家人的男人，七年后再次相遇并从地狱里回来开始对伤害过自己的人开始报复。','weixiandeyuedingDangerousagreement','更新至5集/共100集','2020-04-03','朴荷娜,高世元,康星民,朴荣邻','金信一','韩剧','剧情','韩国','2020','中文字幕','100','40分钟','24','{\"\\u7b2c01\\u96c6\": \"https://meiju11.qfxmj.com/20200330/RTsPU0WH/index.m3u8\", \"\\u7b2c02\\u96c6\": \"https://meiju11.qfxmj.com/20200331/tnwftqTX/index.m3u8\", \"\\u7b2c03\\u96c6\": \"https://meiju11.qfxmj.com/20200401/D8Zo23FS/index.m3u8\", \"\\u7b2c04\\u96c6\": \"https://meiju11.qfxmj.com/20200402/dHpNMFdZ/index.m3u8\", \"\\u7b2c05\\u96c6\": \"https://meiju11.qfxmj.com/20200403/kaVklcFL/index.m3u8\"}')\n"
    },
    {
     "output_type": "error",
     "ename": "ValueError",
     "evalue": "operation parameter must be str",
     "traceback": [
      "\u001b[1;31m---------------------------------------------------------------------------\u001b[0m",
      "\u001b[1;31mValueError\u001b[0m                                Traceback (most recent call last)",
      "\u001b[1;32m<ipython-input-18-607d42ae791b>\u001b[0m in \u001b[0;36m<module>\u001b[1;34m\u001b[0m\n\u001b[1;32m----> 1\u001b[1;33m \u001b[0mc\u001b[0m\u001b[1;33m.\u001b[0m\u001b[0mexecute\u001b[0m\u001b[1;33m(\u001b[0m\u001b[0mdata\u001b[0m\u001b[1;33m.\u001b[0m\u001b[0minsertdb\u001b[0m\u001b[1;33m(\u001b[0m\u001b[0mdata\u001b[0m\u001b[1;33m.\u001b[0m\u001b[0mjsondata\u001b[0m\u001b[1;33m[\u001b[0m\u001b[1;34m'2'\u001b[0m\u001b[1;33m]\u001b[0m\u001b[1;33m)\u001b[0m\u001b[1;33m)\u001b[0m\u001b[1;33m\u001b[0m\u001b[1;33m\u001b[0m\u001b[0m\n\u001b[0m",
      "\u001b[1;31mValueError\u001b[0m: operation parameter must be str"
     ]
    }
   ],
   "source": [
    "c.execute(data.insertdb(data.jsondata['2']))"
   ]
  },
  {
   "cell_type": "code",
   "execution_count": 19,
   "metadata": {},
   "outputs": [
    {
     "output_type": "stream",
     "name": "stdout",
     "text": "INSERT INTO video (moviename,updatetime,moveimg,moviedescrib,othername,moviestatus,movieborntime,actor,director,movieclass,classextant,country,year,lang,episodr,movielen,click,links) VALUES ('危险的约定 / Dangerous agreement','1585926255.0','https://ae01.alicdn.com/kf/Ud530b93d3b9a4d1a96886d37bf55b7840.jpg','此剧讲述于斗争中遭受不公正对待被逼到悬崖边的女人，与抛弃挽救自己家人的男人，七年后再次相遇并从地狱里回来开始对伤害过自己的人开始报复。','weixiandeyuedingDangerousagreement','更新至5集/共100集','2020-04-03','朴荷娜,高世元,康星民,朴荣邻','金信一','韩剧','剧情','韩国','2020','中文字幕','100','40分钟','24','{\"\\u7b2c01\\u96c6\": \"https://meiju11.qfxmj.com/20200330/RTsPU0WH/index.m3u8\", \"\\u7b2c02\\u96c6\": \"https://meiju11.qfxmj.com/20200331/tnwftqTX/index.m3u8\", \"\\u7b2c03\\u96c6\": \"https://meiju11.qfxmj.com/20200401/D8Zo23FS/index.m3u8\", \"\\u7b2c04\\u96c6\": \"https://meiju11.qfxmj.com/20200402/dHpNMFdZ/index.m3u8\", \"\\u7b2c05\\u96c6\": \"https://meiju11.qfxmj.com/20200403/kaVklcFL/index.m3u8\"}')\n"
    },
    {
     "output_type": "execute_result",
     "data": {
      "text/plain": "NoneType"
     },
     "metadata": {},
     "execution_count": 19
    }
   ],
   "source": [
    "a=data.insertdb(data.jsondata['2'])\n",
    "type(a)"
   ]
  },
  {
   "cell_type": "code",
   "execution_count": 4,
   "metadata": {},
   "outputs": [
    {
     "output_type": "execute_result",
     "data": {
      "text/plain": "1585985727.449476"
     },
     "metadata": {},
     "execution_count": 4
    }
   ],
   "source": []
  },
  {
   "cell_type": "code",
   "execution_count": 28,
   "metadata": {},
   "outputs": [],
   "source": [
    "testsql=\"INSERT INTO video country VALUES 'abcdefj'\"\n",
    "#c.execute(testsql,data.jsondata['2']['links'])"
   ]
  },
  {
   "cell_type": "code",
   "execution_count": 6,
   "metadata": {},
   "outputs": [],
   "source": [
    "import time\n",
    ""
   ]
  },
  {
   "cell_type": "code",
   "execution_count": 10,
   "metadata": {},
   "outputs": [],
   "source": [
    "\n",
    "\n",
    "    "
   ]
  },
  {
   "cell_type": "code",
   "execution_count": 11,
   "metadata": {},
   "outputs": [
    {
     "output_type": "execute_result",
     "data": {
      "text/plain": "'INSERT INTO video (moviename,updatetime,movieimg,moviedescrib,othername,moviestatus,movieborntime,actor,director,movieclass,classextant,country,year,lang,episodr,movielen,click,links,author_id) VALUES (?,?,?,?,?,?,?,?,?,?,?,?,?,?,?,?,?,?,?)'"
     },
     "metadata": {},
     "execution_count": 11
    }
   ],
   "source": [
    "tempsql='INSERT INTO video (%s) VALUES (%s)'%(columnname,values)\n",
    "tempsql"
   ]
  },
  {
   "cell_type": "code",
   "execution_count": 17,
   "metadata": {},
   "outputs": [
    {
     "output_type": "execute_result",
     "data": {
      "text/plain": "<sqlite3.Cursor at 0x22edf4747a0>"
     },
     "metadata": {},
     "execution_count": 17
    }
   ],
   "source": [
    "data.con.execute(tempsql,para)"
   ]
  },
  {
   "cell_type": "code",
   "execution_count": 8,
   "metadata": {},
   "outputs": [
    {
     "output_type": "execute_result",
     "data": {
      "text/plain": "<sqlite3.Cursor at 0x22220937a40>"
     },
     "metadata": {},
     "execution_count": 8
    }
   ],
   "source": [
    "data.con.execute('DROP TABLE IF EXISTS video')\n",
    "data.con.execute(creatsql)"
   ]
  },
  {
   "cell_type": "code",
   "execution_count": 12,
   "metadata": {},
   "outputs": [],
   "source": [
    "a=c.execute('SELECT * FROM video')"
   ]
  },
  {
   "cell_type": "code",
   "execution_count": 13,
   "metadata": {},
   "outputs": [
    {
     "output_type": "execute_result",
     "data": {
      "text/plain": "6\": \"https://meiju11.qfxmj.com/20200402/dHpNMFdZ/index.m3u8\", \"\\\\u7b2c05\\\\u96c6\": \"https://meiju11.qfxmj.com/20200403/kaVklcFL/index.m3u8\"}',\n  '40分钟',\n  '金信一',\n  None,\n  None,\n  None,\n  None,\n  None),\n (9,\n  1,\n  '1585926255.0',\n  '危险的约定 / Dangerous agreement',\n  '此剧讲述于斗争中遭受不公正对待被逼到悬崖边的女人，与抛弃挽救自己家人的男人，七年后再次相遇并从地狱里回来开始对伤害过自己的人开始报复。',\n  'https://ae01.alicdn.com/kf/Ud530b93d3b9a4d1a96886d37bf55b7840.jpg',\n  'weixiandeyuedingDangerousagreement',\n  '更新至5集/共100集',\n  '2020-04-03',\n  '剧情',\n  '2020',\n  '中文字幕',\n  '100',\n  '26',\n  '朴荷娜,高世元,康星民,朴荣邻',\n  '韩剧',\n  '韩国',\n  None,\n  '{\"\\\\u7b2c01\\\\u96c6\": \"https://meiju11.qfxmj.com/20200330/RTsPU0WH/index.m3u8\", \"\\\\u7b2c02\\\\u96c6\": \"https://meiju11.qfxmj.com/20200331/tnwftqTX/index.m3u8\", \"\\\\u7b2c03\\\\u96c6\": \"https://meiju11.qfxmj.com/20200401/D8Zo23FS/index.m3u8\", \"\\\\u7b2c04\\\\u96c6\": \"https://meiju11.qfxmj.com/20200402/dHpNMFdZ/index.m3u8\", \"\\\\u7b2c05\\\\u96c6\": \"https://meiju11.qfxmj.com/20200403/kaVklcFL/index.m3u8\"}',\n  '40分钟',\n  '金信一',\n  None,\n  None,\n  None,\n  None,\n  None),\n (10,\n  1,\n  '1585926255.0',\n  '危险的约定 / Dangerous agreement',\n  '此剧讲述于斗争中遭受不公正对待被逼到悬崖边的女人，与抛弃挽救自己家人的男人，七年后再次相遇并从地狱里回来开始对伤害过自己的人开始报复。',\n  'https://ae01.alicdn.com/kf/Ud530b93d3b9a4d1a96886d37bf55b7840.jpg',\n  'weixiandeyuedingDangerousagreement',\n  '更新至5集/共100集',\n  '2020-04-03',\n  '剧情',\n  '2020',\n  '中文字幕',\n  '100',\n  '26',\n  '朴荷娜,高世元,康星民,朴荣邻',\n  '韩剧',\n  '韩国',\n  None,\n  '{\"\\\\u7b2c01\\\\u96c6\": \"https://meiju11.qfxmj.com/20200330/RTsPU0WH/index.m3u8\", \"\\\\u7b2c02\\\\u96c6\": \"https://meiju11.qfxmj.com/20200331/tnwftqTX/index.m3u8\", \"\\\\u7b2c03\\\\u96c6\": \"https://meiju11.qfxmj.com/20200401/D8Zo23FS/index.m3u8\", \"\\\\u7b2c04\\\\u96c6\": \"https://meiju11.qfxmj.com/20200402/dHpNMFdZ/index.m3u8\", \"\\\\u7b2c05\\\\u96c6\": \"https://meiju11.qfxmj.com/20200403/kaVklcFL/index.m3u8\"}',\n  '40分钟',\n  '金信一',\n  None,\n  None,\n  None,\n  None,\n  None),\n (11,\n  1,\n  '1585926255.0',\n  '危险的约定 / Dangerous agreement',\n  '此剧讲述于斗争中遭受不公正对待被逼到悬崖边的女人，与抛弃挽救自己家人的男人，七年后再次相遇并从地狱里回来开始对伤害过自己的人开始报复。',\n  'https://ae01.alicdn.com/kf/Ud530b93d3b9a4d1a96886d37bf55b7840.jpg',\n  'weixiandeyuedingDangerousagreement',\n  '更新至5集/共100集',\n  '2020-04-03',\n  '剧情',\n  '2020',\n  '中文字幕',\n  '100',\n  '26',\n  '朴荷娜,高世元,康星民,朴荣邻',\n  '韩剧',\n  '韩国',\n  None,\n  '{\"\\\\u7b2c01\\\\u96c6\": \"https://meiju11.qfxmj.com/20200330/RTsPU0WH/index.m3u8\", \"\\\\u7b2c02\\\\u96c6\": \"https://meiju11.qfxmj.com/20200331/tnwftqTX/index.m3u8\", \"\\\\u7b2c03\\\\u96c6\": \"https://meiju11.qfxmj.com/20200401/D8Zo23FS/index.m3u8\", \"\\\\u7b2c04\\\\u96c6\": \"https://meiju11.qfxmj.com/20200402/dHpNMFdZ/index.m3u8\", \"\\\\u7b2c05\\\\u96c6\": \"https://meiju11.qfxmj.com/20200403/kaVklcFL/index.m3u8\"}',\n  '40分钟',\n  '金信一',\n  None,\n  None,\n  None,\n  None,\n  None),\n (12,\n  1,\n  '1585926255.0',\n  '危险的约定 / Dangerous agreement',\n  '此剧讲述于斗争中遭受不公正对待被逼到悬崖边的女人，与抛弃挽救自己家人的男人，七年后再次相遇并从地狱里回来开始对伤害过自己的人开始报复。',\n  'https://ae01.alicdn.com/kf/Ud530b93d3b9a4d1a96886d37bf55b7840.jpg',\n  'weixiandeyuedingDangerousagreement',\n  '更新至5集/共100集',\n  '2020-04-03',\n  '剧情',\n  '2020',\n  '中文字幕',\n  '100',\n  '26',\n  '朴荷娜,高世元,康星民,朴荣邻',\n  '韩剧',\n  '韩国',\n  None,\n  '{\"\\\\u7b2c01\\\\u96c6\": \"https://meiju11.qfxmj.com/20200330/RTsPU0WH/index.m3u8\", \"\\\\u7b2c02\\\\u96c6\": \"https://meiju11.qfxmj.com/20200331/tnwftqTX/index.m3u8\", \"\\\\u7b2c03\\\\u96c6\": \"https://meiju11.qfxmj.com/20200401/D8Zo23FS/index.m3u8\", \"\\\\u7b2c04\\\\u96c6\": \"https://meiju11.qfxmj.com/20200402/dHpNMFdZ/index.m3u8\", \"\\\\u7b2c05\\\\u96c6\": \"https://meiju11.qfxmj.com/20200403/kaVklcFL/index.m3u8\"}',\n  '40分钟',\n  '金信一',\n  None,\n  None,\n  None,\n  None,\n  None),\n (13,\n  1,\n  '1585926255.0',\n  '危险的约定 / Dangerous agreement',\n  '此剧讲述于斗争中遭受不公正对待被逼到悬崖边的女人，与抛弃挽救自己家人的男人，七年后再次相遇并从地狱里回来开始对伤害过自己的人开始报复。',\n  'https://ae01.alicdn.com/kf/Ud530b93d3b9a4d1a96886d37bf55b7840.jpg',\n  'weixiandeyuedingDangerousagreement',\n  '更新至5集/共100集',\n  '2020-04-03',\n  '剧情',\n  '2020',\n  '中文字幕',\n  '100',\n  '26',\n  '朴荷娜,高世元,康星民,朴荣邻',\n  '韩剧',\n  '韩国',\n  None,\n  '{\"\\\\u7b2c01\\\\u96c6\": \"https://meiju11.qfxmj.com/20200330/RTsPU0WH/index.m3u8\", \"\\\\u7b2c02\\\\u96c6\": \"https://meiju11.qfxmj.com/20200331/tnwftqTX/index.m3u8\", \"\\\\u7b2c03\\\\u96c6\": \"https://meiju11.qfxmj.com/20200401/D8Zo23FS/index.m3u8\", \"\\\\u7b2c04\\\\u96c6\": \"https://meiju11.qfxmj.com/20200402/dHpNMFdZ/index.m3u8\", \"\\\\u7b2c05\\\\u96c6\": \"https://meiju11.qfxmj.com/20200403/kaVklcFL/index.m3u8\"}',\n  '40分钟',\n  '金信一',\n  None,\n  None,\n  None,\n  None,\n  None),\n (14,\n  1,\n  '1585926255.0',\n  '危险的约定 / Dangerous agreement',\n  '此剧讲述于斗争中遭受不公正对待被逼到悬崖边的女人，与抛弃挽救自己家人的男人，七年后再次相遇并从地狱里回来开始对伤害过自己的人开始报复。',\n  'https://ae01.alicdn.com/kf/Ud530b93d3b9a4d1a96886d37bf55b7840.jpg',\n  'weixiandeyuedingDangerousagreement',\n  '更新至5集/共100集',\n  '2020-04-03',\n  '剧情',\n  '2020',\n  '中文字幕',\n  '100',\n  '26',\n  '朴荷娜,高世元,康星民,朴荣邻',\n  '韩剧',\n  '韩国',\n  None,\n  '{\"\\\\u7b2c01\\\\u96c6\": \"https://meiju11.qfxmj.com/20200330/RTsPU0WH/index.m3u8\", \"\\\\u7b2c02\\\\u96c6\": \"https://meiju11.qfxmj.com/20200331/tnwftqTX/index.m3u8\", \"\\\\u7b2c03\\\\u96c6\": \"https://meiju11.qfxmj.com/20200401/D8Zo23FS/index.m3u8\", \"\\\\u7b2c04\\\\u96c6\": \"https://meiju11.qfxmj.com/20200402/dHpNMFdZ/index.m3u8\", \"\\\\u7b2c05\\\\u96c6\": \"https://meiju11.qfxmj.com/20200403/kaVklcFL/index.m3u8\"}',\n  '40分钟',\n  '金信一',\n  None,\n  None,\n  None,\n  None,\n  None),\n (15,\n  1,\n  '1585926255.0',\n  '危险的约定 / Dangerous agreement',\n  '此剧讲述于斗争中遭受不公正对待被逼到悬崖边的女人，与抛弃挽救自己家人的男人，七年后再次相遇并从地狱里回来开始对伤害过自己的人开始报复。',\n  'https://ae01.alicdn.com/kf/Ud530b93d3b9a4d1a96886d37bf55b7840.jpg',\n  'weixiandeyuedingDangerousagreement',\n  '更新至5集/共100集',\n  '2020-04-03',\n  '剧情',\n  '2020',\n  '中文字幕',\n  '100',\n  '26',\n  '朴荷娜,高世元,康星民,朴荣邻',\n  '韩剧',\n  '韩国',\n  None,\n  '{\"\\\\u7b2c01\\\\u96c6\": \"https://meiju11.qfxmj.com/20200330/RTsPU0WH/index.m3u8\", \"\\\\u7b2c02\\\\u96c6\": \"https://meiju11.qfxmj.com/20200331/tnwftqTX/index.m3u8\", \"\\\\u7b2c03\\\\u96c6\": \"https://meiju11.qfxmj.com/20200401/D8Zo23FS/index.m3u8\", \"\\\\u7b2c04\\\\u96c6\": \"https://meiju11.qfxmj.com/20200402/dHpNMFdZ/index.m3u8\", \"\\\\u7b2c05\\\\u96c6\": \"https://meiju11.qfxmj.com/20200403/kaVklcFL/index.m3u8\"}',\n  '40分钟',\n  '金信一',\n  None,\n  None,\n  None,\n  None,\n  None),\n (16,\n  1,\n  '1585926255.0',\n  '危险的约定 / Dangerous agreement',\n  '此剧讲述于斗争中遭受不公正对待被逼到悬崖边的女人，与抛弃挽救自己家人的男人，七年后再次相遇并从地狱里回来开始对伤害过自己的人开始报复。',\n  'https://ae01.alicdn.com/kf/Ud530b93d3b9a4d1a96886d37bf55b7840.jpg',\n  'weixiandeyuedingDangerousagreement',\n  '更新至5集/共100集',\n  '2020-04-03',\n  '剧情',\n  '2020',\n  '中文字幕',\n  '100',\n  '26',\n  '朴荷娜,高世元,康星民,朴荣邻',\n  '韩剧',\n  '韩国',\n  None,\n  '{\"\\\\u7b2c01\\\\u96c6\": \"https://meiju11.qfxmj.com/20200330/RTsPU0WH/index.m3u8\", \"\\\\u7b2c02\\\\u96c6\": \"https://meiju11.qfxmj.com/20200331/tnwftqTX/index.m3u8\", \"\\\\u7b2c03\\\\u96c6\": \"https://meiju11.qfxmj.com/20200401/D8Zo23FS/index.m3u8\", \"\\\\u7b2c04\\\\u96c6\": \"https://meiju11.qfxmj.com/20200402/dHpNMFdZ/index.m3u8\", \"\\\\u7b2c05\\\\u96c6\": \"https://meiju11.qfxmj.com/20200403/kaVklcFL/index.m3u8\"}',\n  '40分钟',\n  '金信一',\n  None,\n  None,\n  None,\n  None,\n  None),\n (17,\n  1,\n  '1585926255.0',\n  '危险的约定 / Dangerous agreement',\n  '此剧讲述于斗争中遭受不公正对待被逼到悬崖边的女人，与抛弃挽救自己家人的男人，七年后再次相遇并从地狱里回来开始对伤害过自己的人开始报复。',\n  'https://ae01.alicdn.com/kf/Ud530b93d3b9a4d1a96886d37bf55b7840.jpg',\n  'weixiandeyuedingDangerousagreement',\n  '更新至5集/共100集',\n  '2020-04-03',\n  '剧情',\n  '2020',\n  '中文字幕',\n  '100',\n  '26',\n  '朴荷娜,高世元,康星民,朴荣邻',\n  '韩剧',\n  '韩国',\n  None,\n  '{\"\\\\u7b2c01\\\\u96c6\": \"https://meiju11.qfxmj.com/20200330/RTsPU0WH/index.m3u8\", \"\\\\u7b2c02\\\\u96c6\": \"https://meiju11.qfxmj.com/20200331/tnwftqTX/index.m3u8\", \"\\\\u7b2c03\\\\u96c6\": \"https://meiju11.qfxmj.com/20200401/D8Zo23FS/index.m3u8\", \"\\\\u7b2c04\\\\u96c6\": \"https://meiju11.qfxmj.com/20200402/dHpNMFdZ/index.m3u8\", \"\\\\u7b2c05\\\\u96c6\": \"https://meiju11.qfxmj.com/20200403/kaVklcFL/index.m3u8\"}',\n  '40分钟',\n  '金信一',\n  None,\n  None,\n  None,\n  None,\n  None),\n (18,\n  1,\n  '1585926255.0',\n  '危险的约定 / Dangerous agreement',\n  '此剧讲述于斗争中遭受不公正对待被逼到悬崖边的女人，与抛弃挽救自己家人的男人，七年后再次相遇并从地狱里回来开始对伤害过自己的人开始报复。',\n  'https://ae01.alicdn.com/kf/Ud530b93d3b9a4d1a96886d37bf55b7840.jpg',\n  'weixiandeyuedingDangerousagreement',\n  '更新至5集/共100集',\n  '2020-04-03',\n  '剧情',\n  '2020',\n  '中文字幕',\n  '100',\n  '26',\n  '朴荷娜,高世元,康星民,朴荣邻',\n  '韩剧',\n  '韩国',\n  None,\n  '{\"\\\\u7b2c01\\\\u96c6\": \"https://meiju11.qfxmj.com/20200330/RTsPU0WH/index.m3u8\", \"\\\\u7b2c02\\\\u96c6\": \"https://meiju11.qfxmj.com/20200331/tnwftqTX/index.m3u8\", \"\\\\u7b2c03\\\\u96c6\": \"https://meiju11.qfxmj.com/20200401/D8Zo23FS/index.m3u8\", \"\\\\u7b2c04\\\\u96c6\": \"https://meiju11.qfxmj.com/20200402/dHpNMFdZ/index.m3u8\", \"\\\\u7b2c05\\\\u96c6\": \"https://meiju11.qfxmj.com/20200403/kaVklcFL/index.m3u8\"}',\n  '40分钟',\n  '金信一',\n  None,\n  None,\n  None,\n  None,\n  None),\n (19,\n  1,\n  '1585926255.0',\n  '危险的约定 / Dangerous agreement',\n  '此剧讲述于斗争中遭受不公正对待被逼到悬崖边的女人，与抛弃挽救自己家人的男人，七年后再次相遇并从地狱里回来开始对伤害过自己的人开始报复。',\n  'https://ae01.alicdn.com/kf/Ud530b93d3b9a4d1a96886d37bf55b7840.jpg',\n  'weixiandeyuedingDangerousagreement',\n  '更新至5集/共100集',\n  '2020-04-03',\n  '剧情',\n  '2020',\n  '中文字幕',\n  '100',\n  '26',\n  '朴荷娜,高世元,康星民,朴荣邻',\n  '韩剧',\n  '韩国',\n  None,\n  '{\"\\\\u7b2c01\\\\u96c6\": \"https://meiju11.qfxmj.com/20200330/RTsPU0WH/index.m3u8\", \"\\\\u7b2c02\\\\u96c6\": \"https://meiju11.qfxmj.com/20200331/tnwftqTX/index.m3u8\", \"\\\\u7b2c03\\\\u96c6\": \"https://meiju11.qfxmj.com/20200401/D8Zo23FS/index.m3u8\", \"\\\\u7b2c04\\\\u96c6\": \"https://meiju11.qfxmj.com/20200402/dHpNMFdZ/index.m3u8\", \"\\\\u7b2c05\\\\u96c6\": \"https://meiju11.qfxmj.com/20200403/kaVklcFL/index.m3u8\"}',\n  '40分钟',\n  '金信一',\n  None,\n  None,\n  None,\n  None,\n  None),\n (20,\n  1,\n  '1585926255.0',\n  '危险的约定 / Dangerous agreement',\n  '此剧讲述于斗争中遭受不公正对待被逼到悬崖边的女人，与抛弃挽救自己家人的男人，七年后再次相遇并从地狱里回来开始对伤害过自己的人开始报复。',\n  'https://ae01.alicdn.com/kf/Ud530b93d3b9a4d1a96886d37bf55b7840.jpg',\n  'weixiandeyuedingDangerousagreement',\n  '更新至5集/共100集',\n  '2020-04-03',\n  '剧情',\n  '2020',\n  '中文字幕',\n  '100',\n  '26',\n  '朴荷娜,高世元,康星民,朴荣邻',\n  '韩剧',\n  '韩国',\n  None,\n  '{\"\\\\u7b2c01\\\\u96c6\": \"https://meiju11.qfxmj.com/20200330/RTsPU0WH/index.m3u8\", \"\\\\u7b2c02\\\\u96c6\": \"https://meiju11.qfxmj.com/20200331/tnwftqTX/index.m3u8\", \"\\\\u7b2c03\\\\u96c6\": \"https://meiju11.qfxmj.com/20200401/D8Zo23FS/index.m3u8\", \"\\\\u7b2c04\\\\u96c6\": \"https://meiju11.qfxmj.com/20200402/dHpNMFdZ/index.m3u8\", \"\\\\u7b2c05\\\\u96c6\": \"https://meiju11.qfxmj.com/20200403/kaVklcFL/index.m3u8\"}',\n  '40分钟',\n  '金信一',\n  None,\n  None,\n  None,\n  None,\n  None),\n (21,\n  1,\n  '1585926255.0',\n  '危险的约定 / Dangerous agreement',\n  '此剧讲述于斗争中遭受不公正对待被逼到悬崖边的女人，与抛弃挽救自己家人的男人，七年后再次相遇并从地狱里回来开始对伤害过自己的人开始报复。',\n  'https://ae01.alicdn.com/kf/Ud530b93d3b9a4d1a96886d37bf55b7840.jpg',\n  'weixiandeyuedingDangerousagreement',\n  '更新至5集/共100集',\n  '2020-04-03',\n  '剧情',\n  '2020',\n  '中文字幕',\n  '100',\n  '26',\n  '朴荷娜,高世元,康星民,朴荣邻',\n  '韩剧',\n  '韩国',\n  None,\n  '{\"\\\\u7b2c01\\\\u96c6\": \"https://meiju11.qfxmj.com/20200330/RTsPU0WH/index.m3u8\", \"\\\\u7b2c02\\\\u96c6\": \"https://meiju11.qfxmj.com/20200331/tnwftqTX/index.m3u8\", \"\\\\u7b2c03\\\\u96c6\": \"https://meiju11.qfxmj.com/20200401/D8Zo23FS/index.m3u8\", \"\\\\u7b2c04\\\\u96c6\": \"https://meiju11.qfxmj.com/20200402/dHpNMFdZ/index.m3u8\", \"\\\\u7b2c05\\\\u96c6\": \"https://meiju11.qfxmj.com/20200403/kaVklcFL/index.m3u8\"}',\n  '40分钟',\n  '金信一',\n  None,\n  None,\n  None,\n  None,\n  None),\n (22,\n  1,\n  '1585926255.0',\n  '危险的约定 / Dangerous agreement',\n  '此剧讲述于斗争中遭受不公正对待被逼到悬崖边的女人，与抛弃挽救自己家人的男人，七年后再次相遇并从地狱里回来开始对伤害过自己的人开始报复。',\n  'https://ae01.alicdn.com/kf/Ud530b93d3b9a4d1a96886d37bf55b7840.jpg',\n  'weixiandeyuedingDangerousagreement',\n  '更新至5集/共100集',\n  '2020-04-03',\n  '剧情',\n  '2020',\n  '中文字幕',\n  '100',\n  '26',\n  '朴荷娜,高世元,康星民,朴荣邻',\n  '韩剧',\n  '韩国',\n  None,\n  '{\"\\\\u7b2c01\\\\u96c6\": \"https://meiju11.qfxmj.com/20200330/RTsPU0WH/index.m3u8\", \"\\\\u7b2c02\\\\u96c6\": \"https://meiju11.qfxmj.com/20200331/tnwftqTX/index.m3u8\", \"\\\\u7b2c03\\\\u96c6\": \"https://meiju11.qfxmj.com/20200401/D8Zo23FS/index.m3u8\", \"\\\\u7b2c04\\\\u96c6\": \"https://meiju11.qfxmj.com/20200402/dHpNMFdZ/index.m3u8\", \"\\\\u7b2c05\\\\u96c6\": \"https://meiju11.qfxmj.com/20200403/kaVklcFL/index.m3u8\"}',\n  '40分钟',\n  '金信一',\n  None,\n  None,\n  None,\n  None,\n  None),\n (23,\n  1,\n  '1585926255.0',\n  '危险的约定 / Dangerous agreement',\n  '此剧讲述于斗争中遭受不公正对待被逼到悬崖边的女人，与抛弃挽救自己家人的男人，七年后再次相遇并从地狱里回来开始对伤害过自己的人开始报复。',\n  'https://ae01.alicdn.com/kf/Ud530b93d3b9a4d1a96886d37bf55b7840.jpg',\n  'weixiandeyuedingDangerousagreement',\n  '更新至5集/共100集',\n  '2020-04-03',\n  '剧情',\n  '2020',\n  '中文字幕',\n  '100',\n  '26',\n  '朴荷娜,高世元,康星民,朴荣邻',\n  '韩剧',\n  '韩国',\n  None,\n  '{\"\\\\u7b2c01\\\\u96c6\": \"https://meiju11.qfxmj.com/20200330/RTsPU0WH/index.m3u8\", \"\\\\u7b2c02\\\\u96c6\": \"https://meiju11.qfxmj.com/20200331/tnwftqTX/index.m3u8\", \"\\\\u7b2c03\\\\u96c6\": \"https://meiju11.qfxmj.com/20200401/D8Zo23FS/index.m3u8\", \"\\\\u7b2c04\\\\u96c6\": \"https://meiju11.qfxmj.com/20200402/dHpNMFdZ/index.m3u8\", \"\\\\u7b2c05\\\\u96c6\": \"https://meiju11.qfxmj.com/20200403/kaVklcFL/index.m3u8\"}',\n  '40分钟',\n  '金信一',\n  None,\n  None,\n  None,\n  None,\n  None),\n (24,\n  1,\n  '1585926255.0',\n  '危险的约定 / Dangerous agreement',\n  '此剧讲述于斗争中遭受不公正对待被逼到悬崖边的女人，与抛弃挽救自己家人的男人，七年后再次相遇并从地狱里回来开始对伤害过自己的人开始报复。',\n  'https://ae01.alicdn.com/kf/Ud530b93d3b9a4d1a96886d37bf55b7840.jpg',\n  'weixiandeyuedingDangerousagreement',\n  '更新至5集/共100集',\n  '2020-04-03',\n  '剧情',\n  '2020',\n  '中文字幕',\n  '100',\n  '26',\n  '朴荷娜,高世元,康星民,朴荣邻',\n  '韩剧',\n  '韩国',\n  None,\n  '{\"\\\\u7b2c01\\\\u96c6\": \"https://meiju11.qfxmj.com/20200330/RTsPU0WH/index.m3u8\", \"\\\\u7b2c02\\\\u96c6\": \"https://meiju11.qfxmj.com/20200331/tnwftqTX/index.m3u8\", \"\\\\u7b2c03\\\\u96c6\": \"https://meiju11.qfxmj.com/20200401/D8Zo23FS/index.m3u8\", \"\\\\u7b2c04\\\\u96c6\": \"https://meiju11.qfxmj.com/20200402/dHpNMFdZ/index.m3u8\", \"\\\\u7b2c05\\\\u96c6\": \"https://meiju11.qfxmj.com/20200403/kaVklcFL/index.m3u8\"}',\n  '40分钟',\n  '金信一',\n  None,\n  None,\n  None,\n  None,\n  None),\n (25,\n  1,\n  '1585926255.0',\n  '危险的约定 / Dangerous agreement',\n  '此剧讲述于斗争中遭受不公正对待被逼到悬崖边的女人，与抛弃挽救自己家人的男人，七年后再次相遇并从地狱里回来开始对伤害过自己的人开始报复。',\n  'https://ae01.alicdn.com/kf/Ud530b93d3b9a4d1a96886d37bf55b7840.jpg',\n  'weixiandeyuedingDangerousagreement',\n  '更新至5集/共100集',\n  '2020-04-03',\n  '剧情',\n  '2020',\n  '中文字幕',\n  '100',\n  '26',\n  '朴荷娜,高世元,康星民,朴荣邻',\n  '韩剧',\n  '韩国',\n  None,\n  '{\"\\\\u7b2c01\\\\u96c6\": \"https://meiju11.qfxmj.com/20200330/RTsPU0WH/index.m3u8\", \"\\\\u7b2c02\\\\u96c6\": \"https://meiju11.qfxmj.com/20200331/tnwftqTX/index.m3u8\", \"\\\\u7b2c03\\\\u96c6\": \"https://meiju11.qfxmj.com/20200401/D8Zo23FS/index.m3u8\", \"\\\\u7b2c04\\\\u96c6\": \"https://meiju11.qfxmj.com/20200402/dHpNMFdZ/index.m3u8\", \"\\\\u7b2c05\\\\u96c6\": \"https://meiju11.qfxmj.com/20200403/kaVklcFL/index.m3u8\"}',\n  '40分钟',\n  '金信一',\n  None,\n  None,\n  None,\n  None,\n  None),\n (26,\n  1,\n  '1585926255.0',\n  '危险的约定 / Dangerous agreement',\n  '此剧讲述于斗争中遭受不公正对待被逼到悬崖边的女人，与抛弃挽救自己家人的男人，七年后再次相遇并从地狱里回来开始对伤害过自己的人开始报复。',\n  'https://ae01.alicdn.com/kf/Ud530b93d3b9a4d1a96886d37bf55b7840.jpg',\n  'weixiandeyuedingDangerousagreement',\n  '更新至5集/共100集',\n  '2020-04-03',\n  '剧情',\n  '2020',\n  '中文字幕',\n  '100',\n  '26',\n  '朴荷娜,高世元,康星民,朴荣邻',\n  '韩剧',\n  '韩国',\n  None,\n  '{\"\\\\u7b2c01\\\\u96c6\": \"https://meiju11.qfxmj.com/20200330/RTsPU0WH/index.m3u8\", \"\\\\u7b2c02\\\\u96c6\": \"https://meiju11.qfxmj.com/20200331/tnwftqTX/index.m3u8\", \"\\\\u7b2c03\\\\u96c6\": \"https://meiju11.qfxmj.com/20200401/D8Zo23FS/index.m3u8\", \"\\\\u7b2c04\\\\u96c6\": \"https://meiju11.qfxmj.com/20200402/dHpNMFdZ/index.m3u8\", \"\\\\u7b2c05\\\\u96c6\": \"https://meiju11.qfxmj.com/20200403/kaVklcFL/index.m3u8\"}',\n  '40分钟',\n  '金信一',\n  None,\n  None,\n  None,\n  None,\n  None),\n (27,\n  1,\n  '1585926255.0',\n  '危险的约定 / Dangerous agreement',\n  '此剧讲述于斗争中遭受不公正对待被逼到悬崖边的女人，与抛弃挽救自己家人的男人，七年后再次相遇并从地狱里回来开始对伤害过自己的人开始报复。',\n  'https://ae01.alicdn.com/kf/Ud530b93d3b9a4d1a96886d37bf55b7840.jpg',\n  'weixiandeyuedingDangerousagreement',\n  '更新至5集/共100集',\n  '2020-04-03',\n  '剧情',\n  '2020',\n  '中文字幕',\n  '100',\n  '26',\n  '朴荷娜,高世元,康星民,朴荣邻',\n  '韩剧',\n  '韩国',\n  None,\n  '{\"\\\\u7b2c01\\\\u96c6\": \"https://meiju11.qfxmj.com/20200330/RTsPU0WH/index.m3u8\", \"\\\\u7b2c02\\\\u96c6\": \"https://meiju11.qfxmj.com/20200331/tnwftqTX/index.m3u8\", \"\\\\u7b2c03\\\\u96c6\": \"https://meiju11.qfxmj.com/20200401/D8Zo23FS/index.m3u8\", \"\\\\u7b2c04\\\\u96c6\": \"https://meiju11.qfxmj.com/20200402/dHpNMFdZ/index.m3u8\", \"\\\\u7b2c05\\\\u96c6\": \"https://meiju11.qfxmj.com/20200403/kaVklcFL/index.m3u8\"}',\n  '40分钟',\n  '金信一',\n  None,\n  None,\n  None,\n  None,\n  None),\n (28,\n  1,\n  '1585926255.0',\n  '危险的约定 / Dangerous agreement',\n  '此剧讲述于斗争中遭受不公正对待被逼到悬崖边的女人，与抛弃挽救自己家人的男人，七年后再次相遇并从地狱里回来开始对伤害过自己的人开始报复。',\n  'https://ae01.alicdn.com/kf/Ud530b93d3b9a4d1a96886d37bf55b7840.jpg',\n  'weixiandeyuedingDangerousagreement',\n  '更新至5集/共100集',\n  '2020-04-03',\n  '剧情',\n  '2020',\n  '中文字幕',\n  '100',\n  '26',\n  '朴荷娜,高世元,康星民,朴荣邻',\n  '韩剧',\n  '韩国',\n  None,\n  '{\"\\\\u7b2c01\\\\u96c6\": \"https://meiju11.qfxmj.com/20200330/RTsPU0WH/index.m3u8\", \"\\\\u7b2c02\\\\u96c6\": \"https://meiju11.qfxmj.com/20200331/tnwftqTX/index.m3u8\", \"\\\\u7b2c03\\\\u96c6\": \"https://meiju11.qfxmj.com/20200401/D8Zo23FS/index.m3u8\", \"\\\\u7b2c04\\\\u96c6\": \"https://meiju11.qfxmj.com/20200402/dHpNMFdZ/index.m3u8\", \"\\\\u7b2c05\\\\u96c6\": \"https://meiju11.qfxmj.com/20200403/kaVklcFL/index.m3u8\"}',\n  '40分钟',\n  '金信一',\n  None,\n  None,\n  None,\n  None,\n  None),\n (29,\n  1,\n  '1585926255.0',\n  '危险的约定 / Dangerous agreement',\n  '此剧讲述于斗争中遭受不公正对待被逼到悬崖边的女人，与抛弃挽救自己家人的男人，七年后再次相遇并从地狱里回来开始对伤害过自己的人开始报复。',\n  'https://ae01.alicdn.com/kf/Ud530b93d3b9a4d1a96886d37bf55b7840.jpg',\n  'weixiandeyuedingDangerousagreement',\n  '更新至5集/共100集',\n  '2020-04-03',\n  '剧情',\n  '2020',\n  '中文字幕',\n  '100',\n  '26',\n  '朴荷娜,高世元,康星民,朴荣邻',\n  '韩剧',\n  '韩国',\n  None,\n  '{\"\\\\u7b2c01\\\\u96c6\": \"https://meiju11.qfxmj.com/20200330/RTsPU0WH/index.m3u8\", \"\\\\u7b2c02\\\\u96c6\": \"https://meiju11.qfxmj.com/20200331/tnwftqTX/index.m3u8\", \"\\\\u7b2c03\\\\u96c6\": \"https://meiju11.qfxmj.com/20200401/D8Zo23FS/index.m3u8\", \"\\\\u7b2c04\\\\u96c6\": \"https://meiju11.qfxmj.com/20200402/dHpNMFdZ/index.m3u8\", \"\\\\u7b2c05\\\\u96c6\": \"https://meiju11.qfxmj.com/20200403/kaVklcFL/index.m3u8\"}',\n  '40分钟',\n  '金信一',\n  None,\n  None,\n  None,\n  None,\n  None),\n (30,\n  1,\n  '1585926255.0',\n  '危险的约定 / Dangerous agreement',\n  '此剧讲述于斗争中遭受不公正对待被逼到悬崖边的女人，与抛弃挽救自己家人的男人，七年后再次相遇并从地狱里回来开始对伤害过自己的人开始报复。',\n  'https://ae01.alicdn.com/kf/Ud530b93d3b9a4d1a96886d37bf55b7840.jpg',\n  'weixiandeyuedingDangerousagreement',\n  '更新至5集/共100集',\n  '2020-04-03',\n  '剧情',\n  '2020',\n  '中文字幕',\n  '100',\n  '26',\n  '朴荷娜,高世元,康星民,朴荣邻',\n  '韩剧',\n  '韩国',\n  None,\n  '{\"\\\\u7b2c01\\\\u96c6\": \"https://meiju11.qfxmj.com/20200330/RTsPU0WH/index.m3u8\", \"\\\\u7b2c02\\\\u96c6\": \"https://meiju11.qfxmj.com/20200331/tnwftqTX/index.m3u8\", \"\\\\u7b2c03\\\\u96c6\": \"https://meiju11.qfxmj.com/20200401/D8Zo23FS/index.m3u8\", \"\\\\u7b2c04\\\\u96c6\": \"https://meiju11.qfxmj.com/20200402/dHpNMFdZ/index.m3u8\", \"\\\\u7b2c05\\\\u96c6\": \"https://meiju11.qfxmj.com/20200403/kaVklcFL/index.m3u8\"}',\n  '40分钟',\n  '金信一',\n  None,\n  None,\n  None,\n  None,\n  None),\n (31,\n  1,\n  '1585926255.0',\n  '危险的约定 / Dangerous agreement',\n  '此剧讲述于斗争中遭受不公正对待被逼到悬崖边的女人，与抛弃挽救自己家人的男人，七年后再次相遇并从地狱里回来开始对伤害过自己的人开始报复。',\n  'https://ae01.alicdn.com/kf/Ud530b93d3b9a4d1a96886d37bf55b7840.jpg',\n  'weixiandeyuedingDangerousagreement',\n  '更新至5集/共100集',\n  '2020-04-03',\n  '剧情',\n  '2020',\n  '中文字幕',\n  '100',\n  '26',\n  '朴荷娜,高世元,康星民,朴荣邻',\n  '韩剧',\n  '韩国',\n  None,\n  '{\"\\\\u7b2c01\\\\u96c6\": \"https://meiju11.qfxmj.com/20200330/RTsPU0WH/index.m3u8\", \"\\\\u7b2c02\\\\u96c6\": \"https://meiju11.qfxmj.com/20200331/tnwftqTX/index.m3u8\", \"\\\\u7b2c03\\\\u96c6\": \"https://meiju11.qfxmj.com/20200401/D8Zo23FS/index.m3u8\", \"\\\\u7b2c04\\\\u96c6\": \"https://meiju11.qfxmj.com/20200402/dHpNMFdZ/index.m3u8\", \"\\\\u7b2c05\\\\u96c6\": \"https://meiju11.qfxmj.com/20200403/kaVklcFL/index.m3u8\"}',\n  '40分钟',\n  '金信一',\n  None,\n  None,\n  None,\n  None,\n  None),\n (32,\n  1,\n  '1585926255.0',\n  '危险的约定 / Dangerous agreement',\n  '此剧讲述于斗争中遭受不公正对待被逼到悬崖边的女人，与抛弃挽救自己家人的男人，七年后再次相遇并从地狱里回来开始对伤害过自己的人开始报复。',\n  'https://ae01.alicdn.com/kf/Ud530b93d3b9a4d1a96886d37bf55b7840.jpg',\n  'weixiandeyuedingDangerousagreement',\n  '更新至5集/共100集',\n  '2020-04-03',\n  '剧情',\n  '2020',\n  '中文字幕',\n  '100',\n  '26',\n  '朴荷娜,高世元,康星民,朴荣邻',\n  '韩剧',\n  '韩国',\n  None,\n  '{\"\\\\u7b2c01\\\\u96c6\": \"https://meiju11.qfxmj.com/20200330/RTsPU0WH/index.m3u8\", \"\\\\u7b2c02\\\\u96c6\": \"https://meiju11.qfxmj.com/20200331/tnwftqTX/index.m3u8\", \"\\\\u7b2c03\\\\u96c6\": \"https://meiju11.qfxmj.com/20200401/D8Zo23FS/index.m3u8\", \"\\\\u7b2c04\\\\u96c6\": \"https://meiju11.qfxmj.com/20200402/dHpNMFdZ/index.m3u8\", \"\\\\u7b2c05\\\\u96c6\": \"https://meiju11.qfxmj.com/20200403/kaVklcFL/index.m3u8\"}',\n  '40分钟',\n  '金信一',\n  None,\n  None,\n  None,\n  None,\n  None)]"
     },
     "metadata": {},
     "execution_count": 13
    }
   ],
   "source": [
    "a.fetchall()"
   ]
  },
  {
   "cell_type": "code",
   "execution_count": 16,
   "metadata": {},
   "outputs": [],
   "source": [
    "b=data.con.execute(\"select * from sqlite_master where type = 'table' and name = 'videos'\")"
   ]
  },
  {
   "cell_type": "code",
   "execution_count": 18,
   "metadata": {},
   "outputs": [
    {
     "output_type": "execute_result",
     "data": {
      "text/plain": "list"
     },
     "metadata": {},
     "execution_count": 18
    }
   ],
   "source": [
    "type(b.fetchall())"
   ]
  },
  {
   "cell_type": "code",
   "execution_count": null,
   "metadata": {},
   "outputs": [],
   "source": []
  }
 ]
}