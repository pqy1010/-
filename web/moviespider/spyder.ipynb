{
 "nbformat": 4,
 "nbformat_minor": 2,
 "metadata": {
  "language_info": {
   "name": "python",
   "codemirror_mode": {
    "name": "ipython",
    "version": 3
   },
   "version": "3.7.4-final"
  },
  "orig_nbformat": 2,
  "file_extension": ".py",
  "mimetype": "text/x-python",
  "name": "python",
  "npconvert_exporter": "python",
  "pygments_lexer": "ipython3",
  "version": 3,
  "kernelspec": {
   "name": "python3",
   "display_name": "Python 3"
  }
 },
 "cells": [
  {
   "cell_type": "code",
   "execution_count": 1,
   "metadata": {},
   "outputs": [],
   "source": [
    "from requests_html import HTMLSession\n",
    "import json\n",
    "import sqlite3\n",
    "import sqlalchemy\n",
    "import time\n",
    "session=HTMLSession()"
   ]
  },
  {
   "cell_type": "code",
   "execution_count": 2,
   "metadata": {},
   "outputs": [],
   "source": [
    "#获取配置\n",
    "with open('caiji.config','r') as f:\n",
    "    configjson=f.read()\n",
    "configdict=json.loads(configjson)\n",
    "\n",
    "with open('time.config','r') as f:\n",
    "    timejson=f.read()\n",
    "timedict=json.loads(timejson)"
   ]
  },
  {
   "cell_type": "code",
   "execution_count": 2,
   "metadata": {},
   "outputs": [],
   "source": [
    "con=sqlite3.connect('spyder.db')\n",
    "creatvideosql='''CREATE TABLE video (\n",
    "  id INTEGER PRIMARY KEY AUTOINCREMENT,\n",
    "  author_id INTEGER NOT NULL,\n",
    "  name TEXT NOT NULL,\n",
    "  img TEXT,\n",
    "  jishu TEXT,\n",
    "  othername TEXT,\n",
    "  director TEXT,\n",
    "  actor TEXT,\n",
    "  genre TEXT,\n",
    "  region TEXT,\n",
    "  language TEXT,\n",
    "  screen TEXT,\n",
    "  mlen TEXT,\n",
    "  updatet TEXT,\n",
    "  clicknum TEXT,\n",
    "  todayclicknum TEXT,\n",
    "  score TEXT,\n",
    "  scorenum TEXT,\n",
    "  introduction TEXT,\n",
    "  yun1 TEXT,\n",
    "  m3u8 TEXT,\n",
    "  download TEXT,\n",
    "  platform TEXT,\n",
    "  other TEXT,\n",
    "  other1 TEXT,\n",
    "  other2 TEXT,\n",
    "  other3 TEXT,\n",
    "  permituid TEXT,\n",
    "  FOREIGN KEY (author_id) REFERENCES user (id)\n",
    ");'''\n",
    "\n",
    "c=con.cursor()\n",
    "tablelist=c.execute(\"select * from sqlite_master where type = 'table' and name = 'video'\").fetchall()\n",
    "if not tablelist:\n",
    "    c.execute(creatvideosql)\n",
    "    con.commit()"
   ]
  },
  {
   "cell_type": "code",
   "execution_count": 4,
   "metadata": {},
   "outputs": [],
   "source": [
    "a=[\"名称\",\"封面\",\"集数\",\"别名\",\"导演\",\"主演\",\"类型\",\"地区\",\"语言\",\"上映\",\"片长\",\"更新\",\"总播放量\",\"今日播放量\",\"总评分\",\"评分次数\",\"简介\",\"yun1\",\"m3u8\",\"下载\",\"来源\"]\n",
    "e=[\"name\",\"img\",\"jishu\",\"othername\",\"director\",\"actor\",\"genre\",\"region\",\"language\",\"screen\",\"mlen\",\"updatet\",\"clicknum\",\"todayclicknum\",\"score\",\"scorenum\",\"introduction\",\"yun1\",\"m3u8\",            \"download\",\"platform\"]\n",
    ""
   ]
  },
  {
   "cell_type": "code",
   "execution_count": 5,
   "metadata": {},
   "outputs": [
    {
     "output_type": "stream",
     "name": "stdout",
     "text": "http://www.okzy.co/\n"
    }
   ],
   "source": [
    "updatelist=[]\n",
    "savepath='./data/'\n",
    "for keyset,valset in configdict.items():\n",
    "    pagenum=1\n",
    "    url_av=[]\n",
    "\n",
    "    url=keyset\n",
    "    print(url)\n",
    "    \n",
    "    stopflag=1\n",
    "    righttime=None\n",
    "    deadline=float(timedict[url]['deadline'])# 提取截至日期\n",
    "    while(stopflag):\n",
    "        try :\n",
    "            r=session.get(url)\n",
    "        except:\n",
    "            print('url'+'not response')\n",
    "            continue\n",
    "        \n",
    "        if righttime == None:\n",
    "            righttime=time.time()\n",
    "        urllist=r.html.links#获取所有链接\n",
    "        for temp in urllist:#寻找详情页的url列表\n",
    "            if configdict[keyset]['useful_url'] in temp:\n",
    "                url_av.append(temp)\n",
    "\n",
    "        for suburl in url_av:#电影详情页\n",
    "            try:\n",
    "                ph=session.get(keyset+suburl)\n",
    "            except:\n",
    "                print(keyset+suburl+'not response')\n",
    "                continue\n",
    "            moviedict={}#一条数据信息\n",
    "            moviedict[\"platform\"]=keyset\n",
    "            for info,rule in configdict[keyset]['target_xpath'].items():#获取当前电影的详细信息\n",
    "                if info ==\"img\":\n",
    "                    if(ph.html.xpath(rule)):\n",
    "                        moviedict[info]=ph.html.xpath(rule)[0]\n",
    "                    else:\n",
    "                        moviedict[info]=''\n",
    "                elif info ==\"m3u8\" or info==\"yun1\" or info == \"download\":\n",
    "                    moviedict[info]={}\n",
    "                    for subset in ph.html.xpath(rule):\n",
    "                        sep=subset.text.find('$')\n",
    "                        if sep:\n",
    "                            subsetlabel=subset.text[:sep]\n",
    "                            subseturl=subset.text[sep+1:]\n",
    "                            moviedict[info][subsetlabel]=subseturl\n",
    "                        else:\n",
    "                            moviedict[info][subsetlabel]=subset\n",
    "                elif info==\"name\":\n",
    "                    tempname=ph.html.xpath(rule)[0].text\n",
    "                    tempname=tempname.split(' ')\n",
    "                    moviedict[info]=tempname[0]\n",
    "\n",
    "                else:\n",
    "                    if(ph.html.xpath(rule)):\n",
    "                        moviedict[info]=ph.html.xpath(rule)[0].text\n",
    "                    else:\n",
    "                        moviedict[info]=''\n",
    "            updatelist.append(moviedict)\n",
    "            updatet=time.mktime(time.strptime(moviedict['updatet'],\"%Y-%m-%d %H:%M:%S\"))\n",
    "            if updatet<deadline:\n",
    "                stopflag=0\n",
    "                break\n",
    "\n",
    "        \n",
    "\n",
    "\n",
    "        #next page\n",
    "        pagenum+=1\n",
    "        url=configdict[keyset]+configdict[keyset]['nextpage']%pagenum\n",
    "\n",
    "\n",
    "\n",
    "        timedict[url]['deadline']=str(righttime)\n",
    "        json.dump(timedict, open('time.config', \"w\"))"
   ]
  },
  {
   "cell_type": "code",
   "execution_count": 21,
   "metadata": {},
   "outputs": [
    {
     "output_type": "stream",
     "name": "stdout",
     "text": "2020-04-09 03:04:41\n"
    }
   ],
   "source": [
    "ph=session.get('https://www.rrzyw.cc/index.php/vod/detail/id/16936.html')\n",
    "\n",
    "for i in ph.html.xpath(\"//span[@class='text-red hidden-xs']\"):\n",
    "    print(i.text)"
   ]
  },
  {
   "cell_type": "code",
   "execution_count": 24,
   "metadata": {},
   "outputs": [
    {
     "output_type": "execute_result",
     "data": {
      "text/plain": "'https://www.rrzyw.cc//index.php/index/index/page/2.html'"
     },
     "metadata": {},
     "execution_count": 24
    }
   ],
   "source": [
    "keyset+configdict[keyset]['nextpage']%2"
   ]
  },
  {
   "cell_type": "code",
   "execution_count": 23,
   "metadata": {},
   "outputs": [
    {
     "output_type": "execute_result",
     "data": {
      "text/plain": "'/index.php/index/index/page/%d.html'"
     },
     "metadata": {},
     "execution_count": 23
    }
   ],
   "source": [
    "configdict[keyset]['nextpage']"
   ]
  },
  {
   "cell_type": "code",
   "execution_count": 6,
   "metadata": {
    "tags": [
     "outputPrepend",
     "outputPrepend",
     "outputPrepend",
     "outputPrepend",
     "outputPrepend",
     "outputPrepend",
     "outputPrepend",
     "outputPrepend",
     "outputPrepend",
     "outputPrepend",
     "outputPrepend",
     "outputPrepend",
     "outputPrepend",
     "outputPrepend",
     "outputPrepend",
     "outputPrepend",
     "outputPrepend",
     "outputPrepend",
     "outputPrepend",
     "outputPrepend",
     "outputPrepend",
     "outputPrepend",
     "outputPrepend",
     "outputPrepend",
     "outputPrepend",
     "outputPrepend",
     "outputPrepend",
     "outputPrepend",
     "outputPrepend",
     "outputPrepend",
     "outputPrepend",
     "outputPrepend",
     "outputPrepend",
     "outputPrepend",
     "outputPrepend",
     "outputPrepend",
     "outputPrepend",
     "outputPrepend",
     "outputPrepend",
     "outputPrepend",
     "outputPrepend",
     "outputPrepend",
     "outputPrepend",
     "outputPrepend",
     "outputPrepend",
     "outputPrepend",
     "outputPrepend",
     "outputPrepend",
     "outputPrepend",
     "outputPrepend",
     "outputPrepend",
     "outputPrepend",
     "outputPrepend",
     "outputPrepend",
     "outputPrepend",
     "outputPrepend",
     "outputPrepend",
     "outputPrepend",
     "outputPrepend",
     "outputPrepend",
     "outputPrepend",
     "outputPrepend",
     "outputPrepend",
     "outputPrepend",
     "outputPrepend",
     "outputPrepend",
     "outputPrepend",
     "outputPrepend",
     "outputPrepend",
     "outputPrepend",
     "outputPrepend",
     "outputPrepend",
     "outputPrepend",
     "outputPrepend",
     "outputPrepend",
     "outputPrepend",
     "outputPrepend",
     "outputPrepend",
     "outputPrepend",
     "outputPrepend",
     "outputPrepend",
     "outputPrepend",
     "outputPrepend",
     "outputPrepend",
     "outputPrepend",
     "outputPrepend",
     "outputPrepend",
     "outputPrepend",
     "outputPrepend",
     "outputPrepend",
     "outputPrepend",
     "outputPrepend",
     "outputPrepend",
     "outputPrepend",
     "outputPrepend",
     "outputPrepend",
     "outputPrepend",
     "outputPrepend",
     "outputPrepend",
     "outputPrepend",
     "outputPrepend",
     "outputPrepend",
     "outputPrepend",
     "outputPrepend",
     "outputPrepend",
     "outputPrepend",
     "outputPrepend",
     "outputPrepend",
     "outputPrepend",
     "outputPrepend",
     "outputPrepend",
     "outputPrepend",
     "outputPrepend",
     "outputPrepend",
     "outputPrepend",
     "outputPrepend",
     "outputPrepend",
     "outputPrepend",
     "outputPrepend",
     "outputPrepend",
     "outputPrepend",
     "outputPrepend",
     "outputPrepend",
     "outputPrepend",
     "outputPrepend",
     "outputPrepend",
     "outputPrepend",
     "outputPrepend",
     "outputPrepend",
     "outputPrepend",
     "outputPrepend",
     "outputPrepend",
     "outputPrepend",
     "outputPrepend",
     "outputPrepend",
     "outputPrepend",
     "outputPrepend",
     "outputPrepend",
     "outputPrepend",
     "outputPrepend",
     "outputPrepend",
     "outputPrepend",
     "outputPrepend",
     "outputPrepend",
     "outputPrepend",
     "outputPrepend",
     "outputPrepend",
     "outputPrepend",
     "outputPrepend",
     "outputPrepend",
     "outputPrepend",
     "outputPrepend",
     "outputPrepend",
     "outputPrepend",
     "outputPrepend",
     "outputPrepend",
     "outputPrepend",
     "outputPrepend",
     "outputPrepend",
     "outputPrepend",
     "outputPrepend",
     "outputPrepend",
     "outputPrepend",
     "outputPrepend",
     "outputPrepend",
     "outputPrepend",
     "outputPrepend",
     "outputPrepend",
     "outputPrepend",
     "outputPrepend",
     "outputPrepend",
     "outputPrepend",
     "outputPrepend",
     "outputPrepend",
     "outputPrepend",
     "outputPrepend",
     "outputPrepend",
     "outputPrepend",
     "outputPrepend",
     "outputPrepend",
     "outputPrepend",
     "outputPrepend",
     "outputPrepend",
     "outputPrepend",
     "outputPrepend",
     "outputPrepend",
     "outputPrepend",
     "outputPrepend",
     "outputPrepend",
     "outputPrepend",
     "outputPrepend",
     "outputPrepend",
     "outputPrepend",
     "outputPrepend",
     "outputPrepend",
     "outputPrepend",
     "outputPrepend",
     "outputPrepend"
    ]
   },
   "outputs": [
    {
     "output_type": "stream",
     "name": "stdout",
     "text": "img,jishu,othername,director,actor,genre,region,language,screen,mlen,updatet,clicknum,todayclicknum,score,scorenum,introduction,yun1,m3u8,download,author_id) VALUES (?,?,?,?,?,?,?,?,?,?,?,?,?,?,?,?,?,?,?,?,?,?)\nok\nINSERT INTO video (platform,name,img,jishu,othername,director,actor,genre,region,language,screen,mlen,updatet,clicknum,todayclicknum,score,scorenum,introduction,yun1,m3u8,download,author_id) VALUES (?,?,?,?,?,?,?,?,?,?,?,?,?,?,?,?,?,?,?,?,?,?)\nok\nINSERT INTO video (platform,name,img,jishu,othername,director,actor,genre,region,language,screen,mlen,updatet,clicknum,todayclicknum,score,scorenum,introduction,yun1,m3u8,download,author_id) VALUES (?,?,?,?,?,?,?,?,?,?,?,?,?,?,?,?,?,?,?,?,?,?)\nok\nINSERT INTO video (platform,name,img,jishu,othername,director,actor,genre,region,language,screen,mlen,updatet,clicknum,todayclicknum,score,scorenum,introduction,yun1,m3u8,download,author_id) VALUES (?,?,?,?,?,?,?,?,?,?,?,?,?,?,?,?,?,?,?,?,?,?)\nok\nINSERT INTO video (platform,name,img,jishu,othername,director,actor,genre,region,language,screen,mlen,updatet,clicknum,todayclicknum,score,scorenum,introduction,yun1,m3u8,download,author_id) VALUES (?,?,?,?,?,?,?,?,?,?,?,?,?,?,?,?,?,?,?,?,?,?)\nok\nINSERT INTO video (platform,name,img,jishu,othername,director,actor,genre,region,language,screen,mlen,updatet,clicknum,todayclicknum,score,scorenum,introduction,yun1,m3u8,download,author_id) VALUES (?,?,?,?,?,?,?,?,?,?,?,?,?,?,?,?,?,?,?,?,?,?)\nok\nINSERT INTO video (platform,name,img,jishu,othername,director,actor,genre,region,language,screen,mlen,updatet,clicknum,todayclicknum,score,scorenum,introduction,yun1,m3u8,download,author_id) VALUES (?,?,?,?,?,?,?,?,?,?,?,?,?,?,?,?,?,?,?,?,?,?)\nok\nINSERT INTO video (platform,name,img,jishu,othername,director,actor,genre,region,language,screen,mlen,updatet,clicknum,todayclicknum,score,scorenum,introduction,yun1,m3u8,download,author_id) VALUES (?,?,?,?,?,?,?,?,?,?,?,?,?,?,?,?,?,?,?,?,?,?)\nok\nINSERT INTO video (platform,name,img,jishu,othername,director,actor,genre,region,language,screen,mlen,updatet,clicknum,todayclicknum,score,scorenum,introduction,yun1,m3u8,download,author_id) VALUES (?,?,?,?,?,?,?,?,?,?,?,?,?,?,?,?,?,?,?,?,?,?)\nok\nINSERT INTO video (platform,name,img,jishu,othername,director,actor,genre,region,language,screen,mlen,updatet,clicknum,todayclicknum,score,scorenum,introduction,yun1,m3u8,download,author_id) VALUES (?,?,?,?,?,?,?,?,?,?,?,?,?,?,?,?,?,?,?,?,?,?)\nok\nINSERT INTO video (platform,name,img,jishu,othername,director,actor,genre,region,language,screen,mlen,updatet,clicknum,todayclicknum,score,scorenum,introduction,yun1,m3u8,download,author_id) VALUES (?,?,?,?,?,?,?,?,?,?,?,?,?,?,?,?,?,?,?,?,?,?)\nok\nINSERT INTO video (platform,name,img,jishu,othername,director,actor,genre,region,language,screen,mlen,updatet,clicknum,todayclicknum,score,scorenum,introduction,yun1,m3u8,download,author_id) VALUES (?,?,?,?,?,?,?,?,?,?,?,?,?,?,?,?,?,?,?,?,?,?)\nok\nINSERT INTO video (platform,name,img,jishu,othername,director,actor,genre,region,language,screen,mlen,updatet,clicknum,todayclicknum,score,scorenum,introduction,yun1,m3u8,download,author_id) VALUES (?,?,?,?,?,?,?,?,?,?,?,?,?,?,?,?,?,?,?,?,?,?)\nok\nINSERT INTO video (platform,name,img,jishu,othername,director,actor,genre,region,language,screen,mlen,updatet,clicknum,todayclicknum,score,scorenum,introduction,yun1,m3u8,download,author_id) VALUES (?,?,?,?,?,?,?,?,?,?,?,?,?,?,?,?,?,?,?,?,?,?)\nok\nINSERT INTO video (platform,name,img,jishu,othername,director,actor,genre,region,language,screen,mlen,updatet,clicknum,todayclicknum,score,scorenum,introduction,yun1,m3u8,download,author_id) VALUES (?,?,?,?,?,?,?,?,?,?,?,?,?,?,?,?,?,?,?,?,?,?)\nok\nINSERT INTO video (platform,name,img,jishu,othername,director,actor,genre,region,language,screen,mlen,updatet,clicknum,todayclicknum,score,scorenum,introduction,yun1,m3u8,download,author_id) VALUES (?,?,?,?,?,?,?,?,?,?,?,?,?,?,?,?,?,?,?,?,?,?)\nok\nINSERT INTO video (platform,name,img,jishu,othername,director,actor,genre,region,language,screen,mlen,updatet,clicknum,todayclicknum,score,scorenum,introduction,yun1,m3u8,download,author_id) VALUES (?,?,?,?,?,?,?,?,?,?,?,?,?,?,?,?,?,?,?,?,?,?)\nok\nINSERT INTO video (platform,name,img,jishu,othername,director,actor,genre,region,language,screen,mlen,updatet,clicknum,todayclicknum,score,scorenum,introduction,yun1,m3u8,download,author_id) VALUES (?,?,?,?,?,?,?,?,?,?,?,?,?,?,?,?,?,?,?,?,?,?)\nok\nINSERT INTO video (platform,name,img,jishu,othername,director,actor,genre,region,language,screen,mlen,updatet,clicknum,todayclicknum,score,scorenum,introduction,yun1,m3u8,download,author_id) VALUES (?,?,?,?,?,?,?,?,?,?,?,?,?,?,?,?,?,?,?,?,?,?)\nok\nINSERT INTO video (platform,name,img,jishu,othername,director,actor,genre,region,language,screen,mlen,updatet,clicknum,todayclicknum,score,scorenum,introduction,yun1,m3u8,download,author_id) VALUES (?,?,?,?,?,?,?,?,?,?,?,?,?,?,?,?,?,?,?,?,?,?)\nok\nINSERT INTO video (platform,name,img,jishu,othername,director,actor,genre,region,language,screen,mlen,updatet,clicknum,todayclicknum,score,scorenum,introduction,yun1,m3u8,download,author_id) VALUES (?,?,?,?,?,?,?,?,?,?,?,?,?,?,?,?,?,?,?,?,?,?)\nok\nINSERT INTO video (platform,name,img,jishu,othername,director,actor,genre,region,language,screen,mlen,updatet,clicknum,todayclicknum,score,scorenum,introduction,yun1,m3u8,download,author_id) VALUES (?,?,?,?,?,?,?,?,?,?,?,?,?,?,?,?,?,?,?,?,?,?)\nok\nINSERT INTO video (platform,name,img,jishu,othername,director,actor,genre,region,language,screen,mlen,updatet,clicknum,todayclicknum,score,scorenum,introduction,yun1,m3u8,download,author_id) VALUES (?,?,?,?,?,?,?,?,?,?,?,?,?,?,?,?,?,?,?,?,?,?)\nok\nINSERT INTO video (platform,name,img,jishu,othername,director,actor,genre,region,language,screen,mlen,updatet,clicknum,todayclicknum,score,scorenum,introduction,yun1,m3u8,download,author_id) VALUES (?,?,?,?,?,?,?,?,?,?,?,?,?,?,?,?,?,?,?,?,?,?)\nok\nINSERT INTO video (platform,name,img,jishu,othername,director,actor,genre,region,language,screen,mlen,updatet,clicknum,todayclicknum,score,scorenum,introduction,yun1,m3u8,download,author_id) VALUES (?,?,?,?,?,?,?,?,?,?,?,?,?,?,?,?,?,?,?,?,?,?)\nok\nINSERT INTO video (platform,name,img,jishu,othername,director,actor,genre,region,language,screen,mlen,updatet,clicknum,todayclicknum,score,scorenum,introduction,yun1,m3u8,download,author_id) VALUES (?,?,?,?,?,?,?,?,?,?,?,?,?,?,?,?,?,?,?,?,?,?)\nok\nINSERT INTO video (platform,name,img,jishu,othername,director,actor,genre,region,language,screen,mlen,updatet,clicknum,todayclicknum,score,scorenum,introduction,yun1,m3u8,download,author_id) VALUES (?,?,?,?,?,?,?,?,?,?,?,?,?,?,?,?,?,?,?,?,?,?)\nok\nINSERT INTO video (platform,name,img,jishu,othername,director,actor,genre,region,language,screen,mlen,updatet,clicknum,todayclicknum,score,scorenum,introduction,yun1,m3u8,download,author_id) VALUES (?,?,?,?,?,?,?,?,?,?,?,?,?,?,?,?,?,?,?,?,?,?)\nok\nINSERT INTO video (platform,name,img,jishu,othername,director,actor,genre,region,language,screen,mlen,updatet,clicknum,todayclicknum,score,scorenum,introduction,yun1,m3u8,download,author_id) VALUES (?,?,?,?,?,?,?,?,?,?,?,?,?,?,?,?,?,?,?,?,?,?)\nok\nINSERT INTO video (platform,name,img,jishu,othername,director,actor,genre,region,language,screen,mlen,updatet,clicknum,todayclicknum,score,scorenum,introduction,yun1,m3u8,download,author_id) VALUES (?,?,?,?,?,?,?,?,?,?,?,?,?,?,?,?,?,?,?,?,?,?)\nok\nINSERT INTO video (platform,name,img,jishu,othername,director,actor,genre,region,language,screen,mlen,updatet,clicknum,todayclicknum,score,scorenum,introduction,yun1,m3u8,download,author_id) VALUES (?,?,?,?,?,?,?,?,?,?,?,?,?,?,?,?,?,?,?,?,?,?)\nok\nINSERT INTO video (platform,name,img,jishu,othername,director,actor,genre,region,language,screen,mlen,updatet,clicknum,todayclicknum,score,scorenum,introduction,yun1,m3u8,download,author_id) VALUES (?,?,?,?,?,?,?,?,?,?,?,?,?,?,?,?,?,?,?,?,?,?)\nok\nINSERT INTO video (platform,name,img,jishu,othername,director,actor,genre,region,language,screen,mlen,updatet,clicknum,todayclicknum,score,scorenum,introduction,yun1,m3u8,download,author_id) VALUES (?,?,?,?,?,?,?,?,?,?,?,?,?,?,?,?,?,?,?,?,?,?)\nok\nINSERT INTO video (platform,name,img,jishu,othername,director,actor,genre,region,language,screen,mlen,updatet,clicknum,todayclicknum,score,scorenum,introduction,yun1,m3u8,download,author_id) VALUES (?,?,?,?,?,?,?,?,?,?,?,?,?,?,?,?,?,?,?,?,?,?)\nok\nINSERT INTO video (platform,name,img,jishu,othername,director,actor,genre,region,language,screen,mlen,updatet,clicknum,todayclicknum,score,scorenum,introduction,yun1,m3u8,download,author_id) VALUES (?,?,?,?,?,?,?,?,?,?,?,?,?,?,?,?,?,?,?,?,?,?)\nok\nINSERT INTO video (platform,name,img,jishu,othername,director,actor,genre,region,language,screen,mlen,updatet,clicknum,todayclicknum,score,scorenum,introduction,yun1,m3u8,download,author_id) VALUES (?,?,?,?,?,?,?,?,?,?,?,?,?,?,?,?,?,?,?,?,?,?)\nok\nINSERT INTO video (platform,name,img,jishu,othername,director,actor,genre,region,language,screen,mlen,updatet,clicknum,todayclicknum,score,scorenum,introduction,yun1,m3u8,download,author_id) VALUES (?,?,?,?,?,?,?,?,?,?,?,?,?,?,?,?,?,?,?,?,?,?)\nok\nINSERT INTO video (platform,name,img,jishu,othername,director,actor,genre,region,language,screen,mlen,updatet,clicknum,todayclicknum,score,scorenum,introduction,yun1,m3u8,download,author_id) VALUES (?,?,?,?,?,?,?,?,?,?,?,?,?,?,?,?,?,?,?,?,?,?)\nok\nINSERT INTO video (platform,name,img,jishu,othername,director,actor,genre,region,language,screen,mlen,updatet,clicknum,todayclicknum,score,scorenum,introduction,yun1,m3u8,download,author_id) VALUES (?,?,?,?,?,?,?,?,?,?,?,?,?,?,?,?,?,?,?,?,?,?)\nok\nINSERT INTO video (platform,name,img,jishu,othername,director,actor,genre,region,language,screen,mlen,updatet,clicknum,todayclicknum,score,scorenum,introduction,yun1,m3u8,download,author_id) VALUES (?,?,?,?,?,?,?,?,?,?,?,?,?,?,?,?,?,?,?,?,?,?)\nok\nINSERT INTO video (platform,name,img,jishu,othername,director,actor,genre,region,language,screen,mlen,updatet,clicknum,todayclicknum,score,scorenum,introduction,yun1,m3u8,download,author_id) VALUES (?,?,?,?,?,?,?,?,?,?,?,?,?,?,?,?,?,?,?,?,?,?)\nok\nINSERT INTO video (platform,name,img,jishu,othername,director,actor,genre,region,language,screen,mlen,updatet,clicknum,todayclicknum,score,scorenum,introduction,yun1,m3u8,download,author_id) VALUES (?,?,?,?,?,?,?,?,?,?,?,?,?,?,?,?,?,?,?,?,?,?)\nok\nINSERT INTO video (platform,name,img,jishu,othername,director,actor,genre,region,language,screen,mlen,updatet,clicknum,todayclicknum,score,scorenum,introduction,yun1,m3u8,download,author_id) VALUES (?,?,?,?,?,?,?,?,?,?,?,?,?,?,?,?,?,?,?,?,?,?)\nok\nINSERT INTO video (platform,name,img,jishu,othername,director,actor,genre,region,language,screen,mlen,updatet,clicknum,todayclicknum,score,scorenum,introduction,yun1,m3u8,download,author_id) VALUES (?,?,?,?,?,?,?,?,?,?,?,?,?,?,?,?,?,?,?,?,?,?)\nok\nINSERT INTO video (platform,name,img,jishu,othername,director,actor,genre,region,language,screen,mlen,updatet,clicknum,todayclicknum,score,scorenum,introduction,yun1,m3u8,download,author_id) VALUES (?,?,?,?,?,?,?,?,?,?,?,?,?,?,?,?,?,?,?,?,?,?)\nok\nINSERT INTO video (platform,name,img,jishu,othername,director,actor,genre,region,language,screen,mlen,updatet,clicknum,todayclicknum,score,scorenum,introduction,yun1,m3u8,download,author_id) VALUES (?,?,?,?,?,?,?,?,?,?,?,?,?,?,?,?,?,?,?,?,?,?)\nok\nINSERT INTO video (platform,name,img,jishu,othername,director,actor,genre,region,language,screen,mlen,updatet,clicknum,todayclicknum,score,scorenum,introduction,yun1,m3u8,download,author_id) VALUES (?,?,?,?,?,?,?,?,?,?,?,?,?,?,?,?,?,?,?,?,?,?)\nok\nINSERT INTO video (platform,name,img,jishu,othername,director,actor,genre,region,language,screen,mlen,updatet,clicknum,todayclicknum,score,scorenum,introduction,yun1,m3u8,download,author_id) VALUES (?,?,?,?,?,?,?,?,?,?,?,?,?,?,?,?,?,?,?,?,?,?)\nok\nINSERT INTO video (platform,name,img,jishu,othername,director,actor,genre,region,language,screen,mlen,updatet,clicknum,todayclicknum,score,scorenum,introduction,yun1,m3u8,download,author_id) VALUES (?,?,?,?,?,?,?,?,?,?,?,?,?,?,?,?,?,?,?,?,?,?)\nok\nINSERT INTO video (platform,name,img,jishu,othername,director,actor,genre,region,language,screen,mlen,updatet,clicknum,todayclicknum,score,scorenum,introduction,yun1,m3u8,download,author_id) VALUES (?,?,?,?,?,?,?,?,?,?,?,?,?,?,?,?,?,?,?,?,?,?)\nok\nINSERT INTO video (platform,name,img,jishu,othername,director,actor,genre,region,language,screen,mlen,updatet,clicknum,todayclicknum,score,scorenum,introduction,yun1,m3u8,download,author_id) VALUES (?,?,?,?,?,?,?,?,?,?,?,?,?,?,?,?,?,?,?,?,?,?)\nok\nINSERT INTO video (platform,name,img,jishu,othername,director,actor,genre,region,language,screen,mlen,updatet,clicknum,todayclicknum,score,scorenum,introduction,yun1,m3u8,download,author_id) VALUES (?,?,?,?,?,?,?,?,?,?,?,?,?,?,?,?,?,?,?,?,?,?)\nok\nINSERT INTO video (platform,name,img,jishu,othername,director,actor,genre,region,language,screen,mlen,updatet,clicknum,todayclicknum,score,scorenum,introduction,yun1,m3u8,download,author_id) VALUES (?,?,?,?,?,?,?,?,?,?,?,?,?,?,?,?,?,?,?,?,?,?)\nok\nINSERT INTO video (platform,name,img,jishu,othername,director,actor,genre,region,language,screen,mlen,updatet,clicknum,todayclicknum,score,scorenum,introduction,yun1,m3u8,download,author_id) VALUES (?,?,?,?,?,?,?,?,?,?,?,?,?,?,?,?,?,?,?,?,?,?)\nok\nINSERT INTO video (platform,name,img,jishu,othername,director,actor,genre,region,language,screen,mlen,updatet,clicknum,todayclicknum,score,scorenum,introduction,yun1,m3u8,download,author_id) VALUES (?,?,?,?,?,?,?,?,?,?,?,?,?,?,?,?,?,?,?,?,?,?)\nok\nINSERT INTO video (platform,name,img,jishu,othername,director,actor,genre,region,language,screen,mlen,updatet,clicknum,todayclicknum,score,scorenum,introduction,yun1,m3u8,download,author_id) VALUES (?,?,?,?,?,?,?,?,?,?,?,?,?,?,?,?,?,?,?,?,?,?)\nok\nINSERT INTO video (platform,name,img,jishu,othername,director,actor,genre,region,language,screen,mlen,updatet,clicknum,todayclicknum,score,scorenum,introduction,yun1,m3u8,download,author_id) VALUES (?,?,?,?,?,?,?,?,?,?,?,?,?,?,?,?,?,?,?,?,?,?)\nok\nINSERT INTO video (platform,name,img,jishu,othername,director,actor,genre,region,language,screen,mlen,updatet,clicknum,todayclicknum,score,scorenum,introduction,yun1,m3u8,download,author_id) VALUES (?,?,?,?,?,?,?,?,?,?,?,?,?,?,?,?,?,?,?,?,?,?)\nok\nINSERT INTO video (platform,name,img,jishu,othername,director,actor,genre,region,language,screen,mlen,updatet,clicknum,todayclicknum,score,scorenum,introduction,yun1,m3u8,download,author_id) VALUES (?,?,?,?,?,?,?,?,?,?,?,?,?,?,?,?,?,?,?,?,?,?)\nok\nINSERT INTO video (platform,name,img,jishu,othername,director,actor,genre,region,language,screen,mlen,updatet,clicknum,todayclicknum,score,scorenum,introduction,yun1,m3u8,download,author_id) VALUES (?,?,?,?,?,?,?,?,?,?,?,?,?,?,?,?,?,?,?,?,?,?)\nok\nINSERT INTO video (platform,name,img,jishu,othername,director,actor,genre,region,language,screen,mlen,updatet,clicknum,todayclicknum,score,scorenum,introduction,yun1,m3u8,download,author_id) VALUES (?,?,?,?,?,?,?,?,?,?,?,?,?,?,?,?,?,?,?,?,?,?)\nok\nINSERT INTO video (platform,name,img,jishu,othername,director,actor,genre,region,language,screen,mlen,updatet,clicknum,todayclicknum,score,scorenum,introduction,yun1,m3u8,download,author_id) VALUES (?,?,?,?,?,?,?,?,?,?,?,?,?,?,?,?,?,?,?,?,?,?)\nok\nINSERT INTO video (platform,name,img,jishu,othername,director,actor,genre,region,language,screen,mlen,updatet,clicknum,todayclicknum,score,scorenum,introduction,yun1,m3u8,download,author_id) VALUES (?,?,?,?,?,?,?,?,?,?,?,?,?,?,?,?,?,?,?,?,?,?)\nok\nINSERT INTO video (platform,name,img,jishu,othername,director,actor,genre,region,language,screen,mlen,updatet,clicknum,todayclicknum,score,scorenum,introduction,yun1,m3u8,download,author_id) VALUES (?,?,?,?,?,?,?,?,?,?,?,?,?,?,?,?,?,?,?,?,?,?)\nok\nINSERT INTO video (platform,name,img,jishu,othername,director,actor,genre,region,language,screen,mlen,updatet,clicknum,todayclicknum,score,scorenum,introduction,yun1,m3u8,download,author_id) VALUES (?,?,?,?,?,?,?,?,?,?,?,?,?,?,?,?,?,?,?,?,?,?)\nok\nINSERT INTO video (platform,name,img,jishu,othername,director,actor,genre,region,language,screen,mlen,updatet,clicknum,todayclicknum,score,scorenum,introduction,yun1,m3u8,download,author_id) VALUES (?,?,?,?,?,?,?,?,?,?,?,?,?,?,?,?,?,?,?,?,?,?)\nok\nINSERT INTO video (platform,name,img,jishu,othername,director,actor,genre,region,language,screen,mlen,updatet,clicknum,todayclicknum,score,scorenum,introduction,yun1,m3u8,download,author_id) VALUES (?,?,?,?,?,?,?,?,?,?,?,?,?,?,?,?,?,?,?,?,?,?)\nok\nINSERT INTO video (platform,name,img,jishu,othername,director,actor,genre,region,language,screen,mlen,updatet,clicknum,todayclicknum,score,scorenum,introduction,yun1,m3u8,download,author_id) VALUES (?,?,?,?,?,?,?,?,?,?,?,?,?,?,?,?,?,?,?,?,?,?)\nok\nINSERT INTO video (platform,name,updatet,m3u8,download,author_id) VALUES (?,?,?,?,?,?)\nok\nINSERT INTO video (platform,name,updatet,m3u8,download,author_id) VALUES (?,?,?,?,?,?)\nok\nINSERT INTO video (platform,name,updatet,m3u8,download,author_id) VALUES (?,?,?,?,?,?)\nok\nINSERT INTO video (platform,name,updatet,m3u8,download,author_id) VALUES (?,?,?,?,?,?)\nok\nINSERT INTO video (platform,name,updatet,m3u8,download,author_id) VALUES (?,?,?,?,?,?)\nok\nINSERT INTO video (platform,name,updatet,m3u8,download,author_id) VALUES (?,?,?,?,?,?)\nok\nINSERT INTO video (platform,name,updatet,m3u8,download,author_id) VALUES (?,?,?,?,?,?)\nok\nINSERT INTO video (platform,name,updatet,m3u8,download,author_id) VALUES (?,?,?,?,?,?)\nok\nINSERT INTO video (platform,name,updatet,m3u8,download,author_id) VALUES (?,?,?,?,?,?)\nok\nINSERT INTO video (platform,name,updatet,m3u8,download,author_id) VALUES (?,?,?,?,?,?)\nok\nINSERT INTO video (platform,name,updatet,m3u8,download,author_id) VALUES (?,?,?,?,?,?)\nok\nINSERT INTO video (platform,name,updatet,m3u8,download,author_id) VALUES (?,?,?,?,?,?)\nok\nINSERT INTO video (platform,name,updatet,m3u8,download,author_id) VALUES (?,?,?,?,?,?)\nok\nINSERT INTO video (platform,name,updatet,m3u8,download,author_id) VALUES (?,?,?,?,?,?)\nok\nINSERT INTO video (platform,name,updatet,m3u8,download,author_id) VALUES (?,?,?,?,?,?)\nok\nINSERT INTO video (platform,name,updatet,m3u8,download,author_id) VALUES (?,?,?,?,?,?)\nok\nINSERT INTO video (platform,name,updatet,m3u8,download,author_id) VALUES (?,?,?,?,?,?)\nok\nINSERT INTO video (platform,name,updatet,m3u8,download,author_id) VALUES (?,?,?,?,?,?)\nok\nINSERT INTO video (platform,name,updatet,m3u8,download,author_id) VALUES (?,?,?,?,?,?)\nok\nINSERT INTO video (platform,name,updatet,m3u8,download,author_id) VALUES (?,?,?,?,?,?)\nok\nINSERT INTO video (platform,name,updatet,m3u8,download,author_id) VALUES (?,?,?,?,?,?)\nok\nINSERT INTO video (platform,name,updatet,m3u8,download,author_id) VALUES (?,?,?,?,?,?)\nok\nINSERT INTO video (platform,name,updatet,m3u8,download,author_id) VALUES (?,?,?,?,?,?)\nok\nINSERT INTO video (platform,name,updatet,m3u8,download,author_id) VALUES (?,?,?,?,?,?)\nok\nINSERT INTO video (platform,name,updatet,m3u8,download,author_id) VALUES (?,?,?,?,?,?)\nok\nINSERT INTO video (platform,name,updatet,m3u8,download,author_id) VALUES (?,?,?,?,?,?)\nok\nINSERT INTO video (platform,name,updatet,m3u8,download,author_id) VALUES (?,?,?,?,?,?)\nok\nINSERT INTO video (platform,name,updatet,m3u8,download,author_id) VALUES (?,?,?,?,?,?)\nok\nINSERT INTO video (platform,name,updatet,m3u8,download,author_id) VALUES (?,?,?,?,?,?)\nok\nINSERT INTO video (platform,name,updatet,m3u8,download,author_id) VALUES (?,?,?,?,?,?)\nok\nINSERT INTO video (platform,name,updatet,m3u8,download,author_id) VALUES (?,?,?,?,?,?)\nok\nINSERT INTO video (platform,name,updatet,m3u8,download,author_id) VALUES (?,?,?,?,?,?)\nok\nINSERT INTO video (platform,name,updatet,m3u8,download,author_id) VALUES (?,?,?,?,?,?)\nok\nINSERT INTO video (platform,name,updatet,m3u8,download,author_id) VALUES (?,?,?,?,?,?)\nok\nINSERT INTO video (platform,name,updatet,m3u8,download,author_id) VALUES (?,?,?,?,?,?)\nok\nINSERT INTO video (platform,name,updatet,m3u8,download,author_id) VALUES (?,?,?,?,?,?)\n"
    }
   ],
   "source": [
    "\n",
    "def insertdb(c,jsondata):#将json文件插入数据库\n",
    "    columnname=''\n",
    "    values=\"\"\n",
    "    para=[]\n",
    "    for key,vals in jsondata.items():\n",
    "        columnname+=(key+',')\n",
    "        values+='?,'\n",
    "        if isinstance(vals, dict):\n",
    "            tempvals=json.dumps(vals)\n",
    "            para.append(tempvals)\n",
    "        else:\n",
    "            para.append(jsondata[key])\n",
    "\n",
    "    columnname+='author_id'\n",
    "    values+='?'\n",
    "    para.append(1)\n",
    "    tempsql='INSERT INTO video (%s) VALUES (%s)'%(columnname,values)\n",
    "    print(tempsql)\n",
    "    c.execute(tempsql,para)\n",
    "\n",
    "\n",
    "for tempdata in updatelist:\n",
    "    sqlres=c.execute(\"SELECT id,platform,screen FROM video WHERE name=?\",[tempdata['name']]).fetchall()\n",
    "    if(not sqlres):\n",
    "        print('ok')\n",
    "        insertdb(c,tempdata)\n",
    "\n",
    ""
   ]
  },
  {
   "cell_type": "code",
   "execution_count": 7,
   "metadata": {},
   "outputs": [],
   "source": [
    "con.commit()\n",
    "con.close()"
   ]
  },
  {
   "cell_type": "code",
   "execution_count": 2,
   "metadata": {},
   "outputs": [
    {
     "output_type": "execute_result",
     "data": {
      "text/plain": "1586255787.749435"
     },
     "metadata": {},
     "execution_count": 2
    }
   ],
   "source": [
    "import time\n",
    "time.time()-24*2*60*60\n",
    ""
   ]
  },
  {
   "cell_type": "code",
   "execution_count": 14,
   "metadata": {},
   "outputs": [
    {
     "output_type": "stream",
     "name": "stderr",
     "text": "ERROR:root:/?m=vod-index-pg-2.html\n"
    }
   ],
   "source": [
    "import logging\n",
    "LOG_FORMAT = \"%(asctime)s - %(levelname)s - %(message)s\"\n",
    "logging.basicConfig(filename='./my.log', level=logging.DEBUG, format=LOG_FORMAT)\n",
    "r=session.get('http://www.zuidazy5.com/')\n",
    "for tempa in r.html.xpath(\"//a\"):\n",
    "    if tempa.text==\"下一页\":\n",
    "        logging.error(tempa.attrs['href'])"
   ]
  },
  {
   "cell_type": "code",
   "execution_count": 1,
   "metadata": {},
   "outputs": [],
   "source": [
    "import logging\n",
    "LOG_FORMAT = \"%(asctime)s - %(levelname)s - %(message)s\"\n",
    "logging.basicConfig(filename='./my.log', level=logging.DEBUG, format=LOG_FORMAT)\n",
    "\n",
    "logging.debug(\"This is a debug log.\")\n",
    "logging.info(\"This is a info log.\")\n",
    "logging.warning(\"This is a warning log.\")\n",
    "logging.error(\"This is a error log.\")\n",
    "logging.critical(\"This is a critical log.\")"
   ]
  },
  {
   "cell_type": "code",
   "execution_count": 8,
   "metadata": {},
   "outputs": [],
   "source": [
    "searchsql='SELECT * from video where id=%d'%10\n",
    "searchres=con.execute(searchsql).fetchall()"
   ]
  },
  {
   "cell_type": "code",
   "execution_count": 11,
   "metadata": {},
   "outputs": [
    {
     "output_type": "execute_result",
     "data": {
      "text/plain": "(10,\n 1,\n '风尘三侠之红拂女',\n 'https://rpg.pic-imges.com/pic/upload/vod/2020-04/1586408259.jpg',\n '完结',\n '红拂女',\n '崔宝珠,侯继元,任海滔,梁德华',\n '舒淇,霍建华,江华,杨渝渝,姚采颖,郑则仕,李乐,于荣光,贾乃亮,侯勇,庞庸之,罗湘晋,刘芸,司光敏,董志华,张春仲,秦焰,铁鹤,王星凯,白玉,刘新渝,董艺薇,张宇,张熙,蔡小龙,赵冬柏,郭明翰,侯桐江,李方之,郭鑫,舒丽,吴东明,于文',\n '国产剧 古装',\n '大陆',\n '国语',\n '2006',\n '45',\n '2020-04-09 12:57:39',\n '0',\n '0',\n '0',\n '0',\n '红拂（舒淇饰）是隋朝大司空杨素的家伎，她不但貌美聪慧，更有一身过人武艺。杨素为巩固势力，在自己的司空府地下，建造了一座神秘地下城。杀手之王独孤城（江华饰）是他的义子，也是负责管理这座地下城的人。红拂父母亲被杀后，独孤城将幼小的红拂带回地下城，并且都她武艺，使她成为地宫暗人。红拂逐渐长大，她所有的少女情怀都寄托在独孤城身上。然而夺去她童贞的却是杨素。杨素把持朝纲，一手遮天，为了铲除异己，他训练暗人大肆杀戮。并命令“阴世师”用活人残忍的练制刀枪不入，力大无穷的杀人机器--战奴。一时间，朝廷内外血雨腥风，动荡不堪…… 大司空府的招贤大会上，满腹经纶的李靖（霍建华饰）出尽风头。他不但破了杨素亲自设计的阵法，还赢得了红拂的青睐，杨素决定要杀李靖，并故意指派红拂去执行这个任务。红拂夜访李靖，劝他逃亡。杨素又派了抱琴与绿羽追杀李靖。红拂不得已现身护卫李靖，正式走上了背离地下宫的不归路。红拂与李靖一路逃避独孤城和抱琴的追杀，多次面对生死关头，地一人同心同命。逐渐培养了情感，李靖决定娶红拂为妻。两人在灵石镇简陋的客栈里举行婚礼，这时，顶尖高手虬髯客（于荣光饰）出现了，虬髯客与红拂，李靖一见如故，虬 髯客发现红拂与自己都姓张，于是两个结拜为兄妹，虬髯客家中排行三，红拂唤他“三哥”，而红拂行一，虬髯客唤她“一妹”，兄妹相知相惜，江湖人称“风尘三侠”。为逃避追杀，红拂一行人往瓦岗寨行去，被独孤城、抱琴追上，虬髯客与独孤城两个绝世高手展开了一场惊天动地的生死决杀，在混战中，抱琴使地下宫独门暗器炸毁了山崖，李靖和红拂双双落入山涧。李靖被涧水冲往岸边，为平阳公主所救。红拂在涧水中沉没，遇到了李世民。李靖，虬髯客，李世民惺惺相惜，成为了并肩战友。李世民遭到太子李建成以及李元吉的追杀逃到少林寺，幸得风尘三侠和少林僧兵的鼎力相助才得以击退追兵，于是李世民邀请风尘三侠协助自己打下天。李靖自小的抱负，终于得到了施展之地，他协助李世民四处征战，成就了一代霸业……',\n '{\"\\\\u7b2c01\\\\u96c6\": \"https://youku.cdn6-okzy.com/share/685138c78cb1942acc9676a476c59909\", \"\\\\u7b2c02\\\\u96c6\": \"https://youku.cdn6-okzy.com/share/69ceed2a4ffe2ae23f8abf71d534a4bd\", \"\\\\u7b2c03\\\\u96c6\": \"https://youku.cdn6-okzy.com/share/6a269e454c941c0d21cc80b949ddc4c9\", \"\\\\u7b2c04\\\\u96c6\": \"https://youku.cdn6-okzy.com/share/fee63dbf9ecae028b17151670b5945ff\", \"\\\\u7b2c05\\\\u96c6\": \"https://youku.cdn6-okzy.com/share/6be210fa28284f66de0df4b76f288fe7\", \"\\\\u7b2c06\\\\u96c6\": \"https://youku.cdn6-okzy.com/share/dffa5b524eb9e13af2378a34612ddc03\", \"\\\\u7b2c07\\\\u96c6\": \"https://youku.cdn6-okzy.com/share/23b3ec0c082bcc9d9b0c4e25989bdd22\", \"\\\\u7b2c08\\\\u96c6\": \"https://youku.cdn6-okzy.com/share/e57d5fa2d518200b6e8115f6161768e1\", \"\\\\u7b2c09\\\\u96c6\": \"https://youku.cdn6-okzy.com/share/d52a77a7e1cfe7d483b6539171b03e64\", \"\\\\u7b2c10\\\\u96c6\": \"https://youku.cdn6-okzy.com/share/41de57ab08378f2242821fadf055128b\", \"\\\\u7b2c11\\\\u96c6\": \"https://youku.cdn6-okzy.com/share/1f6a5655478c2f55c9c37207e46a6415\", \"\\\\u7b2c12\\\\u96c6\": \"https://youku.cdn6-okzy.com/share/cd7c61ef36c7ef4733b4f88fa19f403e\", \"\\\\u7b2c13\\\\u96c6\": \"https://youku.cdn6-okzy.com/share/3afe923266f0b23c836dcc7ce34a6a7a\", \"\\\\u7b2c14\\\\u96c6\": \"https://youku.cdn6-okzy.com/share/7278d0d386dcc62e9c1bd86449fd41de\", \"\\\\u7b2c15\\\\u96c6\": \"https://youku.cdn6-okzy.com/share/f559cf7514371d4acdaa13b23279b874\", \"\\\\u7b2c16\\\\u96c6\": \"https://youku.cdn6-okzy.com/share/16a8df1b9fc4ed0c3af66ea89567b0bb\", \"\\\\u7b2c17\\\\u96c6\": \"https://youku.cdn6-okzy.com/share/86ad2abe9aa87efa03c4bbee3fb005b2\", \"\\\\u7b2c18\\\\u96c6\": \"https://youku.cdn6-okzy.com/share/8d297a658bd8918ca2428789005950df\", \"\\\\u7b2c19\\\\u96c6\": \"https://youku.cdn6-okzy.com/share/6b5d0830f5e349e537c9c4d427f2614f\", \"\\\\u7b2c20\\\\u96c6\": \"https://youku.cdn6-okzy.com/share/60d2f1e9a5d618bdc95426f85848c724\", \"\\\\u7b2c21\\\\u96c6\": \"https://youku.cdn6-okzy.com/share/e64a98242922f7799ec4a0ad6999924f\", \"\\\\u7b2c22\\\\u96c6\": \"https://youku.cdn6-okzy.com/share/d69fe70acfb29c30d1a8a7735bc53b58\", \"\\\\u7b2c23\\\\u96c6\": \"https://youku.cdn6-okzy.com/share/acf25149ba32bda3fc88c2abd6eb3e97\", \"\\\\u7b2c24\\\\u96c6\": \"https://youku.cdn6-okzy.com/share/2979158b9c1e72755a8961f03e3580f5\", \"\\\\u7b2c25\\\\u96c6\": \"https://youku.cdn6-okzy.com/share/ad7b25e2374b423547e6783add6d7428\", \"\\\\u7b2c26\\\\u96c6\": \"https://youku.cdn6-okzy.com/share/ae93f6696a2a89b67aa6fb45092eded7\", \"\\\\u7b2c27\\\\u96c6\": \"https://youku.cdn6-okzy.com/share/9016512cbdfaa7634ba35dd446297b7b\", \"\\\\u7b2c28\\\\u96c6\": \"https://youku.cdn6-okzy.com/share/1464c98e03f4acaaa81a96ada1b8c61c\", \"\\\\u7b2c29\\\\u96c6\": \"https://youku.cdn6-okzy.com/share/da5cfc421d669f067695b76deae947d9\", \"\\\\u7b2c30\\\\u96c6\": \"https://youku.cdn6-okzy.com/share/7558a03211f17086e4b8d0fbd35e9a6a\"}',\n '{\"\\\\u7b2c01\\\\u96c6\": \"https://youku.cdn6-okzy.com/20200409/19024_865c0aa3/index.m3u8\", \"\\\\u7b2c02\\\\u96c6\": \"https://youku.cdn6-okzy.com/20200409/19025_0483a3a9/index.m3u8\", \"\\\\u7b2c03\\\\u96c6\": \"https://youku.cdn6-okzy.com/20200409/19026_f8e9fd1b/index.m3u8\", \"\\\\u7b2c04\\\\u96c6\": \"https://youku.cdn6-okzy.com/20200409/19027_b2ab7220/index.m3u8\", \"\\\\u7b2c05\\\\u96c6\": \"https://youku.cdn6-okzy.com/20200409/19028_b2d69698/index.m3u8\", \"\\\\u7b2c06\\\\u96c6\": \"https://youku.cdn6-okzy.com/20200409/19029_57e3ce85/index.m3u8\", \"\\\\u7b2c07\\\\u96c6\": \"https://youku.cdn6-okzy.com/20200409/19030_8ea79ca0/index.m3u8\", \"\\\\u7b2c08\\\\u96c6\": \"https://youku.cdn6-okzy.com/20200409/19031_9f34b465/index.m3u8\", \"\\\\u7b2c09\\\\u96c6\": \"https://youku.cdn6-okzy.com/20200409/19032_61bd2ee3/index.m3u8\", \"\\\\u7b2c10\\\\u96c6\": \"https://youku.cdn6-okzy.com/20200409/19033_30cc02d8/index.m3u8\", \"\\\\u7b2c11\\\\u96c6\": \"https://youku.cdn6-okzy.com/20200409/19034_7a2f8bfd/index.m3u8\", \"\\\\u7b2c12\\\\u96c6\": \"https://youku.cdn6-okzy.com/20200409/19035_8bb1c0b7/index.m3u8\", \"\\\\u7b2c13\\\\u96c6\": \"https://youku.cdn6-okzy.com/20200409/19036_17394f38/index.m3u8\", \"\\\\u7b2c14\\\\u96c6\": \"https://youku.cdn6-okzy.com/20200409/19037_0cf787d7/index.m3u8\", \"\\\\u7b2c15\\\\u96c6\": \"https://youku.cdn6-okzy.com/20200409/19038_1fd25071/index.m3u8\", \"\\\\u7b2c16\\\\u96c6\": \"https://youku.cdn6-okzy.com/20200409/19039_ad63d21c/index.m3u8\", \"\\\\u7b2c17\\\\u96c6\": \"https://youku.cdn6-okzy.com/20200409/19040_72ef1b1e/index.m3u8\", \"\\\\u7b2c18\\\\u96c6\": \"https://youku.cdn6-okzy.com/20200409/19041_0422f505/index.m3u8\", \"\\\\u7b2c19\\\\u96c6\": \"https://youku.cdn6-okzy.com/20200409/19042_0c31d1ad/index.m3u8\", \"\\\\u7b2c20\\\\u96c6\": \"https://youku.cdn6-okzy.com/20200409/19043_7384972e/index.m3u8\", \"\\\\u7b2c21\\\\u96c6\": \"https://youku.cdn6-okzy.com/20200409/19044_169de5d1/index.m3u8\", \"\\\\u7b2c22\\\\u96c6\": \"https://youku.cdn6-okzy.com/20200409/19045_7c1c3a9f/index.m3u8\", \"\\\\u7b2c23\\\\u96c6\": \"https://youku.cdn6-okzy.com/20200409/19046_2531c753/index.m3u8\", \"\\\\u7b2c24\\\\u96c6\": \"https://youku.cdn6-okzy.com/20200409/19047_136bf1f0/index.m3u8\", \"\\\\u7b2c25\\\\u96c6\": \"https://youku.cdn6-okzy.com/20200409/19048_e5d4690f/index.m3u8\", \"\\\\u7b2c26\\\\u96c6\": \"https://youku.cdn6-okzy.com/20200409/19049_f822a0bc/index.m3u8\", \"\\\\u7b2c27\\\\u96c6\": \"https://youku.cdn6-okzy.com/20200409/19050_a965c297/index.m3u8\", \"\\\\u7b2c28\\\\u96c6\": \"https://youku.cdn6-okzy.com/20200409/19051_c41f8333/index.m3u8\", \"\\\\u7b2c29\\\\u96c6\": \"https://youku.cdn6-okzy.com/20200409/19052_79958cab/index.m3u8\", \"\\\\u7b2c30\\\\u96c6\": \"https://youku.cdn6-okzy.com/20200409/19053_6c7f08f9/index.m3u8\"}',\n '{\"\\\\u7b2c01\\\\u96c6\": \"http://down.okdown7.com/20200409/19024_865c0aa3/\\\\u98ce\\\\u5c18\\\\u4e09\\\\u4fa0\\\\u4e4b\\\\u7ea2\\\\u62c2\\\\u5973EP01.mp4\", \"\\\\u7b2c02\\\\u96c6\": \"http://down.okdown7.com/20200409/19025_0483a3a9/\\\\u98ce\\\\u5c18\\\\u4e09\\\\u4fa0\\\\u4e4b\\\\u7ea2\\\\u62c2\\\\u5973EP02.mp4\", \"\\\\u7b2c03\\\\u96c6\": \"http://down.okdown7.com/20200409/19026_f8e9fd1b/\\\\u98ce\\\\u5c18\\\\u4e09\\\\u4fa0\\\\u4e4b\\\\u7ea2\\\\u62c2\\\\u5973EP03.mp4\", \"\\\\u7b2c04\\\\u96c6\": \"http://down.okdown7.com/20200409/19027_b2ab7220/\\\\u98ce\\\\u5c18\\\\u4e09\\\\u4fa0\\\\u4e4b\\\\u7ea2\\\\u62c2\\\\u5973EP04.mp4\", \"\\\\u7b2c05\\\\u96c6\": \"http://down.okdown7.com/20200409/19028_b2d69698/\\\\u98ce\\\\u5c18\\\\u4e09\\\\u4fa0\\\\u4e4b\\\\u7ea2\\\\u62c2\\\\u5973EP05.mp4\", \"\\\\u7b2c06\\\\u96c6\": \"http://down.okdown7.com/20200409/19029_57e3ce85/\\\\u98ce\\\\u5c18\\\\u4e09\\\\u4fa0\\\\u4e4b\\\\u7ea2\\\\u62c2\\\\u5973EP06.mp4\", \"\\\\u7b2c07\\\\u96c6\": \"http://down.okdown7.com/20200409/19030_8ea79ca0/\\\\u98ce\\\\u5c18\\\\u4e09\\\\u4fa0\\\\u4e4b\\\\u7ea2\\\\u62c2\\\\u5973EP07.mp4\", \"\\\\u7b2c08\\\\u96c6\": \"http://down.okdown7.com/20200409/19031_9f34b465/\\\\u98ce\\\\u5c18\\\\u4e09\\\\u4fa0\\\\u4e4b\\\\u7ea2\\\\u62c2\\\\u5973EP08.mp4\", \"\\\\u7b2c09\\\\u96c6\": \"http://down.okdown7.com/20200409/19032_61bd2ee3/\\\\u98ce\\\\u5c18\\\\u4e09\\\\u4fa0\\\\u4e4b\\\\u7ea2\\\\u62c2\\\\u5973EP09.mp4\", \"\\\\u7b2c10\\\\u96c6\": \"http://down.okdown7.com/20200409/19033_30cc02d8/\\\\u98ce\\\\u5c18\\\\u4e09\\\\u4fa0\\\\u4e4b\\\\u7ea2\\\\u62c2\\\\u5973EP10.mp4\", \"\\\\u7b2c11\\\\u96c6\": \"http://down.okdown7.com/20200409/19034_7a2f8bfd/\\\\u98ce\\\\u5c18\\\\u4e09\\\\u4fa0\\\\u4e4b\\\\u7ea2\\\\u62c2\\\\u5973EP11.mp4\", \"\\\\u7b2c12\\\\u96c6\": \"http://down.okdown7.com/20200409/19035_8bb1c0b7/\\\\u98ce\\\\u5c18\\\\u4e09\\\\u4fa0\\\\u4e4b\\\\u7ea2\\\\u62c2\\\\u5973EP12.mp4\", \"\\\\u7b2c13\\\\u96c6\": \"http://down.okdown7.com/20200409/19036_17394f38/\\\\u98ce\\\\u5c18\\\\u4e09\\\\u4fa0\\\\u4e4b\\\\u7ea2\\\\u62c2\\\\u5973EP13.mp4\", \"\\\\u7b2c14\\\\u96c6\": \"http://down.okdown7.com/20200409/19037_0cf787d7/\\\\u98ce\\\\u5c18\\\\u4e09\\\\u4fa0\\\\u4e4b\\\\u7ea2\\\\u62c2\\\\u5973EP14.mp4\", \"\\\\u7b2c15\\\\u96c6\": \"http://down.okdown7.com/20200409/19038_1fd25071/\\\\u98ce\\\\u5c18\\\\u4e09\\\\u4fa0\\\\u4e4b\\\\u7ea2\\\\u62c2\\\\u5973EP15.mp4\", \"\\\\u7b2c16\\\\u96c6\": \"http://down.okdown7.com/20200409/19039_ad63d21c/\\\\u98ce\\\\u5c18\\\\u4e09\\\\u4fa0\\\\u4e4b\\\\u7ea2\\\\u62c2\\\\u5973EP16.mp4\", \"\\\\u7b2c17\\\\u96c6\": \"http://down.okdown7.com/20200409/19040_72ef1b1e/\\\\u98ce\\\\u5c18\\\\u4e09\\\\u4fa0\\\\u4e4b\\\\u7ea2\\\\u62c2\\\\u5973EP17.mp4\", \"\\\\u7b2c18\\\\u96c6\": \"http://down.okdown7.com/20200409/19041_0422f505/\\\\u98ce\\\\u5c18\\\\u4e09\\\\u4fa0\\\\u4e4b\\\\u7ea2\\\\u62c2\\\\u5973EP18.mp4\", \"\\\\u7b2c19\\\\u96c6\": \"http://down.okdown7.com/20200409/19042_0c31d1ad/\\\\u98ce\\\\u5c18\\\\u4e09\\\\u4fa0\\\\u4e4b\\\\u7ea2\\\\u62c2\\\\u5973EP19.mp4\", \"\\\\u7b2c20\\\\u96c6\": \"http://down.okdown7.com/20200409/19043_7384972e/\\\\u98ce\\\\u5c18\\\\u4e09\\\\u4fa0\\\\u4e4b\\\\u7ea2\\\\u62c2\\\\u5973EP20.mp4\", \"\\\\u7b2c21\\\\u96c6\": \"http://down.okdown7.com/20200409/19044_169de5d1/\\\\u98ce\\\\u5c18\\\\u4e09\\\\u4fa0\\\\u4e4b\\\\u7ea2\\\\u62c2\\\\u5973EP21.mp4\", \"\\\\u7b2c22\\\\u96c6\": \"http://down.okdown7.com/20200409/19045_7c1c3a9f/\\\\u98ce\\\\u5c18\\\\u4e09\\\\u4fa0\\\\u4e4b\\\\u7ea2\\\\u62c2\\\\u5973EP22.mp4\", \"\\\\u7b2c23\\\\u96c6\": \"http://down.okdown7.com/20200409/19046_2531c753/\\\\u98ce\\\\u5c18\\\\u4e09\\\\u4fa0\\\\u4e4b\\\\u7ea2\\\\u62c2\\\\u5973EP23.mp4\", \"\\\\u7b2c24\\\\u96c6\": \"http://down.okdown7.com/20200409/19047_136bf1f0/\\\\u98ce\\\\u5c18\\\\u4e09\\\\u4fa0\\\\u4e4b\\\\u7ea2\\\\u62c2\\\\u5973EP24.mp4\", \"\\\\u7b2c25\\\\u96c6\": \"http://down.okdown7.com/20200409/19048_e5d4690f/\\\\u98ce\\\\u5c18\\\\u4e09\\\\u4fa0\\\\u4e4b\\\\u7ea2\\\\u62c2\\\\u5973EP25.mp4\", \"\\\\u7b2c26\\\\u96c6\": \"http://down.okdown7.com/20200409/19049_f822a0bc/\\\\u98ce\\\\u5c18\\\\u4e09\\\\u4fa0\\\\u4e4b\\\\u7ea2\\\\u62c2\\\\u5973EP26.mp4\", \"\\\\u7b2c27\\\\u96c6\": \"http://down.okdown7.com/20200409/19050_a965c297/\\\\u98ce\\\\u5c18\\\\u4e09\\\\u4fa0\\\\u4e4b\\\\u7ea2\\\\u62c2\\\\u5973EP27.mp4\", \"\\\\u7b2c28\\\\u96c6\": \"http://down.okdown7.com/20200409/19051_c41f8333/\\\\u98ce\\\\u5c18\\\\u4e09\\\\u4fa0\\\\u4e4b\\\\u7ea2\\\\u62c2\\\\u5973EP28.mp4\", \"\\\\u7b2c29\\\\u96c6\": \"http://down.okdown7.com/20200409/19052_79958cab/\\\\u98ce\\\\u5c18\\\\u4e09\\\\u4fa0\\\\u4e4b\\\\u7ea2\\\\u62c2\\\\u5973EP29.mp4\", \"\\\\u7b2c30\\\\u96c6\": \"http://down.okdown7.com/20200409/19053_6c7f08f9/\\\\u98ce\\\\u5c18\\\\u4e09\\\\u4fa0\\\\u4e4b\\\\u7ea2\\\\u62c2\\\\u5973EP30.mp4\"}',\n 'http://www.okzy.co/',\n None,\n None,\n None,\n None,\n None)"
     },
     "metadata": {},
     "execution_count": 11
    }
   ],
   "source": [
    "searchres[0]"
   ]
  },
  {
   "cell_type": "code",
   "execution_count": 19,
   "metadata": {},
   "outputs": [
    {
     "output_type": "stream",
     "name": "stdout",
     "text": "a\nb\nc\n"
    }
   ],
   "source": [
    "a={'1':'a','2':'b','3':'c'}\n",
    "for i in a.values():\n",
    "    print(i)"
   ]
  },
  {
   "cell_type": "code",
   "execution_count": 36,
   "metadata": {},
   "outputs": [],
   "source": [
    "a=c.execute('select count(*) from video').fetchall()[0][0]"
   ]
  },
  {
   "cell_type": "code",
   "execution_count": 37,
   "metadata": {},
   "outputs": [
    {
     "output_type": "execute_result",
     "data": {
      "text/plain": "307"
     },
     "metadata": {},
     "execution_count": 37
    }
   ],
   "source": [
    "a"
   ]
  },
  {
   "cell_type": "code",
   "execution_count": null,
   "metadata": {},
   "outputs": [],
   "source": []
  }
 ]
}